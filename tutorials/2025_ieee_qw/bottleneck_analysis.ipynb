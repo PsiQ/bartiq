{
 "cells": [
  {
   "cell_type": "markdown",
   "id": "fd935148",
   "metadata": {},
   "source": [
    "# Bottleneck analysis\n",
    "\n",
    "When analyzing the resource estimates of a given quantum program, `bartiq` allows us to identify how these values are being constructed. The recursive, tree-like structure of `bartiq` `Routines` means that finding _algorithmic bottlenecks_ is straightforward. An algorithmic bottleneck refers to a particular subroutine that, perhaps unexpectedly, demands a significant portion of our total resource budget. \n",
    "\n",
    "This type of anaylsis allows us to target scientific research onto particularly costly subroutines. By highlighting where our logical resource budget is being spent, we may be able to improve our algorithms further.\n",
    "\n",
    "Bottleneck analysis is easiest with numeric routines, as comparing symbolic expressions can be tricky. Here, we load in the Double Factorization routine and evaluate it for a given physical system.\n"
   ]
  },
  {
   "cell_type": "code",
   "execution_count": null,
   "id": "a3500975",
   "metadata": {},
   "outputs": [],
   "source": [
    "from bartiq import CompiledRoutine, sympy_backend, evaluate\n",
    "import yaml\n",
    "\n",
    "with open(\"../data/double_factorization_compiled.yaml\", \"r\") as f:\n",
    "    compiled_routine = CompiledRoutine.from_qref(yaml.safe_load(f), sympy_backend)\n",
    "\n",
    "assignments = {\n",
    "    \"N_spatial\": 35,\n",
    "    \"M_r\": int(7590 / 298),\n",
    "    \"R\": 298,\n",
    "    \"b_as\": 10,\n",
    "    \"b_mas\": 10,\n",
    "    \"b_givens\": 20,\n",
    "    \"lamda\": 4,\n",
    "}\n",
    "df = evaluate(compiled_routine, assignments=assignments).routine"
   ]
  },
  {
   "cell_type": "markdown",
   "id": "87fc57e7",
   "metadata": {},
   "source": [
    "We can see the exact resource estimates when we call `.resource_values`:"
   ]
  },
  {
   "cell_type": "code",
   "execution_count": 173,
   "id": "f258a6e7",
   "metadata": {},
   "outputs": [
    {
     "data": {
      "text/plain": [
       "{'active_volume': 9218713.5,\n",
       " 'gidney_lelbows': 18380,\n",
       " 'gidney_relbows': 18380,\n",
       " 'measurements': 5750,\n",
       " 'ppms': 0,\n",
       " 'pprs': 272,\n",
       " 'rotations': 21,\n",
       " 't_gates': 217,\n",
       " 'toffs': 7224}"
      ]
     },
     "execution_count": 173,
     "metadata": {},
     "output_type": "execute_result"
    }
   ],
   "source": [
    "df.resource_values"
   ]
  },
  {
   "cell_type": "markdown",
   "id": "8d238957",
   "metadata": {},
   "source": [
    "For this exercise we'll look at the **active volume** resource --- [PsiQuantum's metric](https://arxiv.org/abs/2211.15465) for quantifying the logical cost of a quantum program. Which subroutine(s) are contributing the  most active volume?\n",
    "\n",
    "The following snippet traverses the `.children` property of `df`, our `CompiledRoutine`, and returns a list of tuples: the name of the subroutine (or `child`) and its individual active volume contribution."
   ]
  },
  {
   "cell_type": "code",
   "execution_count": 183,
   "id": "3f6de8f2",
   "metadata": {},
   "outputs": [
    {
     "data": {
      "text/plain": [
       "[('RotationCatalystStatePrep_compute_0', 23842.5), ('LCU_compute_0', 9194871)]"
      ]
     },
     "execution_count": 183,
     "metadata": {},
     "output_type": "execute_result"
    }
   ],
   "source": [
    "[\n",
    "    (child_name, av)\n",
    "    for child_name, child_routine in df.children.items()\n",
    "    if (av := child_routine.resource_values.get(\"active_volume\", None))\n",
    "]"
   ]
  },
  {
   "cell_type": "markdown",
   "id": "e2b2a80e",
   "metadata": {},
   "source": [
    "`LCU_compute_0` ('LCU' referring to the process of [linear combination of unitaries](https://pennylane.ai/qml/demos/tutorial_lcu_blockencoding)) is far and away the dominant contribution of active volume at this level. By running the same snippet on the `LCU` object, we'd get the same information at a layer lower.\n",
    "\n",
    "Below is a helper function that accepts in a compiled routine object, and an optional resource name, and returns the contributions of the child routines."
   ]
  },
  {
   "cell_type": "code",
   "execution_count": 184,
   "id": "a072cd23",
   "metadata": {},
   "outputs": [],
   "source": [
    "def child_contributions_to_parent_resource(\n",
    "    routine: CompiledRoutine, resource: str = \"active_volume\"\n",
    ") -> dict[str, int | float]:\n",
    "    \"\"\"For a given routine, check the resource cost of its children.\"\"\"\n",
    "    return {\n",
    "        child_name: resource_value\n",
    "        for child_name, child_routine in routine.children.items()\n",
    "        if (resource_value := child_routine.resource_values.get(resource, None))\n",
    "    }"
   ]
  },
  {
   "cell_type": "code",
   "execution_count": 189,
   "id": "43587d4a",
   "metadata": {},
   "outputs": [
    {
     "data": {
      "text/plain": [
       "{'DataLookupClean_compute_0': 15506,\n",
       " 'OneElectronTermBlockEncoding_compute_0': 4573115,\n",
       " 'z_0': 439,\n",
       " 'OneElectronTermBlockEncoding_compute_1': 4573164,\n",
       " 'DataLookupClean_uncompute_0': 4250}"
      ]
     },
     "execution_count": 189,
     "metadata": {},
     "output_type": "execute_result"
    }
   ],
   "source": [
    "child_contributions_to_parent_resource(df.children[\"LCU_compute_0\"].children[\"DoubleFactorizationSelect_compute_0\"])"
   ]
  },
  {
   "cell_type": "markdown",
   "id": "3c6a010b",
   "metadata": {},
   "source": [
    "## Exercise"
   ]
  },
  {
   "cell_type": "markdown",
   "id": "a37e326d",
   "metadata": {},
   "source": [
    "Write a script that recursively finds the most expensive subroutine, and the pathway there. "
   ]
  },
  {
   "cell_type": "markdown",
   "id": "fbf01ece",
   "metadata": {},
   "source": [
    "## Solutions"
   ]
  },
  {
   "cell_type": "code",
   "execution_count": null,
   "id": "fdacbb2c",
   "metadata": {},
   "outputs": [],
   "source": [
    "def heaviest_branch(routine: CompiledRoutine, resource: str, pathway: list[str] | None = None):\n",
    "    pathway = pathway or []\n",
    "    pathway.append(routine.name)\n",
    "    if subroutine := routine.children.get(find_most_expensive_subroutine(routine, resource), None):\n",
    "        pathway = heaviest_branch(subroutine, resource, pathway)\n",
    "    return pathway\n",
    "\n",
    "\n",
    "def find_most_expensive_subroutine(routine: CompiledRoutine, resource: str) -> CompiledRoutine | None:\n",
    "    try:\n",
    "        return sorted(\n",
    "            child_contributions_to_parent_resource(routine, resource).items(), key=lambda item: item[1], reverse=True\n",
    "        )[0][0]\n",
    "    except IndexError:\n",
    "        return None"
   ]
  }
 ],
 "metadata": {
  "kernelspec": {
   "display_name": "bartiq-py3.12",
   "language": "python",
   "name": "python3"
  },
  "language_info": {
   "codemirror_mode": {
    "name": "ipython",
    "version": 3
   },
   "file_extension": ".py",
   "mimetype": "text/x-python",
   "name": "python",
   "nbconvert_exporter": "python",
   "pygments_lexer": "ipython3",
   "version": "3.12.9"
  }
 },
 "nbformat": 4,
 "nbformat_minor": 5
}
