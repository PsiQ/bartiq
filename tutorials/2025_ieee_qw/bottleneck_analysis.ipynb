{
 "cells": [
  {
   "cell_type": "code",
   "execution_count": null,
   "id": "a3500975",
   "metadata": {},
   "outputs": [],
   "source": [
    "from bartiq import Routine, sympy_backend, evaluate\n",
    "from bartiq.compilation import compile_routine, CompilationFlags\n",
    "from pathlib import Path\n",
    "import yaml\n",
    "\n",
    "try:\n",
    "    root_dir = next(p for p in (Path.cwd().resolve(), *Path.cwd().resolve().parents) if p.parts[-1] == \"bartiq\")\n",
    "    with open(root_dir / \"tests/compilation/data/df_qref.yaml\") as f:\n",
    "        rout = Routine.from_qref(yaml.safe_load(f), sympy_backend)\n",
    "except StopIteration as exc:\n",
    "    raise ValueError(\n",
    "        \"Can't find the `bartiq` root directory! Make sure this notebook is somewhere in the `bartiq` repo.\"\n",
    "    ) from exc\n",
    "\n",
    "compiled_routine = compile_routine(rout, compilation_flags=CompilationFlags.EXPAND_RESOURCES).routine\n",
    "\n",
    "assignments = {\n",
    "    \"N_spatial\": 35,\n",
    "    \"M_r\": int(7590 / 298),\n",
    "    \"R\": 298,\n",
    "    \"b_as\": 10,\n",
    "    \"b_mas\": 10,\n",
    "    \"b_givens\": 20,\n",
    "}\n",
    "df = evaluate(compiled_routine, assignments=assignments).routine"
   ]
  },
  {
   "cell_type": "code",
   "execution_count": null,
   "id": "a072cd23",
   "metadata": {},
   "outputs": [
    {
     "data": {
      "text/plain": [
       "{'had_0': 2}"
      ]
     },
     "execution_count": 21,
     "metadata": {},
     "output_type": "execute_result"
    }
   ],
   "source": [
    "from bartiq import CompiledRoutine\n",
    "\n",
    "\n",
    "def child_contributions_to_resource(routine: CompiledRoutine, resource: str = \"t_gates\"):\n",
    "    \"\"\"For a given routine, check the resource cost of its children.\"\"\"\n",
    "    return {\n",
    "        child_name: resource_value\n",
    "        for child_name, child_routine in routine.children.items()\n",
    "        if (resource_value := child_routine.resource_values.get(resource, 0))\n",
    "    }\n",
    "\n",
    "\n",
    "child_contributions_to_resource(\n",
    "    df.children[\"LCU_compute_0\"]\n",
    "    .children[\"DoubleFactorizationSelect_compute_0\"]\n",
    "    .children[\"OneElectronTermBlockEncoding_compute_0\"]\n",
    "    .children[\"MultiplexedAliasSamplingDF_compute_0\"]\n",
    "    .children[\"MultiplexedRealUSPDF_compute_0\"]\n",
    "    .children[\"Repeated_had_0_repetition\"]\n",
    "    .children[\"Repeated_had_0\"]\n",
    ")"
   ]
  },
  {
   "cell_type": "code",
   "execution_count": 22,
   "id": "575f5e47",
   "metadata": {},
   "outputs": [
    {
     "data": {
      "text/plain": [
       "[['LCU_compute_0',\n",
       "  'DoubleFactorizationSelect_compute_0',\n",
       "  'OneElectronTermBlockEncoding_compute_0',\n",
       "  'MultiplexedAliasSamplingDF_compute_0',\n",
       "  'MultiplexedRealUSPDF_compute_0',\n",
       "  'Repeated_had_0_repetition',\n",
       "  'Repeated_had_0'],\n",
       " ['LCU_compute_0',\n",
       "  'DoubleFactorizationSelect_compute_0',\n",
       "  'OneElectronTermBlockEncoding_compute_0',\n",
       "  'MultiplexedAliasSamplingDF_uncompute_0',\n",
       "  'MultiplexedRealUSPDF_uncompute_0',\n",
       "  'Repeated_had_0_repetition',\n",
       "  'Repeated_had_0'],\n",
       " ['LCU_compute_0',\n",
       "  'DoubleFactorizationSelect_compute_0',\n",
       "  'OneElectronTermBlockEncoding_compute_1',\n",
       "  'MultiplexedAliasSamplingDF_compute_0',\n",
       "  'MultiplexedRealUSPDF_compute_0',\n",
       "  'Repeated_had_0_repetition',\n",
       "  'Repeated_had_0'],\n",
       " ['LCU_compute_0',\n",
       "  'DoubleFactorizationSelect_compute_0',\n",
       "  'OneElectronTermBlockEncoding_compute_1',\n",
       "  'MultiplexedAliasSamplingDF_uncompute_0',\n",
       "  'MultiplexedRealUSPDF_uncompute_0',\n",
       "  'Repeated_had_0_repetition',\n",
       "  'Repeated_had_0']]"
      ]
     },
     "execution_count": 22,
     "metadata": {},
     "output_type": "execute_result"
    }
   ],
   "source": [
    "df.find_descendants(\"Repeated_had_0\")"
   ]
  }
 ],
 "metadata": {
  "kernelspec": {
   "display_name": "bartiq-py3.12",
   "language": "python",
   "name": "python3"
  },
  "language_info": {
   "codemirror_mode": {
    "name": "ipython",
    "version": 3
   },
   "file_extension": ".py",
   "mimetype": "text/x-python",
   "name": "python",
   "nbconvert_exporter": "python",
   "pygments_lexer": "ipython3",
   "version": "3.12.9"
  }
 },
 "nbformat": 4,
 "nbformat_minor": 5
}
