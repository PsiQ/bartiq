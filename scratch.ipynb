{
 "cells": [
  {
   "cell_type": "code",
   "execution_count": 16,
   "id": "f1749583",
   "metadata": {},
   "outputs": [
    {
     "data": {
      "text/latex": [
       "$\\displaystyle a$"
      ],
      "text/plain": [
       "a"
      ]
     },
     "execution_count": 16,
     "metadata": {},
     "output_type": "execute_result"
    }
   ],
   "source": [
    "from sympy import Symbol, Max\n",
    "\n",
    "a = Symbol(\"a\", positive=True)\n",
    "b = Symbol(\"b\", nonnegative=True)\n",
    "Max(0, a)"
   ]
  },
  {
   "cell_type": "code",
   "execution_count": 17,
   "id": "f3c6584c",
   "metadata": {},
   "outputs": [
    {
     "data": {
      "text/latex": [
       "$\\displaystyle b$"
      ],
      "text/plain": [
       "b"
      ]
     },
     "execution_count": 17,
     "metadata": {},
     "output_type": "execute_result"
    }
   ],
   "source": [
    "Max(0, b)"
   ]
  },
  {
   "cell_type": "code",
   "execution_count": 12,
   "id": "2f2fdaf6",
   "metadata": {},
   "outputs": [],
   "source": [
    "from bartiq import sympy_backend\n",
    "\n",
    "expr = sympy_backend.as_expression(\"X~\")"
   ]
  },
  {
   "cell_type": "code",
   "execution_count": 14,
   "id": "7c64d55c",
   "metadata": {},
   "outputs": [],
   "source": [
    "sym = list(expr.free_symbols)[0]"
   ]
  },
  {
   "cell_type": "code",
   "execution_count": 15,
   "id": "ac88856b",
   "metadata": {},
   "outputs": [
    {
     "data": {
      "text/plain": [
       "False"
      ]
     },
     "execution_count": 15,
     "metadata": {},
     "output_type": "execute_result"
    }
   ],
   "source": [
    "sym.is_Wild"
   ]
  }
 ],
 "metadata": {
  "kernelspec": {
   "display_name": "bartiq-py3.12",
   "language": "python",
   "name": "python3"
  },
  "language_info": {
   "codemirror_mode": {
    "name": "ipython",
    "version": 3
   },
   "file_extension": ".py",
   "mimetype": "text/x-python",
   "name": "python",
   "nbconvert_exporter": "python",
   "pygments_lexer": "ipython3",
   "version": "3.12.9"
  }
 },
 "nbformat": 4,
 "nbformat_minor": 5
}
