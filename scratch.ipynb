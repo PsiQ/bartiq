{
 "cells": [
  {
   "cell_type": "code",
   "execution_count": 5,
   "id": "ae534342",
   "metadata": {},
   "outputs": [],
   "source": [
    "from bartiq.analysis._rewriters.sympy_rewriter import SympyExpressionRewriter\n",
    "from tests.analysis._rewriters.basic_rewriter_tests import CommonExpressions"
   ]
  },
  {
   "cell_type": "code",
   "execution_count": 2,
   "id": "2644ab81",
   "metadata": {},
   "outputs": [],
   "source": [
    "testing_expression = \"237*aleph + 55*beth*(-1 + (beth*(n/2 - 1)*(calc_lambda(M, beth*(n/2 - 1)) - 1) + beth*(n/2 - 1))/(beth*(n/2 - 1)))*(n/2 - 1) + 55*beth*(-1 + (beth*(n/2 - 1)*(calc_lambda(M + n/2, beth*(n/2 - 1)) - 1) + beth*(n/2 - 1))/(beth*(n/2 - 1)))*(n/2 - 1) + 3*beth*(n/2 - 1)*(calc_lambda(M, beth*(n/2 - 1)) - 1) + 3*beth*(n/2 - 1)*(calc_lambda(M + n/2, beth*(n/2 - 1)) - 1) + 6*beth*(n/2 - 1) + 3*beth + 110*n + (-1 + (aleph + (calc_lambda(M*(M + 1)/2 + n/2, aleph + 2*ceiling(log(M + 1)/log(2)) + 2) - 1)*(aleph + 2*ceiling(log(M + 1)/log(2)) + 2) + 2*ceiling(log(M + 1)/log(2)) + 2)/(aleph + 2*ceiling(log(M + 1)/log(2)) + 2))*(55*aleph + 110*ceiling(log(M + 1)/log(2)) + 110) + (108*beth - 40)*(2*n - 4) + (3*calc_lambda(M*(M + 1)/2 + n/2, aleph + 2*ceiling(log(M + 1)/log(2)) + 2) - 3)*(aleph + 2*ceiling(log(M + 1)/log(2)) + 2) + (ceiling(0.75*beth*(n/2 - 1)*(calc_lambda(M, beth*(n/2 - 1)) - 1) + 0.75*beth*(n/2 - 1)) + 49)*Max(0, -select_elbow_const(ceiling(M/calc_lambda(M, beth*(n/2 - 1))), 0) + ceiling(M/calc_lambda(M, beth*(n/2 - 1)))) + (ceiling(0.75*beth*(n/2 - 1)*(calc_lambda(M + n/2, beth*(n/2 - 1)) - 1) + 0.75*beth*(n/2 - 1)) + 49)*Max(0, -select_elbow_const(ceiling((M + n/2)/calc_lambda(M + n/2, beth*(n/2 - 1))), 0) + ceiling((M + n/2)/calc_lambda(M + n/2, beth*(n/2 - 1)))) + (ceiling(0.75*aleph + (0.75*calc_lambda(M*(M + 1)/2 + n/2, aleph + 2*ceiling(log(M + 1)/log(2)) + 2) - 0.75)*(aleph + 2*ceiling(log(M + 1)/log(2)) + 2) + 1.5*ceiling(log(M + 1)/log(2)) + 1.5) + 49)*Max(0, -select_elbow_const(ceiling((M*(M + 1)/2 + n/2)/calc_lambda(M*(M + 1)/2 + n/2, aleph + 2*ceiling(log(M + 1)/log(2)) + 2)), 0) + ceiling((M*(M + 1)/2 + n/2)/calc_lambda(M*(M + 1)/2 + n/2, aleph + 2*ceiling(log(M + 1)/log(2)) + 2))) + (ceiling(0.75*calc_lambda(M, 1)) + 49)*Max(0, -select_elbow_const(ceiling(M/calc_lambda(M, 1)), 0) + ceiling(M/calc_lambda(M, 1))) + (ceiling(0.75*calc_lambda(M + n/2, 1)) + 49)*Max(0, -select_elbow_const(ceiling((M + n/2)/calc_lambda(M + n/2, 1)), 0) + ceiling((M + n/2)/calc_lambda(M + n/2, 1))) + (ceiling(0.75*calc_lambda(M*(M + 1)/2 + n/2, 1)) + 49)*Max(0, -select_elbow_const(ceiling((M*(M + 1)/2 + n/2)/calc_lambda(M*(M + 1)/2 + n/2, 1)), 0) + ceiling((M*(M + 1)/2 + n/2)/calc_lambda(M*(M + 1)/2 + n/2, 1))) + 1397*Max(0, beth - 2) + 102*calc_lambda(M, 1) + 102*calc_lambda(M + n/2, 1) + 102*calc_lambda(M*(M + 1)/2 + n/2, 1) + 147*Heaviside(ceiling(log(M + 1)/log(2)) - 1.5, 0) + 94*Heaviside(2*ceiling(log(M + 1)/log(2)) - 1.5, 0) - 55*Mod(2, aleph + 2*ceiling(log(M + 1)/log(2)) + 2) + 3696*ceiling(log(M + 1)/log(2)) - 294*Min(2, ceiling(log(M + 1)/log(2))) - 98*Min(2, 2*ceiling(log(M + 1)/log(2))) + 3140.5\""
   ]
  },
  {
   "cell_type": "code",
   "execution_count": null,
   "id": "3383d2bc",
   "metadata": {},
   "outputs": [],
   "source": [
    "from sympy import Symbol\n",
    "\n",
    "O = Symbol(\"O\", integer=True)"
   ]
  },
  {
   "cell_type": "code",
   "execution_count": 6,
   "id": "17cab570",
   "metadata": {},
   "outputs": [],
   "source": [
    "expr = \"a + max(a, b) + c*b + d*(a - 1)\""
   ]
  },
  {
   "cell_type": "code",
   "execution_count": 7,
   "id": "0577fc0e",
   "metadata": {},
   "outputs": [],
   "source": [
    "rewriter = SympyExpressionRewriter(expr)"
   ]
  },
  {
   "cell_type": "code",
   "execution_count": 10,
   "id": "368137fb",
   "metadata": {},
   "outputs": [
    {
     "data": {
      "text/latex": [
       "$\\displaystyle a + b c + d \\left(a - 1\\right) + \\max\\left(a, b\\right)$"
      ],
      "text/plain": [
       "a + b*c + d*(a - 1) + Max(a, b)"
      ]
     },
     "execution_count": 10,
     "metadata": {},
     "output_type": "execute_result"
    }
   ],
   "source": [
    "rewriter.expression.subs({\"a + d*(a-1) + max(a, b)\": \"b+1\"})"
   ]
  },
  {
   "cell_type": "code",
   "execution_count": 18,
   "id": "afea6250",
   "metadata": {},
   "outputs": [
    {
     "data": {
      "text/plain": [
       "[(ceiling(log(M + 1)/log(2)) - 1.5, 0),\n",
       " (2*ceiling(log(M + 1)/log(2)) - 1.5, 0)]"
      ]
     },
     "execution_count": 18,
     "metadata": {},
     "output_type": "execute_result"
    }
   ],
   "source": [
    "rewriter.list_arguments_of_function(\"Heaviside\")"
   ]
  },
  {
   "cell_type": "code",
   "execution_count": 22,
   "id": "47dcd327",
   "metadata": {},
   "outputs": [
    {
     "data": {
      "text/latex": [
       "$\\displaystyle 237 \\aleph + 55 \\beth \\left(-1 + \\frac{\\beth \\left(\\frac{n}{2} - 1\\right) \\left(\\operatorname{calc}_{\\lambda}{\\left(M,\\beth \\left(\\frac{n}{2} - 1\\right) \\right)} - 1\\right) + \\beth \\left(\\frac{n}{2} - 1\\right)}{\\beth \\left(\\frac{n}{2} - 1\\right)}\\right) \\left(\\frac{n}{2} - 1\\right) + 55 \\beth \\left(-1 + \\frac{\\beth \\left(\\frac{n}{2} - 1\\right) \\left(\\operatorname{calc}_{\\lambda}{\\left(M + \\frac{n}{2},\\beth \\left(\\frac{n}{2} - 1\\right) \\right)} - 1\\right) + \\beth \\left(\\frac{n}{2} - 1\\right)}{\\beth \\left(\\frac{n}{2} - 1\\right)}\\right) \\left(\\frac{n}{2} - 1\\right) + 3 \\beth \\left(\\frac{n}{2} - 1\\right) \\left(\\operatorname{calc}_{\\lambda}{\\left(M,\\beth \\left(\\frac{n}{2} - 1\\right) \\right)} - 1\\right) + 3 \\beth \\left(\\frac{n}{2} - 1\\right) \\left(\\operatorname{calc}_{\\lambda}{\\left(M + \\frac{n}{2},\\beth \\left(\\frac{n}{2} - 1\\right) \\right)} - 1\\right) + 6 \\beth \\left(\\frac{n}{2} - 1\\right) + 3 \\beth + 110 n + \\left(-1 + \\frac{\\aleph + \\left(\\operatorname{calc}_{\\lambda}{\\left(\\frac{M \\left(M + 1\\right)}{2} + \\frac{n}{2},\\aleph + 2 \\left\\lceil{\\frac{\\log{\\left(M + 1 \\right)}}{\\log{\\left(2 \\right)}}}\\right\\rceil + 2.0 \\right)} - 1\\right) \\left(\\aleph + 2 \\left\\lceil{\\frac{\\log{\\left(M + 1 \\right)}}{\\log{\\left(2 \\right)}}}\\right\\rceil + 2.0\\right) + 2 \\left\\lceil{\\frac{\\log{\\left(M + 1 \\right)}}{\\log{\\left(2 \\right)}}}\\right\\rceil + 2.0}{\\aleph + 2 \\left\\lceil{\\frac{\\log{\\left(M + 1 \\right)}}{\\log{\\left(2 \\right)}}}\\right\\rceil + 2.0}\\right) \\left(55 \\aleph + 110 \\left\\lceil{\\frac{\\log{\\left(M + 1 \\right)}}{\\log{\\left(2 \\right)}}}\\right\\rceil + 110.0\\right) + \\left(108 \\beth - 40\\right) \\left(2 n - 4\\right) + \\left(3 \\operatorname{calc}_{\\lambda}{\\left(\\frac{M \\left(M + 1\\right)}{2} + \\frac{n}{2},\\aleph + 2 \\left\\lceil{\\frac{\\log{\\left(M + 1 \\right)}}{\\log{\\left(2 \\right)}}}\\right\\rceil + 2.0 \\right)} - 3\\right) \\left(\\aleph + 2 \\left\\lceil{\\frac{\\log{\\left(M + 1 \\right)}}{\\log{\\left(2 \\right)}}}\\right\\rceil + 2.0\\right) + \\left(\\left\\lceil{0.75 \\beth \\left(\\frac{n}{2} - 1\\right) \\left(\\operatorname{calc}_{\\lambda}{\\left(M,\\beth \\left(\\frac{n}{2} - 1\\right) \\right)} - 1\\right) + 0.75 \\beth \\left(\\frac{n}{2} - 1\\right)}\\right\\rceil + 49\\right) \\max\\left(0, - \\operatorname{select}_{elbow const}{\\left(\\left\\lceil{\\frac{M}{\\operatorname{calc}_{\\lambda}{\\left(M,\\beth \\left(\\frac{n}{2} - 1\\right) \\right)}}}\\right\\rceil,0 \\right)} + \\left\\lceil{\\frac{M}{\\operatorname{calc}_{\\lambda}{\\left(M,\\beth \\left(\\frac{n}{2} - 1\\right) \\right)}}}\\right\\rceil\\right) + \\left(\\left\\lceil{0.75 \\beth \\left(\\frac{n}{2} - 1\\right) \\left(\\operatorname{calc}_{\\lambda}{\\left(M + \\frac{n}{2},\\beth \\left(\\frac{n}{2} - 1\\right) \\right)} - 1\\right) + 0.75 \\beth \\left(\\frac{n}{2} - 1\\right)}\\right\\rceil + 49\\right) \\max\\left(0, - \\operatorname{select}_{elbow const}{\\left(\\left\\lceil{\\frac{M + \\frac{n}{2}}{\\operatorname{calc}_{\\lambda}{\\left(M + \\frac{n}{2},\\beth \\left(\\frac{n}{2} - 1\\right) \\right)}}}\\right\\rceil,0 \\right)} + \\left\\lceil{\\frac{M + \\frac{n}{2}}{\\operatorname{calc}_{\\lambda}{\\left(M + \\frac{n}{2},\\beth \\left(\\frac{n}{2} - 1\\right) \\right)}}}\\right\\rceil\\right) + \\left(\\left\\lceil{0.75 \\aleph + \\left(0.75 \\operatorname{calc}_{\\lambda}{\\left(\\frac{M \\left(M + 1\\right)}{2} + \\frac{n}{2},\\aleph + 2 \\left\\lceil{\\frac{\\log{\\left(M + 1 \\right)}}{\\log{\\left(2 \\right)}}}\\right\\rceil + 2.0 \\right)} - 0.75\\right) \\left(\\aleph + 2 \\left\\lceil{\\frac{\\log{\\left(M + 1 \\right)}}{\\log{\\left(2 \\right)}}}\\right\\rceil + 2.0\\right) + 1.5 \\left\\lceil{\\frac{\\log{\\left(M + 1 \\right)}}{\\log{\\left(2 \\right)}}}\\right\\rceil + 1.5}\\right\\rceil + 49\\right) \\max\\left(0, - \\operatorname{select}_{elbow const}{\\left(\\left\\lceil{\\frac{\\frac{M \\left(M + 1\\right)}{2} + \\frac{n}{2}}{\\operatorname{calc}_{\\lambda}{\\left(\\frac{M \\left(M + 1\\right)}{2} + \\frac{n}{2},\\aleph + 2 \\left\\lceil{\\frac{\\log{\\left(M + 1 \\right)}}{\\log{\\left(2 \\right)}}}\\right\\rceil + 2.0 \\right)}}}\\right\\rceil,0 \\right)} + \\left\\lceil{\\frac{\\frac{M \\left(M + 1\\right)}{2} + \\frac{n}{2}}{\\operatorname{calc}_{\\lambda}{\\left(\\frac{M \\left(M + 1\\right)}{2} + \\frac{n}{2},\\aleph + 2 \\left\\lceil{\\frac{\\log{\\left(M + 1 \\right)}}{\\log{\\left(2 \\right)}}}\\right\\rceil + 2.0 \\right)}}}\\right\\rceil\\right) + \\left(\\left\\lceil{0.75 \\operatorname{calc}_{\\lambda}{\\left(M,1 \\right)}}\\right\\rceil + 49\\right) \\max\\left(0, - \\operatorname{select}_{elbow const}{\\left(\\left\\lceil{\\frac{M}{\\operatorname{calc}_{\\lambda}{\\left(M,1 \\right)}}}\\right\\rceil,0 \\right)} + \\left\\lceil{\\frac{M}{\\operatorname{calc}_{\\lambda}{\\left(M,1 \\right)}}}\\right\\rceil\\right) + \\left(\\left\\lceil{0.75 \\operatorname{calc}_{\\lambda}{\\left(M + \\frac{n}{2},1 \\right)}}\\right\\rceil + 49\\right) \\max\\left(0, - \\operatorname{select}_{elbow const}{\\left(\\left\\lceil{\\frac{M + \\frac{n}{2}}{\\operatorname{calc}_{\\lambda}{\\left(M + \\frac{n}{2},1 \\right)}}}\\right\\rceil,0 \\right)} + \\left\\lceil{\\frac{M + \\frac{n}{2}}{\\operatorname{calc}_{\\lambda}{\\left(M + \\frac{n}{2},1 \\right)}}}\\right\\rceil\\right) + \\left(\\left\\lceil{0.75 \\operatorname{calc}_{\\lambda}{\\left(\\frac{M \\left(M + 1\\right)}{2} + \\frac{n}{2},1 \\right)}}\\right\\rceil + 49\\right) \\max\\left(0, - \\operatorname{select}_{elbow const}{\\left(\\left\\lceil{\\frac{\\frac{M \\left(M + 1\\right)}{2} + \\frac{n}{2}}{\\operatorname{calc}_{\\lambda}{\\left(\\frac{M \\left(M + 1\\right)}{2} + \\frac{n}{2},1 \\right)}}}\\right\\rceil,0 \\right)} + \\left\\lceil{\\frac{\\frac{M \\left(M + 1\\right)}{2} + \\frac{n}{2}}{\\operatorname{calc}_{\\lambda}{\\left(\\frac{M \\left(M + 1\\right)}{2} + \\frac{n}{2},1 \\right)}}}\\right\\rceil\\right) + 102 \\operatorname{calc}_{\\lambda}{\\left(M,1 \\right)} + 102 \\operatorname{calc}_{\\lambda}{\\left(M + \\frac{n}{2},1 \\right)} + 102 \\operatorname{calc}_{\\lambda}{\\left(\\frac{M \\left(M + 1\\right)}{2} + \\frac{n}{2},1 \\right)} - \\left(55 \\left(2.0 \\bmod \\left(\\aleph + 2 \\left\\lceil{\\frac{\\log{\\left(M + 1 \\right)}}{\\log{\\left(2 \\right)}}}\\right\\rceil + 2.0\\right)\\right)\\right) + 3696 \\left\\lceil{\\frac{\\log{\\left(M + 1 \\right)}}{\\log{\\left(2 \\right)}}}\\right\\rceil + 1397 \\max\\left(0, \\beth - 2\\right) + 2597.5$"
      ],
      "text/plain": [
       "237*aleph + 55*beth*(-1 + (beth*(n/2 - 1)*(calc_lambda(M, beth*(n/2 - 1)) - 1) + beth*(n/2 - 1))/(beth*(n/2 - 1)))*(n/2 - 1) + 55*beth*(-1 + (beth*(n/2 - 1)*(calc_lambda(M + n/2, beth*(n/2 - 1)) - 1) + beth*(n/2 - 1))/(beth*(n/2 - 1)))*(n/2 - 1) + 3*beth*(n/2 - 1)*(calc_lambda(M, beth*(n/2 - 1)) - 1) + 3*beth*(n/2 - 1)*(calc_lambda(M + n/2, beth*(n/2 - 1)) - 1) + 6*beth*(n/2 - 1) + 3*beth + 110*n + (-1 + (aleph + (calc_lambda(M*(M + 1)/2 + n/2, aleph + 2*ceiling(log(M + 1)/log(2)) + 2.0) - 1)*(aleph + 2*ceiling(log(M + 1)/log(2)) + 2.0) + 2*ceiling(log(M + 1)/log(2)) + 2.0)/(aleph + 2*ceiling(log(M + 1)/log(2)) + 2.0))*(55*aleph + 110*ceiling(log(M + 1)/log(2)) + 110.0) + (108*beth - 40)*(2*n - 4) + (3*calc_lambda(M*(M + 1)/2 + n/2, aleph + 2*ceiling(log(M + 1)/log(2)) + 2.0) - 3)*(aleph + 2*ceiling(log(M + 1)/log(2)) + 2.0) + (ceiling(0.75*beth*(n/2 - 1)*(calc_lambda(M, beth*(n/2 - 1)) - 1) + 0.75*beth*(n/2 - 1)) + 49)*Max(0, -select_elbow_const(ceiling(M/calc_lambda(M, beth*(n/2 - 1))), 0) + ceiling(M/calc_lambda(M, beth*(n/2 - 1)))) + (ceiling(0.75*beth*(n/2 - 1)*(calc_lambda(M + n/2, beth*(n/2 - 1)) - 1) + 0.75*beth*(n/2 - 1)) + 49)*Max(0, -select_elbow_const(ceiling((M + n/2)/calc_lambda(M + n/2, beth*(n/2 - 1))), 0) + ceiling((M + n/2)/calc_lambda(M + n/2, beth*(n/2 - 1)))) + (ceiling(0.75*aleph + (0.75*calc_lambda(M*(M + 1)/2 + n/2, aleph + 2*ceiling(log(M + 1)/log(2)) + 2.0) - 0.75)*(aleph + 2*ceiling(log(M + 1)/log(2)) + 2.0) + 1.5*ceiling(log(M + 1)/log(2)) + 1.5) + 49)*Max(0, -select_elbow_const(ceiling((M*(M + 1)/2 + n/2)/calc_lambda(M*(M + 1)/2 + n/2, aleph + 2*ceiling(log(M + 1)/log(2)) + 2.0)), 0) + ceiling((M*(M + 1)/2 + n/2)/calc_lambda(M*(M + 1)/2 + n/2, aleph + 2*ceiling(log(M + 1)/log(2)) + 2.0))) + (ceiling(0.75*calc_lambda(M, 1)) + 49)*Max(0, -select_elbow_const(ceiling(M/calc_lambda(M, 1)), 0) + ceiling(M/calc_lambda(M, 1))) + (ceiling(0.75*calc_lambda(M + n/2, 1)) + 49)*Max(0, -select_elbow_const(ceiling((M + n/2)/calc_lambda(M + n/2, 1)), 0) + ceiling((M + n/2)/calc_lambda(M + n/2, 1))) + (ceiling(0.75*calc_lambda(M*(M + 1)/2 + n/2, 1)) + 49)*Max(0, -select_elbow_const(ceiling((M*(M + 1)/2 + n/2)/calc_lambda(M*(M + 1)/2 + n/2, 1)), 0) + ceiling((M*(M + 1)/2 + n/2)/calc_lambda(M*(M + 1)/2 + n/2, 1))) + 102*calc_lambda(M, 1) + 102*calc_lambda(M + n/2, 1) + 102*calc_lambda(M*(M + 1)/2 + n/2, 1) - 55*Mod(2.0, aleph + 2*ceiling(log(M + 1)/log(2)) + 2.0) + 3696*ceiling(log(M + 1)/log(2)) + 1397*Max(0, beth - 2) + 2597.5"
      ]
     },
     "execution_count": 22,
     "metadata": {},
     "output_type": "execute_result"
    }
   ],
   "source": [
    "rewriter.add_assumption(\"ceiling(log(M+1)/log(2)) > 1.5\")"
   ]
  },
  {
   "cell_type": "code",
   "execution_count": null,
   "id": "321f94a8",
   "metadata": {},
   "outputs": [
    {
     "data": {
      "text/latex": [
       "$\\displaystyle 237 \\aleph + 55 \\beth \\left(-1 + \\frac{\\beth \\left(\\frac{n}{2} - 1\\right) \\left(\\operatorname{calc}_{\\lambda}{\\left(M,\\beth \\left(\\frac{n}{2} - 1\\right) \\right)} - 1\\right) + \\beth \\left(\\frac{n}{2} - 1\\right)}{\\beth \\left(\\frac{n}{2} - 1\\right)}\\right) \\left(\\frac{n}{2} - 1\\right) + 55 \\beth \\left(-1 + \\frac{\\beth \\left(\\frac{n}{2} - 1\\right) \\left(\\operatorname{calc}_{\\lambda}{\\left(M + \\frac{n}{2},\\beth \\left(\\frac{n}{2} - 1\\right) \\right)} - 1\\right) + \\beth \\left(\\frac{n}{2} - 1\\right)}{\\beth \\left(\\frac{n}{2} - 1\\right)}\\right) \\left(\\frac{n}{2} - 1\\right) + 3 \\beth \\left(\\frac{n}{2} - 1\\right) \\left(\\operatorname{calc}_{\\lambda}{\\left(M,\\beth \\left(\\frac{n}{2} - 1\\right) \\right)} - 1\\right) + 3 \\beth \\left(\\frac{n}{2} - 1\\right) \\left(\\operatorname{calc}_{\\lambda}{\\left(M + \\frac{n}{2},\\beth \\left(\\frac{n}{2} - 1\\right) \\right)} - 1\\right) + 6 \\beth \\left(\\frac{n}{2} - 1\\right) + 1400 \\beth + 110 n + \\left(-1 + \\frac{\\aleph + \\left(\\operatorname{calc}_{\\lambda}{\\left(\\frac{M \\left(M + 1\\right)}{2} + \\frac{n}{2},\\aleph + 2 \\left\\lceil{\\frac{\\log{\\left(M + 1 \\right)}}{\\log{\\left(2 \\right)}}}\\right\\rceil + 2.0 \\right)} - 1\\right) \\left(\\aleph + 2 \\left\\lceil{\\frac{\\log{\\left(M + 1 \\right)}}{\\log{\\left(2 \\right)}}}\\right\\rceil + 2.0\\right) + 2 \\left\\lceil{\\frac{\\log{\\left(M + 1 \\right)}}{\\log{\\left(2 \\right)}}}\\right\\rceil + 2.0}{\\aleph + 2 \\left\\lceil{\\frac{\\log{\\left(M + 1 \\right)}}{\\log{\\left(2 \\right)}}}\\right\\rceil + 2.0}\\right) \\left(55 \\aleph + 110 \\left\\lceil{\\frac{\\log{\\left(M + 1 \\right)}}{\\log{\\left(2 \\right)}}}\\right\\rceil + 110.0\\right) + \\left(108 \\beth - 40\\right) \\left(2 n - 4\\right) + \\left(3 \\operatorname{calc}_{\\lambda}{\\left(\\frac{M \\left(M + 1\\right)}{2} + \\frac{n}{2},\\aleph + 2 \\left\\lceil{\\frac{\\log{\\left(M + 1 \\right)}}{\\log{\\left(2 \\right)}}}\\right\\rceil + 2.0 \\right)} - 3\\right) \\left(\\aleph + 2 \\left\\lceil{\\frac{\\log{\\left(M + 1 \\right)}}{\\log{\\left(2 \\right)}}}\\right\\rceil + 2.0\\right) + \\left(\\left\\lceil{0.75 \\beth \\left(\\frac{n}{2} - 1\\right) \\left(\\operatorname{calc}_{\\lambda}{\\left(M,\\beth \\left(\\frac{n}{2} - 1\\right) \\right)} - 1\\right) + 0.75 \\beth \\left(\\frac{n}{2} - 1\\right)}\\right\\rceil + 49\\right) \\max\\left(0, - \\operatorname{select}_{elbow const}{\\left(\\left\\lceil{\\frac{M}{\\operatorname{calc}_{\\lambda}{\\left(M,\\beth \\left(\\frac{n}{2} - 1\\right) \\right)}}}\\right\\rceil,0 \\right)} + \\left\\lceil{\\frac{M}{\\operatorname{calc}_{\\lambda}{\\left(M,\\beth \\left(\\frac{n}{2} - 1\\right) \\right)}}}\\right\\rceil\\right) + \\left(\\left\\lceil{0.75 \\beth \\left(\\frac{n}{2} - 1\\right) \\left(\\operatorname{calc}_{\\lambda}{\\left(M + \\frac{n}{2},\\beth \\left(\\frac{n}{2} - 1\\right) \\right)} - 1\\right) + 0.75 \\beth \\left(\\frac{n}{2} - 1\\right)}\\right\\rceil + 49\\right) \\max\\left(0, - \\operatorname{select}_{elbow const}{\\left(\\left\\lceil{\\frac{M + \\frac{n}{2}}{\\operatorname{calc}_{\\lambda}{\\left(M + \\frac{n}{2},\\beth \\left(\\frac{n}{2} - 1\\right) \\right)}}}\\right\\rceil,0 \\right)} + \\left\\lceil{\\frac{M + \\frac{n}{2}}{\\operatorname{calc}_{\\lambda}{\\left(M + \\frac{n}{2},\\beth \\left(\\frac{n}{2} - 1\\right) \\right)}}}\\right\\rceil\\right) + \\left(\\left\\lceil{0.75 \\aleph + \\left(0.75 \\operatorname{calc}_{\\lambda}{\\left(\\frac{M \\left(M + 1\\right)}{2} + \\frac{n}{2},\\aleph + 2 \\left\\lceil{\\frac{\\log{\\left(M + 1 \\right)}}{\\log{\\left(2 \\right)}}}\\right\\rceil + 2.0 \\right)} - 0.75\\right) \\left(\\aleph + 2 \\left\\lceil{\\frac{\\log{\\left(M + 1 \\right)}}{\\log{\\left(2 \\right)}}}\\right\\rceil + 2.0\\right) + 1.5 \\left\\lceil{\\frac{\\log{\\left(M + 1 \\right)}}{\\log{\\left(2 \\right)}}}\\right\\rceil + 1.5}\\right\\rceil + 49\\right) \\max\\left(0, - \\operatorname{select}_{elbow const}{\\left(\\left\\lceil{\\frac{\\frac{M \\left(M + 1\\right)}{2} + \\frac{n}{2}}{\\operatorname{calc}_{\\lambda}{\\left(\\frac{M \\left(M + 1\\right)}{2} + \\frac{n}{2},\\aleph + 2 \\left\\lceil{\\frac{\\log{\\left(M + 1 \\right)}}{\\log{\\left(2 \\right)}}}\\right\\rceil + 2.0 \\right)}}}\\right\\rceil,0 \\right)} + \\left\\lceil{\\frac{\\frac{M \\left(M + 1\\right)}{2} + \\frac{n}{2}}{\\operatorname{calc}_{\\lambda}{\\left(\\frac{M \\left(M + 1\\right)}{2} + \\frac{n}{2},\\aleph + 2 \\left\\lceil{\\frac{\\log{\\left(M + 1 \\right)}}{\\log{\\left(2 \\right)}}}\\right\\rceil + 2.0 \\right)}}}\\right\\rceil\\right) + \\left(\\left\\lceil{0.75 \\operatorname{calc}_{\\lambda}{\\left(M,1 \\right)}}\\right\\rceil + 49\\right) \\max\\left(0, - \\operatorname{select}_{elbow const}{\\left(\\left\\lceil{\\frac{M}{\\operatorname{calc}_{\\lambda}{\\left(M,1 \\right)}}}\\right\\rceil,0 \\right)} + \\left\\lceil{\\frac{M}{\\operatorname{calc}_{\\lambda}{\\left(M,1 \\right)}}}\\right\\rceil\\right) + \\left(\\left\\lceil{0.75 \\operatorname{calc}_{\\lambda}{\\left(M + \\frac{n}{2},1 \\right)}}\\right\\rceil + 49\\right) \\max\\left(0, - \\operatorname{select}_{elbow const}{\\left(\\left\\lceil{\\frac{M + \\frac{n}{2}}{\\operatorname{calc}_{\\lambda}{\\left(M + \\frac{n}{2},1 \\right)}}}\\right\\rceil,0 \\right)} + \\left\\lceil{\\frac{M + \\frac{n}{2}}{\\operatorname{calc}_{\\lambda}{\\left(M + \\frac{n}{2},1 \\right)}}}\\right\\rceil\\right) + \\left(\\left\\lceil{0.75 \\operatorname{calc}_{\\lambda}{\\left(\\frac{M \\left(M + 1\\right)}{2} + \\frac{n}{2},1 \\right)}}\\right\\rceil + 49\\right) \\max\\left(0, - \\operatorname{select}_{elbow const}{\\left(\\left\\lceil{\\frac{\\frac{M \\left(M + 1\\right)}{2} + \\frac{n}{2}}{\\operatorname{calc}_{\\lambda}{\\left(\\frac{M \\left(M + 1\\right)}{2} + \\frac{n}{2},1 \\right)}}}\\right\\rceil,0 \\right)} + \\left\\lceil{\\frac{\\frac{M \\left(M + 1\\right)}{2} + \\frac{n}{2}}{\\operatorname{calc}_{\\lambda}{\\left(\\frac{M \\left(M + 1\\right)}{2} + \\frac{n}{2},1 \\right)}}}\\right\\rceil\\right) + 102 \\operatorname{calc}_{\\lambda}{\\left(M,1 \\right)} + 102 \\operatorname{calc}_{\\lambda}{\\left(M + \\frac{n}{2},1 \\right)} + 102 \\operatorname{calc}_{\\lambda}{\\left(\\frac{M \\left(M + 1\\right)}{2} + \\frac{n}{2},1 \\right)} - \\left(55 \\left(2.0 \\bmod \\left(\\aleph + 2 \\left\\lceil{\\frac{\\log{\\left(M + 1 \\right)}}{\\log{\\left(2 \\right)}}}\\right\\rceil + 2.0\\right)\\right)\\right) + 3696 \\left\\lceil{\\frac{\\log{\\left(M + 1 \\right)}}{\\log{\\left(2 \\right)}}}\\right\\rceil - 196.5$"
      ],
      "text/plain": [
       "237*aleph + 55*beth*(-1 + (beth*(n/2 - 1)*(calc_lambda(M, beth*(n/2 - 1)) - 1) + beth*(n/2 - 1))/(beth*(n/2 - 1)))*(n/2 - 1) + 55*beth*(-1 + (beth*(n/2 - 1)*(calc_lambda(M + n/2, beth*(n/2 - 1)) - 1) + beth*(n/2 - 1))/(beth*(n/2 - 1)))*(n/2 - 1) + 3*beth*(n/2 - 1)*(calc_lambda(M, beth*(n/2 - 1)) - 1) + 3*beth*(n/2 - 1)*(calc_lambda(M + n/2, beth*(n/2 - 1)) - 1) + 6*beth*(n/2 - 1) + 1400*beth + 110*n + (-1 + (aleph + (calc_lambda(M*(M + 1)/2 + n/2, aleph + 2*ceiling(log(M + 1)/log(2)) + 2.0) - 1)*(aleph + 2*ceiling(log(M + 1)/log(2)) + 2.0) + 2*ceiling(log(M + 1)/log(2)) + 2.0)/(aleph + 2*ceiling(log(M + 1)/log(2)) + 2.0))*(55*aleph + 110*ceiling(log(M + 1)/log(2)) + 110.0) + (108*beth - 40)*(2*n - 4) + (3*calc_lambda(M*(M + 1)/2 + n/2, aleph + 2*ceiling(log(M + 1)/log(2)) + 2.0) - 3)*(aleph + 2*ceiling(log(M + 1)/log(2)) + 2.0) + (ceiling(0.75*beth*(n/2 - 1)*(calc_lambda(M, beth*(n/2 - 1)) - 1) + 0.75*beth*(n/2 - 1)) + 49)*Max(0, -select_elbow_const(ceiling(M/calc_lambda(M, beth*(n/2 - 1))), 0) + ceiling(M/calc_lambda(M, beth*(n/2 - 1)))) + (ceiling(0.75*beth*(n/2 - 1)*(calc_lambda(M + n/2, beth*(n/2 - 1)) - 1) + 0.75*beth*(n/2 - 1)) + 49)*Max(0, -select_elbow_const(ceiling((M + n/2)/calc_lambda(M + n/2, beth*(n/2 - 1))), 0) + ceiling((M + n/2)/calc_lambda(M + n/2, beth*(n/2 - 1)))) + (ceiling(0.75*aleph + (0.75*calc_lambda(M*(M + 1)/2 + n/2, aleph + 2*ceiling(log(M + 1)/log(2)) + 2.0) - 0.75)*(aleph + 2*ceiling(log(M + 1)/log(2)) + 2.0) + 1.5*ceiling(log(M + 1)/log(2)) + 1.5) + 49)*Max(0, -select_elbow_const(ceiling((M*(M + 1)/2 + n/2)/calc_lambda(M*(M + 1)/2 + n/2, aleph + 2*ceiling(log(M + 1)/log(2)) + 2.0)), 0) + ceiling((M*(M + 1)/2 + n/2)/calc_lambda(M*(M + 1)/2 + n/2, aleph + 2*ceiling(log(M + 1)/log(2)) + 2.0))) + (ceiling(0.75*calc_lambda(M, 1)) + 49)*Max(0, -select_elbow_const(ceiling(M/calc_lambda(M, 1)), 0) + ceiling(M/calc_lambda(M, 1))) + (ceiling(0.75*calc_lambda(M + n/2, 1)) + 49)*Max(0, -select_elbow_const(ceiling((M + n/2)/calc_lambda(M + n/2, 1)), 0) + ceiling((M + n/2)/calc_lambda(M + n/2, 1))) + (ceiling(0.75*calc_lambda(M*(M + 1)/2 + n/2, 1)) + 49)*Max(0, -select_elbow_const(ceiling((M*(M + 1)/2 + n/2)/calc_lambda(M*(M + 1)/2 + n/2, 1)), 0) + ceiling((M*(M + 1)/2 + n/2)/calc_lambda(M*(M + 1)/2 + n/2, 1))) + 102*calc_lambda(M, 1) + 102*calc_lambda(M + n/2, 1) + 102*calc_lambda(M*(M + 1)/2 + n/2, 1) - 55*Mod(2.0, aleph + 2*ceiling(log(M + 1)/log(2)) + 2.0) + 3696*ceiling(log(M + 1)/log(2)) - 196.5"
      ]
     },
     "execution_count": 25,
     "metadata": {},
     "output_type": "execute_result"
    }
   ],
   "source": [
    "rewriter.add_assumption(\"beth>5\")"
   ]
  },
  {
   "cell_type": "code",
   "execution_count": 24,
   "id": "f282e2f6",
   "metadata": {},
   "outputs": [
    {
     "data": {
      "text/plain": [
       "{'ceiling(log(M+1)/log(2)) > 1.5', 'log(M+1)/log(2) > 1.5'}"
      ]
     },
     "execution_count": 24,
     "metadata": {},
     "output_type": "execute_result"
    }
   ],
   "source": [
    "rewriter.applied_assumptions"
   ]
  }
 ],
 "metadata": {
  "kernelspec": {
   "display_name": ".venv",
   "language": "python",
   "name": "python3"
  },
  "language_info": {
   "codemirror_mode": {
    "name": "ipython",
    "version": 3
   },
   "file_extension": ".py",
   "mimetype": "text/x-python",
   "name": "python",
   "nbconvert_exporter": "python",
   "pygments_lexer": "ipython3",
   "version": "3.12.9"
  }
 },
 "nbformat": 4,
 "nbformat_minor": 5
}
