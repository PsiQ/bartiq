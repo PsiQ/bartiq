{
 "cells": [
  {
   "cell_type": "code",
   "execution_count": 2,
   "id": "f3d84696",
   "metadata": {},
   "outputs": [],
   "source": [
    "from bartiq import compile_routine, Routine, evaluate\n",
    "from bartiq.compilation import CompilationFlags\n",
    "from bartiq.analysis.rewriters.sympy_expression import _SYMPY_BACKEND\n",
    "import yaml\n",
    "\n",
    "# with open(\"tests/compilation/data/df_qref.yaml\") as f:\n",
    "#     routine = yaml.safe_load(f)"
   ]
  },
  {
   "cell_type": "code",
   "execution_count": null,
   "id": "f404ea5e",
   "metadata": {},
   "outputs": [],
   "source": [
    "root = {\n",
    "    \"name\": \"root\",\n",
    "    \"children\": [\n",
    "        {\n",
    "            \"name\": \"a\",\n",
    "            \"children\": [\n",
    "                {\n",
    "                    \"name\": \"b\",\n",
    "                    \"resources\": [\n",
    "                        {\"name\": \"dummy_a\", \"type\": \"additive\", \"value\": \"max(0, b)\"},\n",
    "                        {\"name\": \"dummy_b\", \"type\": \"additive\", \"value\": \"log(1 + b)\"},\n",
    "                    ],\n",
    "                },\n",
    "                {\n",
    "                    \"name\": \"c\",\n",
    "                    \"resources\": [\n",
    "                        {\"name\": \"dummy_a\", \"type\": \"additive\", \"value\": \"max(0, c)\"},\n",
    "                        {\"name\": \"dummy_b\", \"type\": \"additive\", \"value\": \"min(2, c)\"},\n",
    "                    ],\n",
    "                },\n",
    "            ],\n",
    "        },\n",
    "        {\n",
    "            \"name\": \"x\",\n",
    "            \"children\": [\n",
    "                {\n",
    "                    \"name\": \"y\",\n",
    "                    \"resources\": [\n",
    "                        {\"name\": \"dummy_a\", \"type\": \"additive\", \"value\": \"max(0, y)\"},\n",
    "                        {\"name\": \"dummy_b\", \"type\": \"additive\", \"value\": \"ceiling(y)\"},\n",
    "                    ],\n",
    "                },\n",
    "                {\n",
    "                    \"name\": \"z\",\n",
    "                    \"resources\": [\n",
    "                        {\"name\": \"dummy_a\", \"type\": \"additive\", \"value\": \"max(0, z)\"},\n",
    "                        {\"name\": \"dummy_b\", \"type\": \"additive\", \"value\": \"Heaviside(z, 0.5)\"},\n",
    "                    ],\n",
    "                },\n",
    "            ],\n",
    "        },\n",
    "    ],\n",
    "}\n",
    "routine = Routine.from_qref(root, _SYMPY_BACKEND)"
   ]
  },
  {
   "cell_type": "code",
   "execution_count": 4,
   "id": "d0374794",
   "metadata": {},
   "outputs": [],
   "source": [
    "compiled = compile_routine(routine, compilation_flags=CompilationFlags.EXPAND_RESOURCES).routine"
   ]
  },
  {
   "cell_type": "code",
   "execution_count": 6,
   "id": "e219dad6",
   "metadata": {},
   "outputs": [
    {
     "data": {
      "text/latex": [
       "$\\displaystyle \\log{\\left(\\alpha + 1 \\right)} + \\theta\\left(\\delta, 0.5\\right) + \\left\\lceil{\\gamma}\\right\\rceil + \\min\\left(2, \\beta\\right)$"
      ],
      "text/plain": [
       "ResourceRewriter(routine=CompiledRoutine(name='root', type=None, children={'a': CompiledRoutine(name='a', type=None, children={'b': CompiledRoutine(name='b', type=None, children={}, ports={}, resources={'dummy_a': Resource(name='dummy_a', type=<ResourceType.additive: 'additive'>, value=Max(0, b)), 'dummy_b': Resource(name='dummy_b', type=<ResourceType.additive: 'additive'>, value=log(alpha + 1))}, connections={}, repetition=None, constraints=(), children_order=(), input_params=[]), 'c': CompiledRoutine(name='c', type=None, children={}, ports={}, resources={'dummy_a': Resource(name='dummy_a', type=<ResourceType.additive: 'additive'>, value=Max(0, c)), 'dummy_b': Resource(name='dummy_b', type=<ResourceType.additive: 'additive'>, value=Min(2, beta))}, connections={}, repetition=None, constraints=(), children_order=(), input_params=[])}, ports={}, resources={'dummy_a': Resource(name='dummy_a', type=<ResourceType.additive: 'additive'>, value=Max(0, b) + Max(0, c)), 'dummy_b': Resource(name='dummy_b', type=<ResourceType.additive: 'additive'>, value=log(alpha + 1) + Min(2, beta))}, connections={}, repetition=None, constraints=(), children_order=('b', 'c'), input_params=[]), 'x': CompiledRoutine(name='x', type=None, children={'y': CompiledRoutine(name='y', type=None, children={}, ports={}, resources={'dummy_a': Resource(name='dummy_a', type=<ResourceType.additive: 'additive'>, value=Max(0, y)), 'dummy_b': Resource(name='dummy_b', type=<ResourceType.additive: 'additive'>, value=ceiling(gamma))}, connections={}, repetition=None, constraints=(), children_order=(), input_params=[]), 'z': CompiledRoutine(name='z', type=None, children={}, ports={}, resources={'dummy_a': Resource(name='dummy_a', type=<ResourceType.additive: 'additive'>, value=Max(0, z)), 'dummy_b': Resource(name='dummy_b', type=<ResourceType.additive: 'additive'>, value=Heaviside(delta, 0.5))}, connections={}, repetition=None, constraints=(), children_order=(), input_params=[])}, ports={}, resources={'dummy_a': Resource(name='dummy_a', type=<ResourceType.additive: 'additive'>, value=Max(0, y) + Max(0, z)), 'dummy_b': Resource(name='dummy_b', type=<ResourceType.additive: 'additive'>, value=Heaviside(delta, 0.5) + ceiling(gamma))}, connections={}, repetition=None, constraints=(), children_order=('y', 'z'), input_params=[])}, ports={}, resources={'dummy_a': Resource(name='dummy_a', type=<ResourceType.additive: 'additive'>, value=Max(0, b) + Max(0, c) + Max(0, y) + Max(0, z)), 'dummy_b': Resource(name='dummy_b', type=<ResourceType.additive: 'additive'>, value=log(alpha + 1) + Heaviside(delta, 0.5) + ceiling(gamma) + Min(2, beta))}, connections={}, repetition=None, constraints=(), children_order=('a', 'x'), input_params=[]), resource='dummy_b', rewriter_factory=<function sympy_rewriter at 0x10b372ac0>)"
      ]
     },
     "execution_count": 6,
     "metadata": {},
     "output_type": "execute_result"
    }
   ],
   "source": [
    "from bartiq.analysis import ResourceRewriter\n",
    "\n",
    "rr = ResourceRewriter(compiled, \"dummy_b\")\n",
    "rr"
   ]
  },
  {
   "cell_type": "code",
   "execution_count": 7,
   "id": "38a8d0be",
   "metadata": {},
   "outputs": [
    {
     "data": {
      "text/latex": [
       "$\\displaystyle \\mathrm{A} + \\gamma + 3$"
      ],
      "text/plain": [
       "ResourceRewriter(routine=CompiledRoutine(name='root', type=None, children={'a': CompiledRoutine(name='a', type=None, children={'b': CompiledRoutine(name='b', type=None, children={}, ports={}, resources={'dummy_a': Resource(name='dummy_a', type=<ResourceType.additive: 'additive'>, value=Max(0, b)), 'dummy_b': Resource(name='dummy_b', type=<ResourceType.additive: 'additive'>, value=log(alpha + 1))}, connections={}, repetition=None, constraints=(), children_order=(), input_params=[]), 'c': CompiledRoutine(name='c', type=None, children={}, ports={}, resources={'dummy_a': Resource(name='dummy_a', type=<ResourceType.additive: 'additive'>, value=Max(0, c)), 'dummy_b': Resource(name='dummy_b', type=<ResourceType.additive: 'additive'>, value=Min(2, beta))}, connections={}, repetition=None, constraints=(), children_order=(), input_params=[])}, ports={}, resources={'dummy_a': Resource(name='dummy_a', type=<ResourceType.additive: 'additive'>, value=Max(0, b) + Max(0, c)), 'dummy_b': Resource(name='dummy_b', type=<ResourceType.additive: 'additive'>, value=log(alpha + 1) + Min(2, beta))}, connections={}, repetition=None, constraints=(), children_order=('b', 'c'), input_params=[]), 'x': CompiledRoutine(name='x', type=None, children={'y': CompiledRoutine(name='y', type=None, children={}, ports={}, resources={'dummy_a': Resource(name='dummy_a', type=<ResourceType.additive: 'additive'>, value=Max(0, y)), 'dummy_b': Resource(name='dummy_b', type=<ResourceType.additive: 'additive'>, value=ceiling(gamma))}, connections={}, repetition=None, constraints=(), children_order=(), input_params=[]), 'z': CompiledRoutine(name='z', type=None, children={}, ports={}, resources={'dummy_a': Resource(name='dummy_a', type=<ResourceType.additive: 'additive'>, value=Max(0, z)), 'dummy_b': Resource(name='dummy_b', type=<ResourceType.additive: 'additive'>, value=Heaviside(delta, 0.5))}, connections={}, repetition=None, constraints=(), children_order=(), input_params=[])}, ports={}, resources={'dummy_a': Resource(name='dummy_a', type=<ResourceType.additive: 'additive'>, value=Max(0, y) + Max(0, z)), 'dummy_b': Resource(name='dummy_b', type=<ResourceType.additive: 'additive'>, value=Heaviside(delta, 0.5) + ceiling(gamma))}, connections={}, repetition=None, constraints=(), children_order=('y', 'z'), input_params=[])}, ports={}, resources={'dummy_a': Resource(name='dummy_a', type=<ResourceType.additive: 'additive'>, value=Max(0, b) + Max(0, c) + Max(0, y) + Max(0, z)), 'dummy_b': Resource(name='dummy_b', type=<ResourceType.additive: 'additive'>, value=log(alpha + 1) + Heaviside(delta, 0.5) + ceiling(gamma) + Min(2, beta))}, connections={}, repetition=None, constraints=(), children_order=('a', 'x'), input_params=[]), resource='dummy_b', rewriter_factory=<function sympy_rewriter at 0x10b372ac0>)"
      ]
     },
     "execution_count": 7,
     "metadata": {},
     "output_type": "execute_result"
    }
   ],
   "source": [
    "rr.substitute(\"ceiling($x)\", \"x\").assume(\"beta > 2\").assume(\"delta > 5\").substitute(\"log(alpha + 1)\", \"Alpha\")"
   ]
  },
  {
   "cell_type": "code",
   "execution_count": null,
   "id": "48ae6a54",
   "metadata": {},
   "outputs": [],
   "source": [
    "new_rr = ResourceRewriter"
   ]
  },
  {
   "cell_type": "code",
   "execution_count": 16,
   "id": "4b7a5d8b",
   "metadata": {},
   "outputs": [
    {
     "data": {
      "text/latex": [
       "$\\displaystyle \\log{\\left(\\alpha + 1 \\right)} + \\theta\\left(\\delta, 0.5\\right) + \\left\\lceil{\\gamma}\\right\\rceil + \\min\\left(2, \\beta\\right)$"
      ],
      "text/plain": [
       "ResourceRewriter(routine=CompiledRoutine(name='root', type=None, children={'a': CompiledRoutine(name='a', type=None, children={'b': CompiledRoutine(name='b', type=None, children={}, ports={}, resources={'dummy_a': Resource(name='dummy_a', type=<ResourceType.additive: 'additive'>, value=Max(0, b)), 'dummy_b': Resource(name='dummy_b', type=<ResourceType.additive: 'additive'>, value=log(alpha + 1))}, connections={}, repetition=None, constraints=(), children_order=(), input_params=[]), 'c': CompiledRoutine(name='c', type=None, children={}, ports={}, resources={'dummy_a': Resource(name='dummy_a', type=<ResourceType.additive: 'additive'>, value=Max(0, c)), 'dummy_b': Resource(name='dummy_b', type=<ResourceType.additive: 'additive'>, value=Min(2, beta))}, connections={}, repetition=None, constraints=(), children_order=(), input_params=[])}, ports={}, resources={'dummy_a': Resource(name='dummy_a', type=<ResourceType.additive: 'additive'>, value=Max(0, b) + Max(0, c)), 'dummy_b': Resource(name='dummy_b', type=<ResourceType.additive: 'additive'>, value=log(alpha + 1) + Min(2, beta))}, connections={}, repetition=None, constraints=(), children_order=('b', 'c'), input_params=[]), 'x': CompiledRoutine(name='x', type=None, children={'y': CompiledRoutine(name='y', type=None, children={}, ports={}, resources={'dummy_a': Resource(name='dummy_a', type=<ResourceType.additive: 'additive'>, value=Max(0, y)), 'dummy_b': Resource(name='dummy_b', type=<ResourceType.additive: 'additive'>, value=ceiling(gamma))}, connections={}, repetition=None, constraints=(), children_order=(), input_params=[]), 'z': CompiledRoutine(name='z', type=None, children={}, ports={}, resources={'dummy_a': Resource(name='dummy_a', type=<ResourceType.additive: 'additive'>, value=Max(0, z)), 'dummy_b': Resource(name='dummy_b', type=<ResourceType.additive: 'additive'>, value=Heaviside(delta, 0.5))}, connections={}, repetition=None, constraints=(), children_order=(), input_params=[])}, ports={}, resources={'dummy_a': Resource(name='dummy_a', type=<ResourceType.additive: 'additive'>, value=Max(0, y) + Max(0, z)), 'dummy_b': Resource(name='dummy_b', type=<ResourceType.additive: 'additive'>, value=Heaviside(delta, 0.5) + ceiling(gamma))}, connections={}, repetition=None, constraints=(), children_order=('y', 'z'), input_params=[])}, ports={}, resources={'dummy_a': Resource(name='dummy_a', type=<ResourceType.additive: 'additive'>, value=Max(0, b) + Max(0, c) + Max(0, y) + Max(0, z)), 'dummy_b': Resource(name='dummy_b', type=<ResourceType.additive: 'additive'>, value=log(alpha + 1) + Heaviside(delta, 0.5) + ceiling(gamma) + Min(2, beta))}, connections={}, repetition=None, constraints=(), children_order=('a', 'x'), input_params=[]), resource='dummy_b', rewriter_factory=<function sympy_rewriter at 0x113366e80>)"
      ]
     },
     "execution_count": 16,
     "metadata": {},
     "output_type": "execute_result"
    }
   ],
   "source": [
    "rr"
   ]
  }
 ],
 "metadata": {
  "kernelspec": {
   "display_name": "bartiq-py3.12",
   "language": "python",
   "name": "python3"
  },
  "language_info": {
   "codemirror_mode": {
    "name": "ipython",
    "version": 3
   },
   "file_extension": ".py",
   "mimetype": "text/x-python",
   "name": "python",
   "nbconvert_exporter": "python",
   "pygments_lexer": "ipython3",
   "version": "3.12.9"
  }
 },
 "nbformat": 4,
 "nbformat_minor": 5
}
