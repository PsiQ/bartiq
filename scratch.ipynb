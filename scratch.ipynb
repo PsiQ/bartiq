{
 "cells": [
  {
   "cell_type": "code",
   "execution_count": 1,
   "id": "cc6f0a8b",
   "metadata": {},
   "outputs": [
    {
     "data": {
      "text/plain": [
       "'\\n    Return, if possible, the maximum value of the list.\\n\\n    When number of arguments is equal one, then\\n    return this argument.\\n\\n    When number of arguments is equal two, then\\n    return, if possible, the value from (a, b) that is $\\\\ge$ the other.\\n\\n    In common case, when the length of list greater than 2, the task\\n    is more complicated. Return only the arguments, which are greater\\n    than others, if it is possible to determine directional relation.\\n\\n    If is not possible to determine such a relation, return a partially\\n    evaluated result.\\n\\n    Assumptions are used to make the decision too.\\n\\n    Also, only comparable arguments are permitted.\\n\\n    It is named ``Max`` and not ``max`` to avoid conflicts\\n    with the built-in function ``max``.\\n\\n\\n    Examples\\n    ========\\n\\n    >>> from sympy import Max, Symbol, oo\\n    >>> from sympy.abc import x, y, z\\n    >>> p = Symbol(\\'p\\', positive=True)\\n    >>> n = Symbol(\\'n\\', negative=True)\\n\\n    >>> Max(x, -2)\\n    Max(-2, x)\\n    >>> Max(x, -2).subs(x, 3)\\n    3\\n    >>> Max(p, -2)\\n    p\\n    >>> Max(x, y)\\n    Max(x, y)\\n    >>> Max(x, y) == Max(y, x)\\n    True\\n    >>> Max(x, Max(y, z))\\n    Max(x, y, z)\\n    >>> Max(n, 8, p, 7, -oo)\\n    Max(8, p)\\n    >>> Max (1, x, oo)\\n    oo\\n\\n    * Algorithm\\n\\n    The task can be considered as searching of supremums in the\\n    directed complete partial orders [1]_.\\n\\n    The source values are sequentially allocated by the isolated subsets\\n    in which supremums are searched and result as Max arguments.\\n\\n    If the resulted supremum is single, then it is returned.\\n\\n    The isolated subsets are the sets of values which are only the comparable\\n    with each other in the current set. E.g. natural numbers are comparable with\\n    each other, but not comparable with the `x` symbol. Another example: the\\n    symbol `x` with negative assumption is comparable with a natural number.\\n\\n    Also there are \"least\" elements, which are comparable with all others,\\n    and have a zero property (maximum or minimum for all elements).\\n    For example, in case of $\\\\infty$, the allocation operation is terminated\\n    and only this value is returned.\\n\\n    Assumption:\\n       - if $A > B > C$ then $A > C$\\n       - if $A = B$ then $B$ can be removed\\n\\n    References\\n    ==========\\n\\n    .. [1] https://en.wikipedia.org/wiki/Directed_complete_partial_order\\n    .. [2] https://en.wikipedia.org/wiki/Lattice_%28order%29\\n\\n    See Also\\n    ========\\n\\n    Min : find minimum values\\n    '"
      ]
     },
     "execution_count": 1,
     "metadata": {},
     "output_type": "execute_result"
    }
   ],
   "source": [
    "from bartiq import sympy_backend\n",
    "from bartiq.symbolics.sympy_interpreter import Max as CustomMax\n",
    "import sympy\n",
    "\n",
    "a = sympy.Symbol(\"a\")\n",
    "expr_with_custom_max = CustomMax(a, 0)\n",
    "from bartiq.analysis._rewriters.sympy_rewriter import SympyExpressionRewriter\n",
    "\n",
    "rewriter = SympyExpressionRewriter(\"max(0,a)\")\n",
    "rewriter.expression.func.__doc__"
   ]
  },
  {
   "cell_type": "code",
   "execution_count": 2,
   "id": "6aa957a6",
   "metadata": {},
   "outputs": [],
   "source": [
    "from bartiq.analysis._rewriters.sympy_rewriter import SympyExpressionRewriter, sympy_only_backend\n",
    "from tests.analysis._rewriters.basic_rewriter_tests import CommonExpressions"
   ]
  },
  {
   "cell_type": "code",
   "execution_count": 3,
   "id": "44bf8ed4",
   "metadata": {},
   "outputs": [
    {
     "data": {
      "text/plain": [
       "'\\n    Return, if possible, the maximum value of the list.\\n\\n    When number of arguments is equal one, then\\n    return this argument.\\n\\n    When number of arguments is equal two, then\\n    return, if possible, the value from (a, b) that is $\\\\ge$ the other.\\n\\n    In common case, when the length of list greater than 2, the task\\n    is more complicated. Return only the arguments, which are greater\\n    than others, if it is possible to determine directional relation.\\n\\n    If is not possible to determine such a relation, return a partially\\n    evaluated result.\\n\\n    Assumptions are used to make the decision too.\\n\\n    Also, only comparable arguments are permitted.\\n\\n    It is named ``Max`` and not ``max`` to avoid conflicts\\n    with the built-in function ``max``.\\n\\n\\n    Examples\\n    ========\\n\\n    >>> from sympy import Max, Symbol, oo\\n    >>> from sympy.abc import x, y, z\\n    >>> p = Symbol(\\'p\\', positive=True)\\n    >>> n = Symbol(\\'n\\', negative=True)\\n\\n    >>> Max(x, -2)\\n    Max(-2, x)\\n    >>> Max(x, -2).subs(x, 3)\\n    3\\n    >>> Max(p, -2)\\n    p\\n    >>> Max(x, y)\\n    Max(x, y)\\n    >>> Max(x, y) == Max(y, x)\\n    True\\n    >>> Max(x, Max(y, z))\\n    Max(x, y, z)\\n    >>> Max(n, 8, p, 7, -oo)\\n    Max(8, p)\\n    >>> Max (1, x, oo)\\n    oo\\n\\n    * Algorithm\\n\\n    The task can be considered as searching of supremums in the\\n    directed complete partial orders [1]_.\\n\\n    The source values are sequentially allocated by the isolated subsets\\n    in which supremums are searched and result as Max arguments.\\n\\n    If the resulted supremum is single, then it is returned.\\n\\n    The isolated subsets are the sets of values which are only the comparable\\n    with each other in the current set. E.g. natural numbers are comparable with\\n    each other, but not comparable with the `x` symbol. Another example: the\\n    symbol `x` with negative assumption is comparable with a natural number.\\n\\n    Also there are \"least\" elements, which are comparable with all others,\\n    and have a zero property (maximum or minimum for all elements).\\n    For example, in case of $\\\\infty$, the allocation operation is terminated\\n    and only this value is returned.\\n\\n    Assumption:\\n       - if $A > B > C$ then $A > C$\\n       - if $A = B$ then $B$ can be removed\\n\\n    References\\n    ==========\\n\\n    .. [1] https://en.wikipedia.org/wiki/Directed_complete_partial_order\\n    .. [2] https://en.wikipedia.org/wiki/Lattice_%28order%29\\n\\n    See Also\\n    ========\\n\\n    Min : find minimum values\\n    '"
      ]
     },
     "execution_count": 3,
     "metadata": {},
     "output_type": "execute_result"
    }
   ],
   "source": [
    "sympy_only_backend.as_expression(\"max(0,a)\").func.__doc__"
   ]
  },
  {
   "cell_type": "code",
   "execution_count": 4,
   "id": "ee242be8",
   "metadata": {},
   "outputs": [
    {
     "data": {
      "text/plain": [
       "{Max(a, 1 - Max(b, 1 - Max(c, lamda))),\n",
       " Max(b, 1 - Max(c, lamda)),\n",
       " Max(c, lamda)}"
      ]
     },
     "execution_count": 4,
     "metadata": {},
     "output_type": "execute_result"
    }
   ],
   "source": [
    "rewriter = SympyExpressionRewriter(CommonExpressions.NESTED_MAX)\n",
    "rewriter.all_functions_and_arguments()"
   ]
  },
  {
   "cell_type": "code",
   "execution_count": 5,
   "id": "851931c8",
   "metadata": {},
   "outputs": [],
   "source": [
    "a = set(\n",
    "    map(\n",
    "        sympy_only_backend.as_expression,\n",
    "        [\"max(c, lamda)\", \"max(b, 1-max(c, lamda))\", \"max(a, 1-max(b, 1-max(c, lamda)))\"],\n",
    "    )\n",
    ")"
   ]
  },
  {
   "cell_type": "code",
   "execution_count": 6,
   "id": "56d0c2db",
   "metadata": {},
   "outputs": [
    {
     "data": {
      "text/plain": [
       "True"
      ]
     },
     "execution_count": 6,
     "metadata": {},
     "output_type": "execute_result"
    }
   ],
   "source": [
    "rewriter.all_functions_and_arguments() == a"
   ]
  },
  {
   "cell_type": "code",
   "execution_count": 7,
   "id": "af44bb2d",
   "metadata": {},
   "outputs": [
    {
     "data": {
      "text/plain": [
       "'\\n    Return, if possible, the maximum value of the list.\\n\\n    When number of arguments is equal one, then\\n    return this argument.\\n\\n    When number of arguments is equal two, then\\n    return, if possible, the value from (a, b) that is $\\\\ge$ the other.\\n\\n    In common case, when the length of list greater than 2, the task\\n    is more complicated. Return only the arguments, which are greater\\n    than others, if it is possible to determine directional relation.\\n\\n    If is not possible to determine such a relation, return a partially\\n    evaluated result.\\n\\n    Assumptions are used to make the decision too.\\n\\n    Also, only comparable arguments are permitted.\\n\\n    It is named ``Max`` and not ``max`` to avoid conflicts\\n    with the built-in function ``max``.\\n\\n\\n    Examples\\n    ========\\n\\n    >>> from sympy import Max, Symbol, oo\\n    >>> from sympy.abc import x, y, z\\n    >>> p = Symbol(\\'p\\', positive=True)\\n    >>> n = Symbol(\\'n\\', negative=True)\\n\\n    >>> Max(x, -2)\\n    Max(-2, x)\\n    >>> Max(x, -2).subs(x, 3)\\n    3\\n    >>> Max(p, -2)\\n    p\\n    >>> Max(x, y)\\n    Max(x, y)\\n    >>> Max(x, y) == Max(y, x)\\n    True\\n    >>> Max(x, Max(y, z))\\n    Max(x, y, z)\\n    >>> Max(n, 8, p, 7, -oo)\\n    Max(8, p)\\n    >>> Max (1, x, oo)\\n    oo\\n\\n    * Algorithm\\n\\n    The task can be considered as searching of supremums in the\\n    directed complete partial orders [1]_.\\n\\n    The source values are sequentially allocated by the isolated subsets\\n    in which supremums are searched and result as Max arguments.\\n\\n    If the resulted supremum is single, then it is returned.\\n\\n    The isolated subsets are the sets of values which are only the comparable\\n    with each other in the current set. E.g. natural numbers are comparable with\\n    each other, but not comparable with the `x` symbol. Another example: the\\n    symbol `x` with negative assumption is comparable with a natural number.\\n\\n    Also there are \"least\" elements, which are comparable with all others,\\n    and have a zero property (maximum or minimum for all elements).\\n    For example, in case of $\\\\infty$, the allocation operation is terminated\\n    and only this value is returned.\\n\\n    Assumption:\\n       - if $A > B > C$ then $A > C$\\n       - if $A = B$ then $B$ can be removed\\n\\n    References\\n    ==========\\n\\n    .. [1] https://en.wikipedia.org/wiki/Directed_complete_partial_order\\n    .. [2] https://en.wikipedia.org/wiki/Lattice_%28order%29\\n\\n    See Also\\n    ========\\n\\n    Min : find minimum values\\n    '"
      ]
     },
     "execution_count": 7,
     "metadata": {},
     "output_type": "execute_result"
    }
   ],
   "source": [
    "list(a)[0].func.__doc__"
   ]
  }
 ],
 "metadata": {
  "kernelspec": {
   "display_name": ".venv",
   "language": "python",
   "name": "python3"
  },
  "language_info": {
   "codemirror_mode": {
    "name": "ipython",
    "version": 3
   },
   "file_extension": ".py",
   "mimetype": "text/x-python",
   "name": "python",
   "nbconvert_exporter": "python",
   "pygments_lexer": "ipython3",
   "version": "3.12.9"
  }
 },
 "nbformat": 4,
 "nbformat_minor": 5
}
