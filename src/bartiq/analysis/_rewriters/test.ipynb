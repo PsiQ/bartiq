{
 "cells": [
  {
   "cell_type": "code",
   "execution_count": 1,
   "id": "003d3bae",
   "metadata": {},
   "outputs": [
    {
     "data": {
      "text/plain": [
       "{A, B, C}"
      ]
     },
     "execution_count": 1,
     "metadata": {},
     "output_type": "execute_result"
    }
   ],
   "source": [
    "from sympy import sympify, Symbol\n",
    "\n",
    "A = Symbol(\"A\", positive=True)\n",
    "B = Symbol(\"B\", positive=True)\n",
    "\n",
    "expr = sympify(\"max(0, log((A + B)/2) + C)\")\n",
    "expr.free_symbols"
   ]
  },
  {
   "cell_type": "code",
   "execution_count": 9,
   "id": "d2df571e",
   "metadata": {},
   "outputs": [],
   "source": [
    "from bartiq.analysis._rewriters.sympy_rewriter import SympyExpressionRewriter, Assumption\n",
    "from sympy import sympify"
   ]
  },
  {
   "cell_type": "code",
   "execution_count": null,
   "id": "4cc1c499",
   "metadata": {},
   "outputs": [],
   "source": [
    "rewriter = SympyExpressionRewriter(\"max(0, A)\")\n",
    "assume = Assumption(\"A\", \">=\", 0)"
   ]
  },
  {
   "cell_type": "code",
   "execution_count": null,
   "id": "1fec5a03",
   "metadata": {},
   "outputs": [],
   "source": [
    "sym = rewriter.get_symbol(\"A\")"
   ]
  }
 ],
 "metadata": {
  "kernelspec": {
   "display_name": ".venv",
   "language": "python",
   "name": "python3"
  },
  "language_info": {
   "codemirror_mode": {
    "name": "ipython",
    "version": 3
   },
   "file_extension": ".py",
   "mimetype": "text/x-python",
   "name": "python",
   "nbconvert_exporter": "python",
   "pygments_lexer": "ipython3",
   "version": "3.13.3"
  }
 },
 "nbformat": 4,
 "nbformat_minor": 5
}
