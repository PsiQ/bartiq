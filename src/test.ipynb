{
 "cells": [
  {
   "cell_type": "code",
   "execution_count": null,
   "metadata": {},
   "outputs": [],
   "source": [
    "from bartiq.symbolics.sympy_backends import _postprocess, parse_to_sympy\n",
    "import sympy\n",
    "expr = sympy.s"
   ]
  }
 ],
 "metadata": {
  "kernelspec": {
   "display_name": "bartiq-NENgNB9d-py3.12",
   "language": "python",
   "name": "python3"
  },
  "language_info": {
   "name": "python",
   "version": "3.12.9"
  }
 },
 "nbformat": 4,
 "nbformat_minor": 2
}
