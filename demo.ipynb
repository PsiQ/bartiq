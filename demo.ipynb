{
 "cells": [
  {
   "cell_type": "code",
   "execution_count": null,
   "id": "785e0b02",
   "metadata": {},
   "outputs": [
    {
     "data": {
      "text/latex": [
       "$\\displaystyle \\max\\left(0, a\\right)$"
      ],
      "text/plain": [
       "Max(0, a)"
      ]
     },
     "execution_count": 50,
     "metadata": {},
     "output_type": "execute_result"
    }
   ],
   "source": [
    "from bartiq import sympy_backend\n",
    "from sympy import Max\n",
    "\n",
    "backend = sympy_backend\n",
    "backend._USE_CUSTOM_MAX = False\n",
    "\n",
    "backend.as_expression(\"max(0, a)\")"
   ]
  },
  {
   "cell_type": "code",
   "execution_count": 12,
   "id": "0b3a40b7",
   "metadata": {},
   "outputs": [],
   "source": [
    "from bartiq.analysis._rewriters.sympy_rewriter import SympyExpressionRewriter\n",
    "\n",
    "MANY_FUNCS = \"a*log2(x/n) + b*(max(0, 1+y, 2+x) + Heaviside(aleph, beth))\"\n",
    "rewriter = SympyExpressionRewriter(MANY_FUNCS)"
   ]
  },
  {
   "cell_type": "code",
   "execution_count": 13,
   "id": "64685f1b",
   "metadata": {},
   "outputs": [
    {
     "data": {
      "text/latex": [
       "$\\displaystyle a \\operatorname{log}_{2}{\\left(\\frac{x}{n} \\right)} + b \\left(\\theta\\left(\\aleph, \\beth\\right) + \\max\\left(x + 2, y + 1\\right)\\right)$"
      ],
      "text/plain": [
       "a*log2(x/n) + b*(Heaviside(aleph, beth) + Max(x + 2, y + 1))"
      ]
     },
     "execution_count": 13,
     "metadata": {},
     "output_type": "execute_result"
    }
   ],
   "source": [
    "rewriter.expression\n",
    "rewriter.add_assumption(\"y > 0\")"
   ]
  },
  {
   "cell_type": "code",
   "execution_count": null,
   "id": "cb5c69f7",
   "metadata": {},
   "outputs": [],
   "source": [
    "from bartiq import sympy_backend\n",
    "\n",
    "a = rewriter.focus([\"y\"])\n",
    "b = sympy_backend.as_expression(\"b*(Heaviside(aleph, beth) + Max(x + 2, y + 1))\")"
   ]
  },
  {
   "cell_type": "code",
   "execution_count": null,
   "id": "9a6d1edc",
   "metadata": {},
   "outputs": [],
   "source": [
    "from sympy import Max\n",
    "from bartiq.symbolics.sympy_interpreter import Max as CustomMax\n",
    "\n",
    "b = b.replace(CustomMax, Max)"
   ]
  },
  {
   "cell_type": "code",
   "execution_count": 36,
   "id": "f4d830ce",
   "metadata": {},
   "outputs": [],
   "source": [
    "x_1 = list(a.free_symbols)[2]"
   ]
  },
  {
   "cell_type": "code",
   "execution_count": 46,
   "id": "d0bc418c",
   "metadata": {},
   "outputs": [],
   "source": [
    "x_2 = list(b.free_symbols)[4]"
   ]
  },
  {
   "cell_type": "code",
   "execution_count": 47,
   "id": "12fb77f6",
   "metadata": {},
   "outputs": [
    {
     "data": {
      "text/plain": [
       "(y, y)"
      ]
     },
     "execution_count": 47,
     "metadata": {},
     "output_type": "execute_result"
    }
   ],
   "source": [
    "(x_1, x_2)"
   ]
  },
  {
   "cell_type": "code",
   "execution_count": 48,
   "id": "65d0736d",
   "metadata": {},
   "outputs": [
    {
     "data": {
      "text/plain": [
       "False"
      ]
     },
     "execution_count": 48,
     "metadata": {},
     "output_type": "execute_result"
    }
   ],
   "source": [
    "x_1 == x_2"
   ]
  },
  {
   "cell_type": "code",
   "execution_count": 3,
   "id": "fa1fac62",
   "metadata": {},
   "outputs": [
    {
     "data": {
      "text/latex": [
       "$\\displaystyle a \\operatorname{log}_{2}{\\left(\\frac{x}{n} \\right)} + b \\left(\\max\\left(x + 2, y + 1\\right) + 1\\right)$"
      ],
      "text/plain": [
       "a*log2(x/n) + b*(Max(x + 2, y + 1) + 1)"
      ]
     },
     "execution_count": 3,
     "metadata": {},
     "output_type": "execute_result"
    }
   ],
   "source": [
    "rewriter.add_assumption(\"aleph > 0\")"
   ]
  },
  {
   "cell_type": "code",
   "execution_count": 4,
   "id": "686094c9",
   "metadata": {},
   "outputs": [
    {
     "data": {
      "text/plain": [
       "{Assumption(aleph>0.0), Assumption(x>0.0)}"
      ]
     },
     "execution_count": 4,
     "metadata": {},
     "output_type": "execute_result"
    }
   ],
   "source": [
    "rewriter.applied_assumptions"
   ]
  },
  {
   "cell_type": "code",
   "execution_count": 1,
   "id": "c2c2c877",
   "metadata": {},
   "outputs": [],
   "source": [
    "from bartiq.analysis._rewriters.sympy_rewriter import SympyExpressionRewriter\n",
    "\n",
    "expr = \"237*aleph + 55*beth*(-1 + (beth*(n/2 - 1)*(calc_lambda(M, beth*(n/2 - 1)) - 1) + beth*(n/2 - 1))/(beth*(n/2 - 1)))*(n/2 - 1) + 55*beth*(-1 + (beth*(n/2 - 1)*(calc_lambda(M + n/2, beth*(n/2 - 1)) - 1) + beth*(n/2 - 1))/(beth*(n/2 - 1)))*(n/2 - 1) + 3*beth*(n/2 - 1)*(calc_lambda(M, beth*(n/2 - 1)) - 1) + 3*beth*(n/2 - 1)*(calc_lambda(M + n/2, beth*(n/2 - 1)) - 1) + 6*beth*(n/2 - 1) + 3*beth + 110*n + (-1 + (aleph + (calc_lambda(M*(M + 1)/2 + n/2, aleph + 2*ceiling(log2(M + 1)) + 2) - 1)*(aleph + 2*ceiling(log2(M + 1)) + 2) + 2*ceiling(log2(M + 1)) + 2)/(aleph + 2*ceiling(log2(M + 1)) + 2))*(55*aleph + 110*ceiling(log2(M + 1)) + 110) + 4*(n/2 - 1)*(8*beth + 100*(Mod(-1, beth + 1)) - 40) + (3*calc_lambda(M*(M + 1)/2 + n/2, aleph + 2*ceiling(log2(M + 1)) + 2) - 3)*(aleph + 2*ceiling(log2(M + 1)) + 2) + (ceiling(0.75*beth*(n/2 - 1)*(calc_lambda(M, beth*(n/2 - 1)) - 1) + 0.75*beth*(n/2 - 1)) + 49)*Max(0, -select_elbow_const(ceiling(M/calc_lambda(M, beth*(n/2 - 1))), 0) + ceiling(M/calc_lambda(M, beth*(n/2 - 1)))) + (ceiling(0.75*beth*(n/2 - 1)*(calc_lambda(M + n/2, beth*(n/2 - 1)) - 1) + 0.75*beth*(n/2 - 1)) + 49)*Max(0, -select_elbow_const(ceiling((M + n/2)/calc_lambda(M + n/2, beth*(n/2 - 1))), 0) + ceiling((M + n/2)/calc_lambda(M + n/2, beth*(n/2 - 1)))) + (ceiling(0.75*aleph + (0.75*calc_lambda(M*(M + 1)/2 + n/2, aleph + 2*ceiling(log2(M + 1)) + 2) - 0.75)*(aleph + 2*ceiling(log2(M + 1)) + 2) + 1.5*ceiling(log2(M + 1)) + 1.5) + 49)*Max(0, -select_elbow_const(ceiling((M*(M + 1)/2 + n/2)/calc_lambda(M*(M + 1)/2 + n/2, aleph + 2*ceiling(log2(M + 1)) + 2)), 0) + ceiling((M*(M + 1)/2 + n/2)/calc_lambda(M*(M + 1)/2 + n/2, aleph + 2*ceiling(log2(M + 1)) + 2))) + (ceiling(0.75*calc_lambda(M, 1)) + 49)*Max(0, -select_elbow_const(ceiling(M/calc_lambda(M, 1)), 0) + ceiling(M/calc_lambda(M, 1))) + (ceiling(0.75*calc_lambda(M + n/2, 1)) + 49)*Max(0, -select_elbow_const(ceiling((M + n/2)/calc_lambda(M + n/2, 1)), 0) + ceiling((M + n/2)/calc_lambda(M + n/2, 1))) + (ceiling(0.75*calc_lambda(M*(M + 1)/2 + n/2, 1)) + 49)*Max(0, -select_elbow_const(ceiling((M*(M + 1)/2 + n/2)/calc_lambda(M*(M + 1)/2 + n/2, 1)), 0) + ceiling((M*(M + 1)/2 + n/2)/calc_lambda(M*(M + 1)/2 + n/2, 1))) + 1397*Max(0, -Heaviside(0.5 - beth, 0)*Heaviside(beth - 0.5, 0) - Heaviside(1.5 - beth, 0)*Heaviside(beth - 1.5, 0)) + 1397*Max(0, beth - Heaviside(beth - 1.5, 0) - Heaviside(beth - 0.5, 0)) + 102*calc_lambda(M, 1) + 102*calc_lambda(M + n/2, 1) + 102*calc_lambda(M*(M + 1)/2 + n/2, 1) + 5*Heaviside(0.5 - beth, 0)*Heaviside(beth - 0.5, 0) + 28.5*Heaviside(1.5 - beth, 0)*Heaviside(beth - 1.5, 0) + 28.5*Heaviside(beth - 1.5, 0) + 5*Heaviside(beth - 0.5, 0) + 147*Heaviside(ceiling(log2(M + 1)) - 1.5, 0) + 94*Heaviside(2*ceiling(log2(M + 1)) - 1.5, 0) - 55*Mod(2, aleph + 2*ceiling(log2(M + 1)) + 2) + 3696*ceiling(log2(M + 1)) - 294*Min(2, ceiling(log2(M + 1))) - 98*Min(2, 2*ceiling(log2(M + 1))) + 3107\""
   ]
  },
  {
   "cell_type": "code",
   "execution_count": 4,
   "id": "cc4fe08c",
   "metadata": {},
   "outputs": [
    {
     "data": {
      "text/latex": [
       "$\\displaystyle \\frac{49 M^{2}}{2 \\operatorname{calc}_{\\lambda}{\\left(\\frac{M^{2}}{2} + \\frac{M}{2} + \\frac{n}{2},\\aleph + 2 \\operatorname{log}_{2}{\\left(M + 1 \\right)} + 2 \\right)}} + \\frac{49 M^{2}}{2 \\operatorname{calc}_{\\lambda}{\\left(\\frac{M^{2}}{2} + \\frac{M}{2} + \\frac{n}{2},1 \\right)}} + \\frac{49 M}{2 \\operatorname{calc}_{\\lambda}{\\left(\\frac{M^{2}}{2} + \\frac{M}{2} + \\frac{n}{2},\\aleph + 2 \\operatorname{log}_{2}{\\left(M + 1 \\right)} + 2 \\right)}} + \\frac{49 M}{2 \\operatorname{calc}_{\\lambda}{\\left(\\frac{M^{2}}{2} + \\frac{M}{2} + \\frac{n}{2},1 \\right)}} + \\frac{49 M}{\\operatorname{calc}_{\\lambda}{\\left(M + \\frac{n}{2},\\frac{\\beth n}{2} - \\beth \\right)}} + \\frac{49 M}{\\operatorname{calc}_{\\lambda}{\\left(M + \\frac{n}{2},1 \\right)}} + \\frac{49 M}{\\operatorname{calc}_{\\lambda}{\\left(M,\\frac{\\beth n}{2} - \\beth \\right)}} + \\frac{49 M}{\\operatorname{calc}_{\\lambda}{\\left(M,1 \\right)}} + \\frac{55 \\aleph^{2} \\operatorname{calc}_{\\lambda}{\\left(\\frac{M^{2}}{2} + \\frac{M}{2} + \\frac{n}{2},\\aleph + 2 \\operatorname{log}_{2}{\\left(M + 1 \\right)} + 2 \\right)}}{\\aleph + 2 \\operatorname{log}_{2}{\\left(M + 1 \\right)} + 2} + 3 \\aleph \\operatorname{calc}_{\\lambda}{\\left(\\frac{M^{2}}{2} + \\frac{M}{2} + \\frac{n}{2},\\aleph + 2 \\operatorname{log}_{2}{\\left(M + 1 \\right)} + 2 \\right)} + 179 \\aleph + \\frac{220 \\aleph \\operatorname{calc}_{\\lambda}{\\left(\\frac{M^{2}}{2} + \\frac{M}{2} + \\frac{n}{2},\\aleph + 2 \\operatorname{log}_{2}{\\left(M + 1 \\right)} + 2 \\right)} \\operatorname{log}_{2}{\\left(M + 1 \\right)}}{\\aleph + 2 \\operatorname{log}_{2}{\\left(M + 1 \\right)} + 2} + \\frac{220 \\aleph \\operatorname{calc}_{\\lambda}{\\left(\\frac{M^{2}}{2} + \\frac{M}{2} + \\frac{n}{2},\\aleph + 2 \\operatorname{log}_{2}{\\left(M + 1 \\right)} + 2 \\right)}}{\\aleph + 2 \\operatorname{log}_{2}{\\left(M + 1 \\right)} + 2} + \\frac{55 \\beth^{2} n^{2} \\operatorname{calc}_{\\lambda}{\\left(M,\\frac{\\beth n}{2} - \\beth \\right)}}{2 \\beth n - 4 \\beth} + \\frac{55 \\beth^{2} n^{2} \\operatorname{calc}_{\\lambda}{\\left(M + \\frac{n}{2},\\frac{\\beth n}{2} - \\beth \\right)}}{2 \\beth n - 4 \\beth} - \\frac{55 \\beth^{2} n \\operatorname{calc}_{\\lambda}{\\left(M,\\frac{\\beth n}{2} - \\beth \\right)}}{\\frac{\\beth n}{2} - \\beth} - \\frac{55 \\beth^{2} n \\operatorname{calc}_{\\lambda}{\\left(M + \\frac{n}{2},\\frac{\\beth n}{2} - \\beth \\right)}}{\\frac{\\beth n}{2} - \\beth} + \\frac{55 \\beth^{2} \\operatorname{calc}_{\\lambda}{\\left(M,\\frac{\\beth n}{2} - \\beth \\right)}}{\\frac{\\beth n}{2} - \\beth} + \\frac{55 \\beth^{2} \\operatorname{calc}_{\\lambda}{\\left(M + \\frac{n}{2},\\frac{\\beth n}{2} - \\beth \\right)}}{\\frac{\\beth n}{2} - \\beth} + \\frac{3 \\beth n \\operatorname{calc}_{\\lambda}{\\left(M,\\frac{\\beth n}{2} - \\beth \\right)}}{2} + \\frac{3 \\beth n \\operatorname{calc}_{\\lambda}{\\left(M + \\frac{n}{2},\\frac{\\beth n}{2} - \\beth \\right)}}{2} - 39 \\beth n - 3 \\beth \\operatorname{calc}_{\\lambda}{\\left(M,\\frac{\\beth n}{2} - \\beth \\right)} - 3 \\beth \\operatorname{calc}_{\\lambda}{\\left(M + \\frac{n}{2},\\frac{\\beth n}{2} - \\beth \\right)} + 1478 \\beth + \\left(200 n \\left(\\left(-1\\right) \\bmod \\left(\\beth + 1\\right)\\right)\\right) + 30 n + \\frac{49 n}{2 \\operatorname{calc}_{\\lambda}{\\left(\\frac{M^{2}}{2} + \\frac{M}{2} + \\frac{n}{2},\\aleph + 2 \\operatorname{log}_{2}{\\left(M + 1 \\right)} + 2 \\right)}} + \\frac{49 n}{2 \\operatorname{calc}_{\\lambda}{\\left(\\frac{M^{2}}{2} + \\frac{M}{2} + \\frac{n}{2},1 \\right)}} + \\frac{49 n}{2 \\operatorname{calc}_{\\lambda}{\\left(M + \\frac{n}{2},\\frac{\\beth n}{2} - \\beth \\right)}} + \\frac{49 n}{2 \\operatorname{calc}_{\\lambda}{\\left(M + \\frac{n}{2},1 \\right)}} + 0.75 \\left(\\frac{M}{\\operatorname{calc}_{\\lambda}{\\left(M,1 \\right)}} - \\operatorname{select}_{elbow const}{\\left(\\frac{M}{\\operatorname{calc}_{\\lambda}{\\left(M,1 \\right)}},0 \\right)}\\right) \\operatorname{calc}_{\\lambda}{\\left(M,1 \\right)} + \\left(\\frac{M}{\\operatorname{calc}_{\\lambda}{\\left(M,\\frac{\\beth n}{2} - \\beth \\right)}} - \\operatorname{select}_{elbow const}{\\left(\\frac{M}{\\operatorname{calc}_{\\lambda}{\\left(M,\\frac{\\beth n}{2} - \\beth \\right)}},0 \\right)}\\right) \\left(0.375 \\beth n \\operatorname{calc}_{\\lambda}{\\left(M,\\frac{\\beth n}{2} - \\beth \\right)} - 0.75 \\beth \\operatorname{calc}_{\\lambda}{\\left(M,\\frac{\\beth n}{2} - \\beth \\right)}\\right) + \\left(0.375 \\beth n \\operatorname{calc}_{\\lambda}{\\left(M + \\frac{n}{2},\\frac{\\beth n}{2} - \\beth \\right)} - 0.75 \\beth \\operatorname{calc}_{\\lambda}{\\left(M + \\frac{n}{2},\\frac{\\beth n}{2} - \\beth \\right)}\\right) \\left(\\frac{M}{\\operatorname{calc}_{\\lambda}{\\left(M + \\frac{n}{2},\\frac{\\beth n}{2} - \\beth \\right)}} + \\frac{n}{2 \\operatorname{calc}_{\\lambda}{\\left(M + \\frac{n}{2},\\frac{\\beth n}{2} - \\beth \\right)}} - \\operatorname{select}_{elbow const}{\\left(\\frac{M}{\\operatorname{calc}_{\\lambda}{\\left(M + \\frac{n}{2},\\frac{\\beth n}{2} - \\beth \\right)}} + \\frac{n}{2 \\operatorname{calc}_{\\lambda}{\\left(M + \\frac{n}{2},\\frac{\\beth n}{2} - \\beth \\right)}},0 \\right)}\\right) + 0.75 \\left(\\frac{M}{\\operatorname{calc}_{\\lambda}{\\left(M + \\frac{n}{2},1 \\right)}} + \\frac{n}{2 \\operatorname{calc}_{\\lambda}{\\left(M + \\frac{n}{2},1 \\right)}} - \\operatorname{select}_{elbow const}{\\left(\\frac{M}{\\operatorname{calc}_{\\lambda}{\\left(M + \\frac{n}{2},1 \\right)}} + \\frac{n}{2 \\operatorname{calc}_{\\lambda}{\\left(M + \\frac{n}{2},1 \\right)}},0 \\right)}\\right) \\operatorname{calc}_{\\lambda}{\\left(M + \\frac{n}{2},1 \\right)} + \\left(0.75 \\aleph \\operatorname{calc}_{\\lambda}{\\left(\\frac{M^{2}}{2} + \\frac{M}{2} + \\frac{n}{2},\\aleph + 2 \\operatorname{log}_{2}{\\left(M + 1 \\right)} + 2 \\right)} + 1.5 \\operatorname{calc}_{\\lambda}{\\left(\\frac{M^{2}}{2} + \\frac{M}{2} + \\frac{n}{2},\\aleph + 2 \\operatorname{log}_{2}{\\left(M + 1 \\right)} + 2 \\right)} \\operatorname{log}_{2}{\\left(M + 1 \\right)} + 1.5 \\operatorname{calc}_{\\lambda}{\\left(\\frac{M^{2}}{2} + \\frac{M}{2} + \\frac{n}{2},\\aleph + 2 \\operatorname{log}_{2}{\\left(M + 1 \\right)} + 2 \\right)}\\right) \\left(\\frac{M^{2}}{2 \\operatorname{calc}_{\\lambda}{\\left(\\frac{M^{2}}{2} + \\frac{M}{2} + \\frac{n}{2},\\aleph + 2 \\operatorname{log}_{2}{\\left(M + 1 \\right)} + 2 \\right)}} + \\frac{M}{2 \\operatorname{calc}_{\\lambda}{\\left(\\frac{M^{2}}{2} + \\frac{M}{2} + \\frac{n}{2},\\aleph + 2 \\operatorname{log}_{2}{\\left(M + 1 \\right)} + 2 \\right)}} + \\frac{n}{2 \\operatorname{calc}_{\\lambda}{\\left(\\frac{M^{2}}{2} + \\frac{M}{2} + \\frac{n}{2},\\aleph + 2 \\operatorname{log}_{2}{\\left(M + 1 \\right)} + 2 \\right)}} - \\operatorname{select}_{elbow const}{\\left(\\frac{M^{2}}{2 \\operatorname{calc}_{\\lambda}{\\left(\\frac{M^{2}}{2} + \\frac{M}{2} + \\frac{n}{2},\\aleph + 2 \\operatorname{log}_{2}{\\left(M + 1 \\right)} + 2 \\right)}} + \\frac{M}{2 \\operatorname{calc}_{\\lambda}{\\left(\\frac{M^{2}}{2} + \\frac{M}{2} + \\frac{n}{2},\\aleph + 2 \\operatorname{log}_{2}{\\left(M + 1 \\right)} + 2 \\right)}} + \\frac{n}{2 \\operatorname{calc}_{\\lambda}{\\left(\\frac{M^{2}}{2} + \\frac{M}{2} + \\frac{n}{2},\\aleph + 2 \\operatorname{log}_{2}{\\left(M + 1 \\right)} + 2 \\right)}},0 \\right)}\\right) + 0.75 \\left(\\frac{M^{2}}{2 \\operatorname{calc}_{\\lambda}{\\left(\\frac{M^{2}}{2} + \\frac{M}{2} + \\frac{n}{2},1 \\right)}} + \\frac{M}{2 \\operatorname{calc}_{\\lambda}{\\left(\\frac{M^{2}}{2} + \\frac{M}{2} + \\frac{n}{2},1 \\right)}} + \\frac{n}{2 \\operatorname{calc}_{\\lambda}{\\left(\\frac{M^{2}}{2} + \\frac{M}{2} + \\frac{n}{2},1 \\right)}} - \\operatorname{select}_{elbow const}{\\left(\\frac{M^{2}}{2 \\operatorname{calc}_{\\lambda}{\\left(\\frac{M^{2}}{2} + \\frac{M}{2} + \\frac{n}{2},1 \\right)}} + \\frac{M}{2 \\operatorname{calc}_{\\lambda}{\\left(\\frac{M^{2}}{2} + \\frac{M}{2} + \\frac{n}{2},1 \\right)}} + \\frac{n}{2 \\operatorname{calc}_{\\lambda}{\\left(\\frac{M^{2}}{2} + \\frac{M}{2} + \\frac{n}{2},1 \\right)}},0 \\right)}\\right) \\operatorname{calc}_{\\lambda}{\\left(\\frac{M^{2}}{2} + \\frac{M}{2} + \\frac{n}{2},1 \\right)} + 102 \\operatorname{calc}_{\\lambda}{\\left(M,1 \\right)} + 102 \\operatorname{calc}_{\\lambda}{\\left(M + \\frac{n}{2},1 \\right)} + 102 \\operatorname{calc}_{\\lambda}{\\left(\\frac{M^{2}}{2} + \\frac{M}{2} + \\frac{n}{2},1 \\right)} + 6 \\operatorname{calc}_{\\lambda}{\\left(\\frac{M^{2}}{2} + \\frac{M}{2} + \\frac{n}{2},\\aleph + 2 \\operatorname{log}_{2}{\\left(M + 1 \\right)} + 2 \\right)} \\operatorname{log}_{2}{\\left(M + 1 \\right)} + 6 \\operatorname{calc}_{\\lambda}{\\left(\\frac{M^{2}}{2} + \\frac{M}{2} + \\frac{n}{2},\\aleph + 2 \\operatorname{log}_{2}{\\left(M + 1 \\right)} + 2 \\right)} - 49 \\operatorname{select}_{elbow const}{\\left(\\frac{M}{\\operatorname{calc}_{\\lambda}{\\left(M,1 \\right)}},0 \\right)} - 49 \\operatorname{select}_{elbow const}{\\left(\\frac{M}{\\operatorname{calc}_{\\lambda}{\\left(M,\\frac{\\beth n}{2} - \\beth \\right)}},0 \\right)} - 49 \\operatorname{select}_{elbow const}{\\left(\\frac{M}{\\operatorname{calc}_{\\lambda}{\\left(M + \\frac{n}{2},1 \\right)}} + \\frac{n}{2 \\operatorname{calc}_{\\lambda}{\\left(M + \\frac{n}{2},1 \\right)}},0 \\right)} - 49 \\operatorname{select}_{elbow const}{\\left(\\frac{M}{\\operatorname{calc}_{\\lambda}{\\left(M + \\frac{n}{2},\\frac{\\beth n}{2} - \\beth \\right)}} + \\frac{n}{2 \\operatorname{calc}_{\\lambda}{\\left(M + \\frac{n}{2},\\frac{\\beth n}{2} - \\beth \\right)}},0 \\right)} - 49 \\operatorname{select}_{elbow const}{\\left(\\frac{M^{2}}{2 \\operatorname{calc}_{\\lambda}{\\left(\\frac{M^{2}}{2} + \\frac{M}{2} + \\frac{n}{2},1 \\right)}} + \\frac{M}{2 \\operatorname{calc}_{\\lambda}{\\left(\\frac{M^{2}}{2} + \\frac{M}{2} + \\frac{n}{2},1 \\right)}} + \\frac{n}{2 \\operatorname{calc}_{\\lambda}{\\left(\\frac{M^{2}}{2} + \\frac{M}{2} + \\frac{n}{2},1 \\right)}},0 \\right)} - 49 \\operatorname{select}_{elbow const}{\\left(\\frac{M^{2}}{2 \\operatorname{calc}_{\\lambda}{\\left(\\frac{M^{2}}{2} + \\frac{M}{2} + \\frac{n}{2},\\aleph + 2 \\operatorname{log}_{2}{\\left(M + 1 \\right)} + 2 \\right)}} + \\frac{M}{2 \\operatorname{calc}_{\\lambda}{\\left(\\frac{M^{2}}{2} + \\frac{M}{2} + \\frac{n}{2},\\aleph + 2 \\operatorname{log}_{2}{\\left(M + 1 \\right)} + 2 \\right)}} + \\frac{n}{2 \\operatorname{calc}_{\\lambda}{\\left(\\frac{M^{2}}{2} + \\frac{M}{2} + \\frac{n}{2},\\aleph + 2 \\operatorname{log}_{2}{\\left(M + 1 \\right)} + 2 \\right)}},0 \\right)} - 1392 \\theta\\left(0.5 - \\beth, 0\\right) \\theta\\left(\\beth - 0.5, 0\\right) - 1368.5 \\theta\\left(1.5 - \\beth, 0\\right) \\theta\\left(\\beth - 1.5, 0\\right) - 1368.5 \\theta\\left(\\beth - 1.5, 0\\right) - 1392 \\theta\\left(\\beth - 0.5, 0\\right) + 147 \\theta\\left(\\operatorname{log}_{2}{\\left(M + 1 \\right)} - 1.5, 0\\right) + 94 \\theta\\left(2 \\operatorname{log}_{2}{\\left(M + 1 \\right)} - 1.5, 0\\right) - \\left(400 \\left(\\left(-1\\right) \\bmod \\left(\\beth + 1\\right)\\right)\\right) - \\left(55 \\left(2 \\bmod \\left(\\aleph + 2 \\operatorname{log}_{2}{\\left(M + 1 \\right)} + 2\\right)\\right)\\right) + 3580 \\operatorname{log}_{2}{\\left(M + 1 \\right)} - 294 \\min\\left(2, \\operatorname{log}_{2}{\\left(M + 1 \\right)}\\right) - 98 \\min\\left(2, 2 \\operatorname{log}_{2}{\\left(M + 1 \\right)}\\right) + 3151 + \\frac{220 \\operatorname{calc}_{\\lambda}{\\left(\\frac{M^{2}}{2} + \\frac{M}{2} + \\frac{n}{2},\\aleph + 2 \\operatorname{log}_{2}{\\left(M + 1 \\right)} + 2 \\right)} \\operatorname{log}_{2}^{2}{\\left(M + 1 \\right)}}{\\aleph + 2 \\operatorname{log}_{2}{\\left(M + 1 \\right)} + 2} + \\frac{440 \\operatorname{calc}_{\\lambda}{\\left(\\frac{M^{2}}{2} + \\frac{M}{2} + \\frac{n}{2},\\aleph + 2 \\operatorname{log}_{2}{\\left(M + 1 \\right)} + 2 \\right)} \\operatorname{log}_{2}{\\left(M + 1 \\right)}}{\\aleph + 2 \\operatorname{log}_{2}{\\left(M + 1 \\right)} + 2} + \\frac{220 \\operatorname{calc}_{\\lambda}{\\left(\\frac{M^{2}}{2} + \\frac{M}{2} + \\frac{n}{2},\\aleph + 2 \\operatorname{log}_{2}{\\left(M + 1 \\right)} + 2 \\right)}}{\\aleph + 2 \\operatorname{log}_{2}{\\left(M + 1 \\right)} + 2}$"
      ],
      "text/plain": [
       "49*M**2/(2*calc_lambda(M**2/2 + M/2 + n/2, aleph + 2*log2(M + 1) + 2)) + 49*M**2/(2*calc_lambda(M**2/2 + M/2 + n/2, 1)) + 49*M/(2*calc_lambda(M**2/2 + M/2 + n/2, aleph + 2*log2(M + 1) + 2)) + 49*M/(2*calc_lambda(M**2/2 + M/2 + n/2, 1)) + 49*M/calc_lambda(M + n/2, beth*n/2 - beth) + 49*M/calc_lambda(M + n/2, 1) + 49*M/calc_lambda(M, beth*n/2 - beth) + 49*M/calc_lambda(M, 1) + 55*aleph**2*calc_lambda(M**2/2 + M/2 + n/2, aleph + 2*log2(M + 1) + 2)/(aleph + 2*log2(M + 1) + 2) + 3*aleph*calc_lambda(M**2/2 + M/2 + n/2, aleph + 2*log2(M + 1) + 2) + 179*aleph + 220*aleph*calc_lambda(M**2/2 + M/2 + n/2, aleph + 2*log2(M + 1) + 2)*log2(M + 1)/(aleph + 2*log2(M + 1) + 2) + 220*aleph*calc_lambda(M**2/2 + M/2 + n/2, aleph + 2*log2(M + 1) + 2)/(aleph + 2*log2(M + 1) + 2) + 55*beth**2*n**2*calc_lambda(M, beth*n/2 - beth)/(2*beth*n - 4*beth) + 55*beth**2*n**2*calc_lambda(M + n/2, beth*n/2 - beth)/(2*beth*n - 4*beth) - 55*beth**2*n*calc_lambda(M, beth*n/2 - beth)/(beth*n/2 - beth) - 55*beth**2*n*calc_lambda(M + n/2, beth*n/2 - beth)/(beth*n/2 - beth) + 55*beth**2*calc_lambda(M, beth*n/2 - beth)/(beth*n/2 - beth) + 55*beth**2*calc_lambda(M + n/2, beth*n/2 - beth)/(beth*n/2 - beth) + 3*beth*n*calc_lambda(M, beth*n/2 - beth)/2 + 3*beth*n*calc_lambda(M + n/2, beth*n/2 - beth)/2 - 39*beth*n - 3*beth*calc_lambda(M, beth*n/2 - beth) - 3*beth*calc_lambda(M + n/2, beth*n/2 - beth) + 1478*beth + 200*n*(Mod(-1, beth + 1)) + 30*n + 49*n/(2*calc_lambda(M**2/2 + M/2 + n/2, aleph + 2*log2(M + 1) + 2)) + 49*n/(2*calc_lambda(M**2/2 + M/2 + n/2, 1)) + 49*n/(2*calc_lambda(M + n/2, beth*n/2 - beth)) + 49*n/(2*calc_lambda(M + n/2, 1)) + 0.75*(M/calc_lambda(M, 1) - select_elbow_const(M/calc_lambda(M, 1), 0))*calc_lambda(M, 1) + (M/calc_lambda(M, beth*n/2 - beth) - select_elbow_const(M/calc_lambda(M, beth*n/2 - beth), 0))*(0.375*beth*n*calc_lambda(M, beth*n/2 - beth) - 0.75*beth*calc_lambda(M, beth*n/2 - beth)) + (0.375*beth*n*calc_lambda(M + n/2, beth*n/2 - beth) - 0.75*beth*calc_lambda(M + n/2, beth*n/2 - beth))*(M/calc_lambda(M + n/2, beth*n/2 - beth) + n/(2*calc_lambda(M + n/2, beth*n/2 - beth)) - select_elbow_const(M/calc_lambda(M + n/2, beth*n/2 - beth) + n/(2*calc_lambda(M + n/2, beth*n/2 - beth)), 0)) + 0.75*(M/calc_lambda(M + n/2, 1) + n/(2*calc_lambda(M + n/2, 1)) - select_elbow_const(M/calc_lambda(M + n/2, 1) + n/(2*calc_lambda(M + n/2, 1)), 0))*calc_lambda(M + n/2, 1) + (0.75*aleph*calc_lambda(M**2/2 + M/2 + n/2, aleph + 2*log2(M + 1) + 2) + 1.5*calc_lambda(M**2/2 + M/2 + n/2, aleph + 2*log2(M + 1) + 2)*log2(M + 1) + 1.5*calc_lambda(M**2/2 + M/2 + n/2, aleph + 2*log2(M + 1) + 2))*(M**2/(2*calc_lambda(M**2/2 + M/2 + n/2, aleph + 2*log2(M + 1) + 2)) + M/(2*calc_lambda(M**2/2 + M/2 + n/2, aleph + 2*log2(M + 1) + 2)) + n/(2*calc_lambda(M**2/2 + M/2 + n/2, aleph + 2*log2(M + 1) + 2)) - select_elbow_const(M**2/(2*calc_lambda(M**2/2 + M/2 + n/2, aleph + 2*log2(M + 1) + 2)) + M/(2*calc_lambda(M**2/2 + M/2 + n/2, aleph + 2*log2(M + 1) + 2)) + n/(2*calc_lambda(M**2/2 + M/2 + n/2, aleph + 2*log2(M + 1) + 2)), 0)) + 0.75*(M**2/(2*calc_lambda(M**2/2 + M/2 + n/2, 1)) + M/(2*calc_lambda(M**2/2 + M/2 + n/2, 1)) + n/(2*calc_lambda(M**2/2 + M/2 + n/2, 1)) - select_elbow_const(M**2/(2*calc_lambda(M**2/2 + M/2 + n/2, 1)) + M/(2*calc_lambda(M**2/2 + M/2 + n/2, 1)) + n/(2*calc_lambda(M**2/2 + M/2 + n/2, 1)), 0))*calc_lambda(M**2/2 + M/2 + n/2, 1) + 102*calc_lambda(M, 1) + 102*calc_lambda(M + n/2, 1) + 102*calc_lambda(M**2/2 + M/2 + n/2, 1) + 6*calc_lambda(M**2/2 + M/2 + n/2, aleph + 2*log2(M + 1) + 2)*log2(M + 1) + 6*calc_lambda(M**2/2 + M/2 + n/2, aleph + 2*log2(M + 1) + 2) - 49*select_elbow_const(M/calc_lambda(M, 1), 0) - 49*select_elbow_const(M/calc_lambda(M, beth*n/2 - beth), 0) - 49*select_elbow_const(M/calc_lambda(M + n/2, 1) + n/(2*calc_lambda(M + n/2, 1)), 0) - 49*select_elbow_const(M/calc_lambda(M + n/2, beth*n/2 - beth) + n/(2*calc_lambda(M + n/2, beth*n/2 - beth)), 0) - 49*select_elbow_const(M**2/(2*calc_lambda(M**2/2 + M/2 + n/2, 1)) + M/(2*calc_lambda(M**2/2 + M/2 + n/2, 1)) + n/(2*calc_lambda(M**2/2 + M/2 + n/2, 1)), 0) - 49*select_elbow_const(M**2/(2*calc_lambda(M**2/2 + M/2 + n/2, aleph + 2*log2(M + 1) + 2)) + M/(2*calc_lambda(M**2/2 + M/2 + n/2, aleph + 2*log2(M + 1) + 2)) + n/(2*calc_lambda(M**2/2 + M/2 + n/2, aleph + 2*log2(M + 1) + 2)), 0) - 1392*Heaviside(0.5 - beth, 0)*Heaviside(beth - 0.5, 0) - 1368.5*Heaviside(1.5 - beth, 0)*Heaviside(beth - 1.5, 0) - 1368.5*Heaviside(beth - 1.5, 0) - 1392*Heaviside(beth - 0.5, 0) + 147*Heaviside(log2(M + 1) - 1.5, 0) + 94*Heaviside(2*log2(M + 1) - 1.5, 0) - 400*Mod(-1, beth + 1) - 55*Mod(2, aleph + 2*log2(M + 1) + 2) + 3580*log2(M + 1) - 294*Min(2, log2(M + 1)) - 98*Min(2, 2*log2(M + 1)) + 3151 + 220*calc_lambda(M**2/2 + M/2 + n/2, aleph + 2*log2(M + 1) + 2)*log2(M + 1)**2/(aleph + 2*log2(M + 1) + 2) + 440*calc_lambda(M**2/2 + M/2 + n/2, aleph + 2*log2(M + 1) + 2)*log2(M + 1)/(aleph + 2*log2(M + 1) + 2) + 220*calc_lambda(M**2/2 + M/2 + n/2, aleph + 2*log2(M + 1) + 2)/(aleph + 2*log2(M + 1) + 2)"
      ]
     },
     "execution_count": 4,
     "metadata": {},
     "output_type": "execute_result"
    }
   ],
   "source": [
    "rewriter = SympyExpressionRewriter(expr)\n",
    "rewriter.expand().substitute(\"max(0, $x)\", \"x\").substitute(\"ceiling($x)\", \"x\")"
   ]
  },
  {
   "cell_type": "code",
   "execution_count": 2,
   "id": "f7372ff5",
   "metadata": {},
   "outputs": [
    {
     "data": {
      "text/plain": [
       "0.375*M**2*aleph + 0.75*M**2*log(M + 1)/log(2) + 1.125*M**2 + 24.5*M**2/calc_lambda(M**2/2 + M/2 + n/2, aleph + 2*log(M + 1)/log(2) + 2.0) + 49*M**2/(2*calc_lambda(M**2/2 + M/2 + n/2, 1)) + 0.375*M*aleph + 0.75*M*beth*n - 1.5*M*beth + 0.75*M*log(M + 1)/log(2) + 2.625*M + 24.5*M/calc_lambda(M**2/2 + M/2 + n/2, aleph + 2*log(M + 1)/log(2) + 2.0) + 49*M/(2*calc_lambda(M**2/2 + M/2 + n/2, 1)) + 49*M/calc_lambda(M + n/2, beth*n/2 - beth) + 49*M/calc_lambda(M + n/2, 1) + 49*M/calc_lambda(M, beth*n/2 - beth) + 49*M/calc_lambda(M, 1) + 55*aleph**2*calc_lambda(M**2/2 + M/2 + n/2, aleph + 2*log(M + 1)/log(2) + 2.0)/(aleph + 2*log(M + 1)/log(2) + 2.0) + 0.375*aleph*n + 2.25*aleph*calc_lambda(M**2/2 + M/2 + n/2, aleph + 2*log(M + 1)/log(2) + 2.0) + 179*aleph + 220*aleph*calc_lambda(M**2/2 + M/2 + n/2, aleph + 2*log(M + 1)/log(2) + 2.0)*log(M + 1)/(aleph*log(2) + 2*log(M + 1) + 2.0*log(2)) + 220.0*aleph*calc_lambda(M**2/2 + M/2 + n/2, aleph + 2*log(M + 1)/log(2) + 2.0)/(aleph + 2*log(M + 1)/log(2) + 2.0) + 55*beth**2*n**2*calc_lambda(M, beth*n/2 - beth)/(2*beth*n - 4*beth) + 55*beth**2*n**2*calc_lambda(M + n/2, beth*n/2 - beth)/(2*beth*n - 4*beth) - 55*beth**2*n*calc_lambda(M, beth*n/2 - beth)/(beth*n/2 - beth) - 55*beth**2*n*calc_lambda(M + n/2, beth*n/2 - beth)/(beth*n/2 - beth) + 55*beth**2*calc_lambda(M, beth*n/2 - beth)/(beth*n/2 - beth) + 55*beth**2*calc_lambda(M + n/2, beth*n/2 - beth)/(beth*n/2 - beth) + 0.1875*beth*n**2 + 1.125*beth*n*calc_lambda(M, beth*n/2 - beth) + 1.125*beth*n*calc_lambda(M + n/2, beth*n/2 - beth) + 160.625*beth*n - 2.25*beth*calc_lambda(M, beth*n/2 - beth) - 2.25*beth*calc_lambda(M + n/2, beth*n/2 - beth) + 1078*beth + 0.75*n*log(M + 1)/log(2) + 31.5*n + 24.5*n/calc_lambda(M**2/2 + M/2 + n/2, aleph + 2*log(M + 1)/log(2) + 2.0) + 49*n/(2*calc_lambda(M**2/2 + M/2 + n/2, 1)) + 49*n/(2*calc_lambda(M + n/2, beth*n/2 - beth)) + 49*n/(2*calc_lambda(M + n/2, 1)) + 101.25*calc_lambda(M, 1) + 101.25*calc_lambda(M + n/2, 1) + 101.25*calc_lambda(M**2/2 + M/2 + n/2, 1) + 4.5*calc_lambda(M**2/2 + M/2 + n/2, aleph + 2*log(M + 1)/log(2) + 2.0)*log(M + 1)/log(2) + 4.5*calc_lambda(M**2/2 + M/2 + n/2, aleph + 2*log(M + 1)/log(2) + 2.0) + 3580*log(M + 1)/log(2) - 556.5 + 220*calc_lambda(M**2/2 + M/2 + n/2, aleph + 2*log(M + 1)/log(2) + 2.0)*log(M + 1)**2/(aleph*log(2)**2 + 2*log(2)*log(M + 1) + 2.0*log(2)**2) + 440.0*calc_lambda(M**2/2 + M/2 + n/2, aleph + 2*log(M + 1)/log(2) + 2.0)*log(M + 1)/(aleph*log(2) + 2*log(M + 1) + 2.0*log(2)) + 220.0*calc_lambda(M**2/2 + M/2 + n/2, aleph + 2*log(M + 1)/log(2) + 2.0)/(aleph + 2*log(M + 1)/log(2) + 2.0)"
      ]
     },
     "execution_count": 2,
     "metadata": {},
     "output_type": "execute_result"
    }
   ],
   "source": [
    "rewriter = SympyExpressionRewriter(expr)\n",
    "rewriter.substitute(\"max(0, $x)\", \"x\")\n",
    "rewriter.substitute(\"ceiling($x)\", \"x\")\n",
    "rewriter.substitute(\"min(2, $x)\", \"2\")\n",
    "rewriter.substitute(\"mod(2, $x)\", \"2\")\n",
    "rewriter.add_assumption(\"beth>5\")\n",
    "rewriter.add_assumption(\"log2(M+1) > 2\")\n",
    "rewriter.substitute(\"log2($x)\", \"log(x)/log(2)\")\n",
    "rewriter.substitute(\"select_elbow_const($x, 0)\", \"1\")\n",
    "rewriter.expand()"
   ]
  },
  {
   "cell_type": "code",
   "execution_count": 3,
   "id": "7f4a5a33",
   "metadata": {},
   "outputs": [
    {
     "data": {
      "text/plain": [
       "1900526.03137557"
      ]
     },
     "execution_count": 3,
     "metadata": {},
     "output_type": "execute_result"
    }
   ],
   "source": [
    "rewriter.evaluate_expression(\n",
    "    assignments={\"M\": 160, \"n\": 58, \"aleph\": 13, \"beth\": 13},\n",
    "    functions_map={\"select_elbow_const\": lambda x, y: 1, \"calc_lambda\": lambda x, y: 1},\n",
    ")"
   ]
  },
  {
   "cell_type": "code",
   "execution_count": 4,
   "id": "fefc04c4",
   "metadata": {},
   "outputs": [
    {
     "data": {
      "text/plain": [
       "1900526.03137557"
      ]
     },
     "execution_count": 4,
     "metadata": {},
     "output_type": "execute_result"
    }
   ],
   "source": [
    "rewriter.evaluate_expression(\n",
    "    assignments={\"M\": 160, \"n\": 58, \"aleph\": 13, \"beth\": 13},\n",
    "    functions_map={\"select_elbow_const\": lambda x, y: 1, \"calc_lambda\": lambda x, y: 1},\n",
    ")"
   ]
  },
  {
   "cell_type": "code",
   "execution_count": 5,
   "id": "30c4f011",
   "metadata": {},
   "outputs": [
    {
     "data": {
      "text/plain": [
       "1928948.5"
      ]
     },
     "execution_count": 5,
     "metadata": {},
     "output_type": "execute_result"
    }
   ],
   "source": [
    "rewriter.evaluate_expression(\n",
    "    assignments={\"M\": 160, \"n\": 58, \"aleph\": 13, \"beth\": 13},\n",
    "    functions_map={\"select_elbow_const\": lambda x, y: 1, \"calc_lambda\": lambda x, y: 1},\n",
    "    original_expression=True,\n",
    ")"
   ]
  }
 ],
 "metadata": {
  "kernelspec": {
   "display_name": ".venv",
   "language": "python",
   "name": "python3"
  },
  "language_info": {
   "codemirror_mode": {
    "name": "ipython",
    "version": 3
   },
   "file_extension": ".py",
   "mimetype": "text/x-python",
   "name": "python",
   "nbconvert_exporter": "python",
   "pygments_lexer": "ipython3",
   "version": "3.12.9"
  }
 },
 "nbformat": 4,
 "nbformat_minor": 5
}
