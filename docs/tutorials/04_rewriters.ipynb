{
 "cells": [
  {
   "cell_type": "markdown",
   "id": "ea7ed19c",
   "metadata": {},
   "source": [
    "# Rewriting symbolic expressions\n",
    "\n",
    "As quantum algorithms increase in complexity their symbolic resource expressions similarly become more complex. For a state of the art algorithm like [double factorization](https://arxiv.org/abs/2011.03494) the resource expressions can be almost impossible to parse, due to the sheer number of terms and symbols.\n",
    "\n",
    "bartiq includes a set of utilities for manipulating symbolic expressions – rewriting them to make them simpler and easier to analyze. They're known as rewriters. This functionality is contained in the analysis submodule, and backend-specific rewriters can be imported directly."
   ]
  },
  {
   "cell_type": "code",
   "execution_count": 2,
   "id": "5db5109d",
   "metadata": {},
   "outputs": [],
   "source": [
    "from bartiq.analysis import sympy_rewriter"
   ]
  },
  {
   "cell_type": "markdown",
   "id": "8a723024",
   "metadata": {},
   "source": [
    "<div class=\"alert alert-block alert-info admonition note\"> <p class=\"admonition-title\"><b>NOTE:</b></p>\n",
    "\n",
    "This tutorial, as well as all the other tutorials, has been written as a jupyter notebook.\n",
    "If you're reading it online, you can either keep reading, or go to `docs/tutorials` to explore them in a more interactive way!\n",
    "\n",
    "</div>"
   ]
  },
  {
   "cell_type": "markdown",
   "id": "4177b391",
   "metadata": {},
   "source": [
    "Here we will provide a brief demo of how to use rewriters applied to a state-of-the-art algorithm in the literature.\n",
    "\n",
    "Double factorization (DF) is an important subroutine in quantum computations of chemistry. We will not explore the construction of the algorithm nor the intricacies of the circuit itself due to its complexity. Instead, we can load in a pre-built `bartiq` `CompiledRoutine` object representing this algorithm."
   ]
  },
  {
   "cell_type": "code",
   "execution_count": 3,
   "id": "60bb6ca4",
   "metadata": {},
   "outputs": [],
   "source": [
    "from bartiq import CompiledRoutine, sympy_backend\n",
    "import yaml\n",
    "\n",
    "with open(\"../data/double_factorization_compiled.yaml\", \"r\") as f:\n",
    "    compiled_routine = CompiledRoutine.from_qref(yaml.safe_load(f), sympy_backend)"
   ]
  },
  {
   "cell_type": "markdown",
   "id": "78df2958",
   "metadata": {},
   "source": [
    "This `CompiledRoutine` has the following associated resources:"
   ]
  },
  {
   "cell_type": "code",
   "execution_count": 4,
   "id": "45886c8c",
   "metadata": {},
   "outputs": [
    {
     "data": {
      "text/plain": [
       "['active_volume',\n",
       " 'gidney_lelbows',\n",
       " 'gidney_relbows',\n",
       " 'measurements',\n",
       " 'ppms',\n",
       " 'pprs',\n",
       " 'rotations',\n",
       " 't_gates',\n",
       " 'toffs']"
      ]
     },
     "execution_count": 4,
     "metadata": {},
     "output_type": "execute_result"
    }
   ],
   "source": [
    "list(compiled_routine.resource_values.keys())"
   ]
  },
  {
   "cell_type": "markdown",
   "id": "e19dd6f3",
   "metadata": {},
   "source": [
    "We choose not to display all of the expressions due to their sheer complexity. Instead, let's see how many $T$-gates --- a common bottleneck in fault tolerant quantum computing implementations --- this algorithm requires:"
   ]
  },
  {
   "cell_type": "code",
   "execution_count": 5,
   "id": "8c47fc06",
   "metadata": {},
   "outputs": [
    {
     "data": {
      "text/latex": [
       "$\\displaystyle \\left(N_{spatial} - 1\\right) \\theta\\left(- \\max\\left(0, b_{mas} - \\max\\left(b_{as}, b_{givens}, b_{mas}\\right)\\right) - \\max\\left(b_{as}, b_{givens}, b_{mas}\\right) + 2.5, 0\\right) \\theta\\left(\\max\\left(0, b_{mas} - \\max\\left(b_{as}, b_{givens}, b_{mas}\\right)\\right) + \\max\\left(0, b_{givens} - \\max\\left(0, b_{mas} - \\max\\left(b_{as}, b_{givens}, b_{mas}\\right)\\right) - \\max\\left(b_{as}, b_{givens}, b_{mas}\\right)\\right) + \\max\\left(b_{as}, b_{givens}, b_{mas}\\right) - 2.5, 0\\right) + \\left(N_{spatial} - 1\\right) \\theta\\left(- \\max\\left(0, b_{mas} - \\max\\left(b_{as}, b_{givens}, b_{mas}\\right)\\right) - \\max\\left(0, b_{givens} - \\max\\left(0, b_{mas} - \\max\\left(b_{as}, b_{givens}, b_{mas}\\right)\\right) - \\max\\left(b_{as}, b_{givens}, b_{mas}\\right)\\right) - \\max\\left(0, b_{mas} - \\max\\left(0, b_{mas} - \\max\\left(b_{as}, b_{givens}, b_{mas}\\right)\\right) - \\max\\left(0, b_{givens} - \\max\\left(0, b_{mas} - \\max\\left(b_{as}, b_{givens}, b_{mas}\\right)\\right) - \\max\\left(b_{as}, b_{givens}, b_{mas}\\right)\\right) - \\max\\left(b_{as}, b_{givens}, b_{mas}\\right)\\right) - \\max\\left(b_{as}, b_{givens}, b_{mas}\\right) + 2.5, 0\\right) \\theta\\left(\\max\\left(0, b_{mas} - \\max\\left(b_{as}, b_{givens}, b_{mas}\\right)\\right) + \\max\\left(0, b_{givens} - \\max\\left(0, b_{mas} - \\max\\left(b_{as}, b_{givens}, b_{mas}\\right)\\right) - \\max\\left(b_{as}, b_{givens}, b_{mas}\\right)\\right) + \\max\\left(0, b_{mas} - \\max\\left(0, b_{mas} - \\max\\left(b_{as}, b_{givens}, b_{mas}\\right)\\right) - \\max\\left(0, b_{givens} - \\max\\left(0, b_{mas} - \\max\\left(b_{as}, b_{givens}, b_{mas}\\right)\\right) - \\max\\left(b_{as}, b_{givens}, b_{mas}\\right)\\right) - \\max\\left(b_{as}, b_{givens}, b_{mas}\\right)\\right) + \\max\\left(0, b_{givens} - \\max\\left(0, b_{mas} - \\max\\left(b_{as}, b_{givens}, b_{mas}\\right)\\right) - \\max\\left(0, b_{givens} - \\max\\left(0, b_{mas} - \\max\\left(b_{as}, b_{givens}, b_{mas}\\right)\\right) - \\max\\left(b_{as}, b_{givens}, b_{mas}\\right)\\right) - \\max\\left(0, b_{mas} - \\max\\left(0, b_{mas} - \\max\\left(b_{as}, b_{givens}, b_{mas}\\right)\\right) - \\max\\left(0, b_{givens} - \\max\\left(0, b_{mas} - \\max\\left(b_{as}, b_{givens}, b_{mas}\\right)\\right) - \\max\\left(b_{as}, b_{givens}, b_{mas}\\right)\\right) - \\max\\left(b_{as}, b_{givens}, b_{mas}\\right)\\right) - \\max\\left(b_{as}, b_{givens}, b_{mas}\\right)\\right) + \\max\\left(b_{as}, b_{givens}, b_{mas}\\right) - 2.5, 0\\right) + \\theta\\left(2.5 - \\max\\left(b_{as}, b_{givens}, b_{mas}\\right), 0\\right) \\theta\\left(\\max\\left(0, b_{mas} - \\max\\left(b_{as}, b_{givens}, b_{mas}\\right)\\right) + \\max\\left(b_{as}, b_{givens}, b_{mas}\\right) - 2.5, 0\\right) + \\theta\\left(\\max\\left(b_{as}, b_{givens}, b_{mas}\\right) - 2.5, 0\\right) + \\theta\\left(- \\max\\left(0, b_{mas} - \\max\\left(b_{as}, b_{givens}, b_{mas}\\right)\\right) - \\max\\left(0, b_{givens} - \\max\\left(0, b_{mas} - \\max\\left(b_{as}, b_{givens}, b_{mas}\\right)\\right) - \\max\\left(b_{as}, b_{givens}, b_{mas}\\right)\\right) - \\max\\left(b_{as}, b_{givens}, b_{mas}\\right) + 2.5, 0\\right) \\theta\\left(\\max\\left(0, b_{mas} - \\max\\left(b_{as}, b_{givens}, b_{mas}\\right)\\right) + \\max\\left(0, b_{givens} - \\max\\left(0, b_{mas} - \\max\\left(b_{as}, b_{givens}, b_{mas}\\right)\\right) - \\max\\left(b_{as}, b_{givens}, b_{mas}\\right)\\right) + \\max\\left(0, b_{mas} - \\max\\left(0, b_{mas} - \\max\\left(b_{as}, b_{givens}, b_{mas}\\right)\\right) - \\max\\left(0, b_{givens} - \\max\\left(0, b_{mas} - \\max\\left(b_{as}, b_{givens}, b_{mas}\\right)\\right) - \\max\\left(b_{as}, b_{givens}, b_{mas}\\right)\\right) - \\max\\left(b_{as}, b_{givens}, b_{mas}\\right)\\right) + \\max\\left(b_{as}, b_{givens}, b_{mas}\\right) - 2.5, 0\\right) + \\left(24 \\left(\\min\\left(M_{r} - \\left(1 \\bmod \\left\\lceil{\\operatorname{log}_{2}{\\left(2^{\\left\\lceil{\\operatorname{log}_{2}{\\left(M_{r} \\right)}}\\right\\rceil + 1} M_{r} \\left(R - 1\\right) + 2^{\\left\\lceil{\\operatorname{log}_{2}{\\left(M_{r} \\right)}}\\right\\rceil + \\left\\lceil{\\operatorname{log}_{2}{\\left(M_{r} \\left(R - 1\\right) \\right)}}\\right\\rceil + 1} \\left(2^{b_{mas} + 1} - 1\\right) + 2 M_{r} + 1 \\right)}}\\right\\rceil\\right) + 1, \\left\\lceil{\\operatorname{log}_{2}{\\left(R \\right)}}\\right\\rceil\\right)\\right)\\right)$"
      ],
      "text/plain": [
       "(N_spatial - 1)*Heaviside(-Max(0, b_mas - Max(b_as, b_givens, b_mas)) - Max(b_as, b_givens, b_mas) + 2.5, 0)*Heaviside(Max(0, b_mas - Max(b_as, b_givens, b_mas)) + Max(0, b_givens - Max(0, b_mas - Max(b_as, b_givens, b_mas)) - Max(b_as, b_givens, b_mas)) + Max(b_as, b_givens, b_mas) - 2.5, 0) + (N_spatial - 1)*Heaviside(-Max(0, b_mas - Max(b_as, b_givens, b_mas)) - Max(0, b_givens - Max(0, b_mas - Max(b_as, b_givens, b_mas)) - Max(b_as, b_givens, b_mas)) - Max(0, b_mas - Max(0, b_mas - Max(b_as, b_givens, b_mas)) - Max(0, b_givens - Max(0, b_mas - Max(b_as, b_givens, b_mas)) - Max(b_as, b_givens, b_mas)) - Max(b_as, b_givens, b_mas)) - Max(b_as, b_givens, b_mas) + 2.5, 0)*Heaviside(Max(0, b_mas - Max(b_as, b_givens, b_mas)) + Max(0, b_givens - Max(0, b_mas - Max(b_as, b_givens, b_mas)) - Max(b_as, b_givens, b_mas)) + Max(0, b_mas - Max(0, b_mas - Max(b_as, b_givens, b_mas)) - Max(0, b_givens - Max(0, b_mas - Max(b_as, b_givens, b_mas)) - Max(b_as, b_givens, b_mas)) - Max(b_as, b_givens, b_mas)) + Max(0, b_givens - Max(0, b_mas - Max(b_as, b_givens, b_mas)) - Max(0, b_givens - Max(0, b_mas - Max(b_as, b_givens, b_mas)) - Max(b_as, b_givens, b_mas)) - Max(0, b_mas - Max(0, b_mas - Max(b_as, b_givens, b_mas)) - Max(0, b_givens - Max(0, b_mas - Max(b_as, b_givens, b_mas)) - Max(b_as, b_givens, b_mas)) - Max(b_as, b_givens, b_mas)) - Max(b_as, b_givens, b_mas)) + Max(b_as, b_givens, b_mas) - 2.5, 0) + Heaviside(2.5 - Max(b_as, b_givens, b_mas), 0)*Heaviside(Max(0, b_mas - Max(b_as, b_givens, b_mas)) + Max(b_as, b_givens, b_mas) - 2.5, 0) + Heaviside(Max(b_as, b_givens, b_mas) - 2.5, 0) + Heaviside(-Max(0, b_mas - Max(b_as, b_givens, b_mas)) - Max(0, b_givens - Max(0, b_mas - Max(b_as, b_givens, b_mas)) - Max(b_as, b_givens, b_mas)) - Max(b_as, b_givens, b_mas) + 2.5, 0)*Heaviside(Max(0, b_mas - Max(b_as, b_givens, b_mas)) + Max(0, b_givens - Max(0, b_mas - Max(b_as, b_givens, b_mas)) - Max(b_as, b_givens, b_mas)) + Max(0, b_mas - Max(0, b_mas - Max(b_as, b_givens, b_mas)) - Max(0, b_givens - Max(0, b_mas - Max(b_as, b_givens, b_mas)) - Max(b_as, b_givens, b_mas)) - Max(b_as, b_givens, b_mas)) + Max(b_as, b_givens, b_mas) - 2.5, 0) + 24*Min(M_r - Mod(1, ceiling(log2(2**(ceiling(log2(M_r)) + 1)*M_r*(R - 1) + 2**(ceiling(log2(M_r)) + ceiling(log2(M_r*(R - 1))) + 1)*(2**(b_mas + 1) - 1) + 2*M_r + 1))) + 1, ceiling(log2(R)))"
      ]
     },
     "execution_count": 5,
     "metadata": {},
     "output_type": "execute_result"
    }
   ],
   "source": [
    "compiled_routine.resource_values[\"t_gates\"]"
   ]
  },
  {
   "cell_type": "markdown",
   "id": "7944c3be",
   "metadata": {},
   "source": [
    "The expression is enormous! The actual meaning of the symbols involved is out of scope for this tutorial, but $N_{spatial}$, $R$ and $M_r$ are related to the physical system being considered, and "
   ]
  }
 ],
 "metadata": {
  "kernelspec": {
   "display_name": "bartiq-py3.12",
   "language": "python",
   "name": "python3"
  },
  "language_info": {
   "codemirror_mode": {
    "name": "ipython",
    "version": 3
   },
   "file_extension": ".py",
   "mimetype": "text/x-python",
   "name": "python",
   "nbconvert_exporter": "python",
   "pygments_lexer": "ipython3",
   "version": "3.12.9"
  }
 },
 "nbformat": 4,
 "nbformat_minor": 5
}
