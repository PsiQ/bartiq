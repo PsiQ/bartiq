{
 "cells": [
  {
   "cell_type": "markdown",
   "id": "d14feddf-6803-4d60-83f0-06fb6373aa09",
   "metadata": {},
   "source": [
    "# Basic example"
   ]
  },
  {
   "cell_type": "markdown",
   "id": "ac58c4af-009c-4358-bec8-9cdee0c4dfd5",
   "metadata": {},
   "source": [
    "In this tutorial our goals are to learn:\n",
    "- How to use `bartiq` to implement a quantum algorithm from a paper.\n",
    "- How to obtain resource estimates for that algorithm.\n",
    "- What the most important concepts used in `bartiq` are."
   ]
  },
  {
   "cell_type": "markdown",
   "id": "591e1b92-a582-434c-a06f-eb166b704b73",
   "metadata": {},
   "source": [
    "<div class=\"alert alert-block alert-info admonition note\"> <p class=\"admonition-title\"><b>NOTE:</b></p>\n",
    "\n",
    "This tutorial, as well as all the other tutorials, has been written as a jupyter notebook.\n",
    "If you're reading it online, you can either keep reading, or go to `docs/tutorials` to explore them in a more interactive way!\n",
    "\n",
    "</div>"
   ]
  },
  {
   "cell_type": "markdown",
   "id": "f8e81562-2c26-413e-b3b8-c9e45ec47747",
   "metadata": {},
   "source": [
    "Before we start implementing some real algorithms, let's consider the following simple routine:"
   ]
  },
  {
   "cell_type": "markdown",
   "id": "7f36d3b3-e451-4c44-8a89-bb2250f54f51",
   "metadata": {},
   "source": [
    "![title](../images/basic_example.png)"
   ]
  },
  {
   "cell_type": "markdown",
   "id": "f3b04faf-4f6f-4c95-ab63-a151519eb591",
   "metadata": {},
   "source": [
    "In `bartiq` we call our main object `Routine` – both the whole algorithm here, as well as each operation will be a `Routine`. \n",
    "So what do we know about the routines from the picture above?\n",
    "\n",
    "- Our main routine is called \"my algorithm\"\n",
    "- It consists of two subroutines: \"A\" and \"B\".\n",
    "- It takes in a register of size \"n\".\n",
    "\n",
    "How do we express this in `bartiq`? \n",
    "We do that using the [`QREF` format](https://github.com/PsiQ/qref) – a format for expressing algorithms that we developed with QREs in mind. So let's write our first routine:"
   ]
  },
  {
   "cell_type": "code",
   "execution_count": 1,
   "id": "6e2460c7-8ec3-4157-8b92-3d8ac5ff300f",
   "metadata": {},
   "outputs": [],
   "source": [
    "my_algorithm = {\n",
    "    \"name\": \"my_algorithm\",\n",
    "    \"type\": None,\n",
    "    \"ports\": [\n",
    "        {\"name\": \"in\", \"direction\": \"input\", \"size\": \"n\"},\n",
    "        {\"name\": \"out\", \"direction\": \"output\", \"size\": None},\n",
    "    ],\n",
    "}"
   ]
  },
  {
   "cell_type": "markdown",
   "id": "214e7daf-0b9a-48fb-b660-02c9dceae0aa",
   "metadata": {},
   "source": [
    "What do we have here?\n",
    "\n",
    "- `name`: name of the routine\n",
    "- `type`: in this case we don't define the type, but in more complex algorithms you might want to add types, such as \"basic_gate\" or \"comparator\".\n",
    "- `ports`: ports define the interface of the routine. The size of the input port is equal to `n` and in general, we won't know the size of the output port until we perform the compilation.\n",
    "\n",
    "What are we missing? Children.\n",
    "\n",
    "Before we add them to the main routine we need to define them though."
   ]
  },
  {
   "cell_type": "code",
   "execution_count": 2,
   "id": "591b4a88-af8c-41ec-bc07-ca0bbe576c70",
   "metadata": {},
   "outputs": [],
   "source": [
    "routine_a = {\n",
    "    \"name\": \"A\",\n",
    "    \"type\": None,\n",
    "    \"ports\": [\n",
    "        {\"name\": \"in\", \"direction\": \"input\", \"size\": \"n_a\"},\n",
    "        {\"name\": \"out\", \"direction\": \"output\", \"size\": \"2*n_a\"},\n",
    "    ],\n",
    "}"
   ]
  },
  {
   "cell_type": "markdown",
   "id": "2e7ca10e-69eb-4732-a08b-a88e1a8dc252",
   "metadata": {},
   "source": [
    "Notice, that the sizes of input and output ports don't need to match. Here we defined that the size of the output port is twice the size of the input."
   ]
  },
  {
   "cell_type": "code",
   "execution_count": 3,
   "id": "76a0ed1a-0acb-489e-b2fc-40ce956b8f49",
   "metadata": {},
   "outputs": [],
   "source": [
    "routine_b = {\n",
    "    \"name\": \"B\",\n",
    "    \"type\": None,\n",
    "    \"ports\": [\n",
    "        {\"name\": \"in\", \"direction\": \"input\", \"size\": \"n_b\"},\n",
    "         # \"y\" will be defined in the next step\n",
    "        {\"name\": \"out\", \"direction\": \"output\", \"size\": \"n_b + y\"},\n",
    "    ],\n",
    "}"
   ]
  },
  {
   "cell_type": "markdown",
   "id": "88e6f371-ae90-4750-81dd-f139e9eeb6da",
   "metadata": {},
   "source": [
    "We will need to know how much each subroutine costs if we want to run the resource estimation.\n",
    "In fault-tolerant quantum computation a common metric of interest is an algorithm's *T-gate count*. (T-gates are a particular quantum gate which are typically more expensive to implement than other quantum gates, and so are commonly used as the standard metric for an algorithm's computational cost.) \n",
    "\n",
    "In this example, let's say that routine `A` costs `2*n_a + x` T gates and routine `B` costs `n_b*ceil(log_2(n_b)) * y` T-gates, where `x` and `y` are some arbitrary paremeters. \n",
    "\n",
    "Knowing T-gate costs and sizes of parameters, we can now visualize subroutines `A` and `B` like this:\n",
    "\n",
    "![title](../images/basic_children.png)\n",
    "\n",
    "This will require adding two new fields to the dictionaries defining `A` and `B` respectively:"
   ]
  },
  {
   "cell_type": "code",
   "execution_count": 4,
   "id": "697c5cdb-abb8-4437-97e8-d3a1e4de1ca2",
   "metadata": {},
   "outputs": [],
   "source": [
    "# Define T-gate counts for routine a\n",
    "routine_a[\"input_params\"] = [\"x\"]\n",
    "routine_a[\"resources\"] = [\n",
    "    {\"name\": \"T_gates\", \"type\": \"additive\", \"value\": \"2*n_a + x\"}\n",
    "]\n",
    "\n",
    "# Define T-gate counts for routine b\n",
    "routine_b[\"input_params\"] = [\"y\"]\n",
    "routine_b[\"resources\"] = [\n",
    "    {\"name\": \"T_gates\", \"type\": \"additive\", \"value\": \"n_b*ceil(log_2(n_b)) * y\"}\n",
    "]"
   ]
  },
  {
   "cell_type": "markdown",
   "id": "03b37fb2-547d-4cbc-a445-c90e8b4277f2",
   "metadata": {},
   "source": [
    "As you can see we added two new fields to our dictionaries:\n",
    "\n",
    "- `input_params`: which defines the variables used by the routine's resource expressions.\n",
    "- `resources`: which defines the resource costs for our routine. As you can see resources have the following fields:\n",
    "    - `name`: name of the resource\n",
    "    - `type`: `bartiq` allows for the following types: `additive`, `multiplicative`, `qubits` and `other`.\n",
    "    - `value`: expression (or numeric value) defining the cost.\n",
    "\n",
    "Now that `routine_a` and `routine_b` are complete, we can add the missing components to `my_algorithm`:"
   ]
  },
  {
   "cell_type": "code",
   "execution_count": 5,
   "id": "3cc1dcef-a151-401b-a818-3be783aa68f9",
   "metadata": {},
   "outputs": [],
   "source": [
    "my_algorithm[\"children\"] = [routine_a, routine_b]\n",
    "my_algorithm[\"connections\"] = [\n",
    "    {\"source\": \"in\", \"target\": \"A.in\"},\n",
    "    {\"source\": \"A.out\", \"target\": \"B.in\"},\n",
    "    {\"source\": \"B.out\", \"target\": \"out\"},\n",
    "]\n",
    "my_algorithm[\"input_params\"] = [\"z\"]\n",
    "my_algorithm[\"linked_params\"] = [{\"source\": \"z\", \"targets\": [\"A.x\", \"B.y\"]}]"
   ]
  },
  {
   "cell_type": "markdown",
   "id": "3647f490-88aa-4939-a662-ae099f6323b7",
   "metadata": {},
   "source": [
    "The new things we have here are:\n",
    "- `connections`: defines how routines are connected via their ports. Each connection has source and target.\n",
    "- `children`: defines a routine's subroutines.\n",
    "- `linked_params`: defines how input parameters used by the parent are linked to the parameters of children. In this case, it specifies that the input parameter `z` should be passed as `x` to the subroutine `A` and as `y` to `B`. Note that we don't need to pass information about `n`, `n_a` and `n_b`, as this information gets passed through the connections."
   ]
  },
  {
   "cell_type": "markdown",
   "id": "cd07e6b5-3b66-400f-8388-649a3129588b",
   "metadata": {},
   "source": [
    "The last step is just a formality to indicate which version of QREF schema we use:"
   ]
  },
  {
   "cell_type": "code",
   "execution_count": 6,
   "id": "ac4be2b0-f1be-46db-a42d-9f204727db7b",
   "metadata": {},
   "outputs": [],
   "source": [
    "my_algorithm_qref = {'version': 'v1', 'program': my_algorithm}"
   ]
  },
  {
   "cell_type": "markdown",
   "id": "5fe2e5a6-0487-44d1-8071-3f692ee845ba",
   "metadata": {},
   "source": [
    "Now we can translate our algorithm into a proper `bartiq` routine and see what's the total cost of `my_algorithm`."
   ]
  },
  {
   "cell_type": "markdown",
   "id": "ea57757c-2757-4f81-93ec-b070a3b945fc",
   "metadata": {},
   "source": [
    "## Compilation"
   ]
  },
  {
   "cell_type": "markdown",
   "id": "5d4c9a76-ab98-4eac-9233-2c5ad62bb770",
   "metadata": {},
   "source": [
    "Below you can find depiction of `my_algorithm`.\n",
    "![title](../images/basic_uncompiled.png)\n",
    "\n",
    "We can create `bartiq` `Routine` from `QREF` definition by simply running:"
   ]
  },
  {
   "cell_type": "code",
   "execution_count": 7,
   "id": "f3bfa36d-b208-4488-abd6-8b020ef6cffc",
   "metadata": {},
   "outputs": [
    {
     "name": "stderr",
     "output_type": "stream",
     "text": [
      "/Users/mstechly/.pyenv/versions/3.9.19/envs/2024-06-04-18-validation/lib/python3.9/site-packages/pydantic/_internal/_generate_schema.py:386: UserWarning: typing_extensions.Self is not a Python type (it may be an instance of an object), Pydantic will allow any object with no validation since we cannot even enforce that the input is an instance of the given type. To get rid of this error wrap the type with `pydantic.SkipValidation`.\n",
      "  warn(\n",
      "/Users/mstechly/.pyenv/versions/3.9.19/envs/2024-06-04-18-validation/lib/python3.9/site-packages/pydantic/_internal/_generate_schema.py:386: UserWarning: typing_extensions.Self is not a Python type (it may be an instance of an object), Pydantic will allow any object with no validation since we cannot even enforce that the input is an instance of the given type. To get rid of this error wrap the type with `pydantic.SkipValidation`.\n",
      "  warn(\n"
     ]
    }
   ],
   "source": [
    "from bartiq.integrations import qref_to_bartiq\n",
    "uncompiled_routine = qref_to_bartiq(my_algorithm_qref)"
   ]
  },
  {
   "cell_type": "markdown",
   "id": "7a7ebd79-b740-4ae4-89be-517dc9e2b836",
   "metadata": {},
   "source": [
    "What does \"uncompiled\" means here?\n",
    "\n",
    "It means that all the costs and register sizes are expressed using local variables (as in the picture above). What does it mean? Look at this:"
   ]
  },
  {
   "cell_type": "code",
   "execution_count": 8,
   "id": "ef6e5a99-9537-4a9a-aea2-ddf4ec28c5df",
   "metadata": {},
   "outputs": [
    {
     "data": {
      "text/plain": [
       "{'T_gates': <Resource name=\"T_gates\" value=\"2*n_a + x\">}"
      ]
     },
     "execution_count": 8,
     "metadata": {},
     "output_type": "execute_result"
    }
   ],
   "source": [
    "uncompiled_routine.children[\"A\"].resources"
   ]
  },
  {
   "cell_type": "markdown",
   "id": "54ee53db-5c74-4b47-8a87-3d951f7c0f06",
   "metadata": {},
   "source": [
    "The cost of `A` is still expressed in terms of its own \"local\" variables, `n_a` and `x`. Information that we included in `linked_params` has not yet been propagated into `A`.\n",
    "\n",
    "We also don't know yet what's the size of the output port:"
   ]
  },
  {
   "cell_type": "code",
   "execution_count": 9,
   "id": "71860050-361e-478e-b6c8-495c9b0bb6fe",
   "metadata": {},
   "outputs": [
    {
     "data": {
      "text/plain": [
       "Port(my_algorithm.#out, size=None, output)"
      ]
     },
     "execution_count": 9,
     "metadata": {},
     "output_type": "execute_result"
    }
   ],
   "source": [
    "uncompiled_routine.ports[\"out\"]"
   ]
  },
  {
   "cell_type": "markdown",
   "id": "69adf44c-7902-4b97-9ccf-3fe9601b29fe",
   "metadata": {},
   "source": [
    "Most importantly, we don't know what is the total cost of the algorithm:"
   ]
  },
  {
   "cell_type": "code",
   "execution_count": 10,
   "id": "da6566d1-f14b-4531-8029-4134143f785f",
   "metadata": {},
   "outputs": [
    {
     "data": {
      "text/plain": [
       "{}"
      ]
     },
     "execution_count": 10,
     "metadata": {},
     "output_type": "execute_result"
    }
   ],
   "source": [
    "uncompiled_routine.resources"
   ]
  },
  {
   "cell_type": "markdown",
   "id": "40815559-5fca-46f9-a96d-000985c593dd",
   "metadata": {},
   "source": [
    "So what we want to do, is to get to the following picture:\n",
    "![title](../images/basic_compiled.png)\n",
    "\n",
    "You can compare it with the previous picture and see how \"local\" variables have been replaced with \"global\" ones.\n",
    "\n",
    "We do this with the following command:"
   ]
  },
  {
   "cell_type": "code",
   "execution_count": 11,
   "id": "0163c4b5-16a6-4510-9210-dc84f6711c61",
   "metadata": {},
   "outputs": [
    {
     "name": "stderr",
     "output_type": "stream",
     "text": [
      "/Users/mstechly/Documents/code/2024-06-04-18-validation/bartiq/src/bartiq/compilation/_compile.py:117: UserWarning: Found the following issues with the provided routine after the compilation has finished: [\"Symbol n_b found in subroutine: my_algorithm.B, which is not among top level params: {'n', 'z'}.\"]\n",
      "  warnings.warn(\n"
     ]
    }
   ],
   "source": [
    "from bartiq import compile_routine\n",
    "compiled_routine = compile_routine(uncompiled_routine)"
   ]
  },
  {
   "cell_type": "markdown",
   "id": "c83ba4e4-db74-4126-b697-f8baf71345d7",
   "metadata": {},
   "source": [
    "Now let's check the same fields of our `compiled_routine` object:"
   ]
  },
  {
   "cell_type": "code",
   "execution_count": 12,
   "id": "e017c894-5203-4958-9f0f-f85904a1ad0b",
   "metadata": {},
   "outputs": [
    {
     "name": "stdout",
     "output_type": "stream",
     "text": [
      "T gates for A: 2*n + z\n",
      "Output size: 2*n + z\n",
      "Total T gates: 2*n*z*ceiling(log2(2*n)) + 2*n + z\n"
     ]
    }
   ],
   "source": [
    "print(\"T gates for A:\", compiled_routine.children[\"A\"].resources[\"T_gates\"].value)\n",
    "print(\"Output size:\", compiled_routine.ports[\"out\"].size)\n",
    "print(\"Total T gates:\", compiled_routine.resources[\"T_gates\"].value)"
   ]
  },
  {
   "cell_type": "markdown",
   "id": "b5ebbf43-ab27-47c7-ab8c-876c6e4cd390",
   "metadata": {},
   "source": [
    "Since the resources in the children have type `additive`, `bartiq` automatically added the `T_gates` resource to the parent as a sum of the resources of the children."
   ]
  },
  {
   "cell_type": "markdown",
   "id": "76d996a8-d8ee-465a-9afe-82e95b5e9969",
   "metadata": {},
   "source": [
    "## Evaluation"
   ]
  },
  {
   "cell_type": "markdown",
   "id": "916e166e-3e89-4201-b24e-7b3802a97dae",
   "metadata": {},
   "source": [
    "Now it would be good to know what is the cost when we subsitute some numbers. We can do this using `evaluate` method. As you can see in the example below, it can either take all the parameters or just some of them."
   ]
  },
  {
   "cell_type": "code",
   "execution_count": 13,
   "id": "4c232bc3-77bb-4bd8-a587-b6591d539c41",
   "metadata": {},
   "outputs": [
    {
     "name": "stdout",
     "output_type": "stream",
     "text": [
      "Different values of n:\n",
      "n = 6, total T gates: 49*z + 12\n",
      "n = 8, total T gates: 65*z + 16\n",
      "n = 10, total T gates: 101*z + 20\n",
      "n = 12, total T gates: 121*z + 24\n",
      "n = 14, total T gates: 141*z + 28\n",
      "For n=14, z=5\n",
      "Total T gates: 733\n"
     ]
    }
   ],
   "source": [
    "from bartiq import evaluate\n",
    "\n",
    "print(\"Different values of n:\")\n",
    "for n in range(6, 16, 2):\n",
    "    assignments = [f\"n={n}\"]\n",
    "    evaluated_routine = evaluate(compiled_routine, assignments)\n",
    "    print(f\"n = {n}, total T gates:\", evaluated_routine.resources[\"T_gates\"].value)\n",
    "\n",
    "z=5\n",
    "assignments = [f\"n={n}\", f\"z={z}\"]\n",
    "evaluated_routine = evaluate(compiled_routine, assignments)\n",
    "print(f\"For n={n}, z={z}\")\n",
    "\n",
    "print(\"Total T gates:\", evaluated_routine.resources[\"T_gates\"].value)"
   ]
  },
  {
   "cell_type": "markdown",
   "id": "c892d377-fc47-4796-bc0a-fcc28133b8c9",
   "metadata": {},
   "source": [
    "## Summary\n",
    "Let's sum up what we covered in this tutorial:\n",
    "\n",
    "- How to construct a simple algorithm in `bartiq`\n",
    "- How to compile an estimate\n",
    "- How to evaluate an estimate\n",
    "\n",
    "In the next tutorial we'll cover how to implement a more complex algorithm from a paper."
   ]
  }
 ],
 "metadata": {
  "kernelspec": {
   "display_name": "Python 3 (ipykernel)",
   "language": "python",
   "name": "python3"
  },
  "language_info": {
   "codemirror_mode": {
    "name": "ipython",
    "version": 3
   },
   "file_extension": ".py",
   "mimetype": "text/x-python",
   "name": "python",
   "nbconvert_exporter": "python",
   "pygments_lexer": "ipython3",
   "version": "3.9.19"
  }
 },
 "nbformat": 4,
 "nbformat_minor": 5
}
