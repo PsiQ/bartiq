{
 "cells": [
  {
   "cell_type": "markdown",
   "id": "d14feddf-6803-4d60-83f0-06fb6373aa09",
   "metadata": {},
   "source": [
    "# Basic example"
   ]
  },
  {
   "cell_type": "markdown",
   "id": "ac58c4af-009c-4358-bec8-9cdee0c4dfd5",
   "metadata": {},
   "source": [
    "In this tutorial our goals are to learn:\n",
    "- How to use `bartiq` to implement a quantum algorithm from a paper.\n",
    "- How to obtain resource estimates for that algorithm.\n",
    "- What the most important concepts used in `bartiq` are."
   ]
  },
  {
   "cell_type": "markdown",
   "id": "591e1b92-a582-434c-a06f-eb166b704b73",
   "metadata": {},
   "source": [
    "<div class=\"alert alert-block alert-info admonition note\"> <p class=\"admonition-title\"><b>NOTE:</b></p>\n",
    "\n",
    "This tutorial, as well as all the other tutorials, has been written as a jupyter notebook.\n",
    "If you're reading it online, you can either keep reading, or go to `docs/tutorials` to explore them in a more interactive way!\n",
    "\n",
    "</div>"
   ]
  },
  {
   "cell_type": "markdown",
   "id": "f8e81562-2c26-413e-b3b8-c9e45ec47747",
   "metadata": {},
   "source": [
    "Before we start implementing some real algorithms, let's consider the following simple routine:"
   ]
  },
  {
   "cell_type": "markdown",
   "id": "7f36d3b3-e451-4c44-8a89-bb2250f54f51",
   "metadata": {},
   "source": [
    "![title](../images/basic_example.png)"
   ]
  },
  {
   "cell_type": "markdown",
   "id": "f3b04faf-4f6f-4c95-ab63-a151519eb591",
   "metadata": {},
   "source": [
    "In `bartiq` the basic concept for representing both the whole algorithm as well as all the building blocks is *routine*.\n",
    "So what do we know about the routines from the picture above?\n",
    "\n",
    "- Our main routine is called \"my algorithm\"\n",
    "- It consists of two subroutines: \"A\" and \"B\".\n",
    "- It takes in a register of size \"n\".\n",
    "\n",
    "How do we express this in `bartiq`? \n",
    "We do that using the [`QREF` format](https://github.com/PsiQ/qref) – a format for expressing algorithms that we developed with QREs in mind. So let's write our first routine:"
   ]
  },
  {
   "cell_type": "code",
   "execution_count": 1,
   "id": "6e2460c7-8ec3-4157-8b92-3d8ac5ff300f",
   "metadata": {
    "ExecuteTime": {
     "end_time": "2024-06-24T20:58:18.268334Z",
     "start_time": "2024-06-24T20:58:18.259199Z"
    }
   },
   "outputs": [],
   "source": [
    "my_algorithm = {\n",
    "    \"name\": \"my_algorithm\",\n",
    "    \"type\": None,\n",
    "    \"ports\": [\n",
    "        {\"name\": \"in\", \"direction\": \"input\", \"size\": \"n\"},\n",
    "        {\"name\": \"out\", \"direction\": \"output\", \"size\": None},\n",
    "    ],\n",
    "}"
   ]
  },
  {
   "cell_type": "markdown",
   "id": "214e7daf-0b9a-48fb-b660-02c9dceae0aa",
   "metadata": {},
   "source": [
    "What do we have here?\n",
    "\n",
    "- `name`: name of the routine\n",
    "- `type`: in this case we don't define the type, but in more complex algorithms you might want to add types, such as \"basic_gate\" or \"comparator\".\n",
    "- `ports`: ports define the interface of the routine. The size of the input port is equal to `n` and in general, we won't know the size of the output port until we perform the compilation.\n",
    "\n",
    "What are we missing? Children.\n",
    "\n",
    "Before we add them to the main routine we need to define them though."
   ]
  },
  {
   "cell_type": "code",
   "execution_count": 2,
   "id": "591b4a88-af8c-41ec-bc07-ca0bbe576c70",
   "metadata": {
    "ExecuteTime": {
     "end_time": "2024-06-24T20:58:18.403637Z",
     "start_time": "2024-06-24T20:58:18.391328Z"
    }
   },
   "outputs": [],
   "source": [
    "routine_a = {\n",
    "    \"name\": \"A\",\n",
    "    \"type\": None,\n",
    "    \"ports\": [\n",
    "        {\"name\": \"in\", \"direction\": \"input\", \"size\": \"n_a\"},\n",
    "        {\"name\": \"out\", \"direction\": \"output\", \"size\": \"2*n_a\"},\n",
    "    ],\n",
    "}"
   ]
  },
  {
   "cell_type": "markdown",
   "id": "2e7ca10e-69eb-4732-a08b-a88e1a8dc252",
   "metadata": {},
   "source": [
    "Notice, that the sizes of input and output ports don't need to match. Here we defined that the size of the output port is twice the size of the input."
   ]
  },
  {
   "cell_type": "code",
   "execution_count": 3,
   "id": "76a0ed1a-0acb-489e-b2fc-40ce956b8f49",
   "metadata": {
    "ExecuteTime": {
     "end_time": "2024-06-24T20:58:18.438587Z",
     "start_time": "2024-06-24T20:58:18.425845Z"
    }
   },
   "outputs": [],
   "source": [
    "routine_b = {\n",
    "    \"name\": \"B\",\n",
    "    \"type\": None,\n",
    "    \"ports\": [\n",
    "        {\"name\": \"in\", \"direction\": \"input\", \"size\": \"n_b\"},\n",
    "         # \"y\" will be defined in the next step\n",
    "        {\"name\": \"out\", \"direction\": \"output\", \"size\": \"n_b + y\"},\n",
    "    ],\n",
    "}"
   ]
  },
  {
   "cell_type": "markdown",
   "id": "88e6f371-ae90-4750-81dd-f139e9eeb6da",
   "metadata": {},
   "source": [
    "We will need to know how much each subroutine costs if we want to run the resource estimation.\n",
    "In fault-tolerant quantum computation a common metric of interest is an algorithm's *T-gate count* (T-gates are a particular quantum gate which are typically more expensive to implement than other quantum gates, and so are commonly used as the standard metric for an algorithm's computational cost.) \n",
    "\n",
    "In this example, let's say that routine `A` costs `2*n_a + x` T gates and routine `B` costs `n_b*ceil(log_2(n_b)) * y` T-gates, where `x` and `y` are some arbitrary paremeters. \n",
    "\n",
    "Knowing T-gate costs and sizes of parameters, we can now visualize subroutines `A` and `B` like this:\n",
    "\n",
    "![title](../images/basic_children.png)\n",
    "\n",
    "This will require adding two new fields to the dictionaries defining `A` and `B` respectively:"
   ]
  },
  {
   "cell_type": "code",
   "execution_count": 4,
   "id": "697c5cdb-abb8-4437-97e8-d3a1e4de1ca2",
   "metadata": {
    "ExecuteTime": {
     "end_time": "2024-06-24T20:58:18.530086Z",
     "start_time": "2024-06-24T20:58:18.521327Z"
    }
   },
   "outputs": [],
   "source": [
    "# Define T-gate counts for routine a\n",
    "routine_a[\"input_params\"] = [\"x\"]\n",
    "routine_a[\"resources\"] = [\n",
    "    {\"name\": \"T_gates\", \"type\": \"additive\", \"value\": \"2*n_a + x\"}\n",
    "]\n",
    "\n",
    "# Define T-gate counts for routine b\n",
    "routine_b[\"input_params\"] = [\"y\"]\n",
    "routine_b[\"resources\"] = [\n",
    "    {\"name\": \"T_gates\", \"type\": \"additive\", \"value\": \"n_b*ceil(log_2(n_b)) * y\"}\n",
    "]"
   ]
  },
  {
   "cell_type": "markdown",
   "id": "03b37fb2-547d-4cbc-a445-c90e8b4277f2",
   "metadata": {},
   "source": [
    "As you can see we added two new fields to our dictionaries:\n",
    "\n",
    "- `input_params`: which defines the variables used by the routine's resource expressions.\n",
    "- `resources`: which defines the resource costs for our routine. As you can see resources have the following fields:\n",
    "    - `name`: name of the resource\n",
    "    - `type`: `qref` allows for the following types: `additive`, `multiplicative`, `qubits` and `other`.\n",
    "    - `value`: expression (or numeric value) defining the cost.\n",
    "\n",
    "Now that `routine_a` and `routine_b` are complete, we can add the missing components to `my_algorithm`:"
   ]
  },
  {
   "cell_type": "code",
   "execution_count": 5,
   "id": "3cc1dcef-a151-401b-a818-3be783aa68f9",
   "metadata": {
    "ExecuteTime": {
     "end_time": "2024-06-24T20:58:18.603781Z",
     "start_time": "2024-06-24T20:58:18.587847Z"
    }
   },
   "outputs": [],
   "source": [
    "my_algorithm[\"children\"] = [routine_a, routine_b]\n",
    "my_algorithm[\"connections\"] = [\n",
    "    {\"source\": \"in\", \"target\": \"A.in\"},\n",
    "    {\"source\": \"A.out\", \"target\": \"B.in\"},\n",
    "    {\"source\": \"B.out\", \"target\": \"out\"},\n",
    "]\n",
    "my_algorithm[\"input_params\"] = [\"z\"]\n",
    "my_algorithm[\"linked_params\"] = [{\"source\": \"z\", \"targets\": [\"A.x\", \"B.y\"]}]"
   ]
  },
  {
   "cell_type": "markdown",
   "id": "3647f490-88aa-4939-a662-ae099f6323b7",
   "metadata": {},
   "source": [
    "The new things we have here are:\n",
    "- `connections`: defines how routines are connected via their ports. Each connection has source and target.\n",
    "- `children`: defines a routine's subroutines.\n",
    "- `linked_params`: defines how input parameters used by the parent are linked to the parameters of children. In this case, it specifies that the input parameter `z` should be passed as `x` to the subroutine `A` and as `y` to `B`. Note that we don't need to pass information about `n`, `n_a` and `n_b`, as this information gets passed through the connections."
   ]
  },
  {
   "cell_type": "markdown",
   "id": "cd07e6b5-3b66-400f-8388-649a3129588b",
   "metadata": {},
   "source": [
    "The last step is just a formality to indicate which version of QREF schema we use:"
   ]
  },
  {
   "cell_type": "code",
   "execution_count": 6,
   "id": "ac4be2b0-f1be-46db-a42d-9f204727db7b",
   "metadata": {
    "ExecuteTime": {
     "end_time": "2024-06-24T20:58:18.643939Z",
     "start_time": "2024-06-24T20:58:18.637009Z"
    }
   },
   "outputs": [],
   "source": [
    "my_algorithm_qref_dict = {\"version\": \"v1\", \"program\": my_algorithm}"
   ]
  },
  {
   "cell_type": "markdown",
   "id": "7e1982d5-8db8-4738-be16-4ae191987d30",
   "metadata": {},
   "source": [
    "Since it's more convenient to use a `pydantic` model rather than raw dictionary, we'll convert it:"
   ]
  },
  {
   "cell_type": "code",
   "execution_count": 7,
   "id": "50473132-8f55-4151-83c8-836ad2530e60",
   "metadata": {},
   "outputs": [],
   "source": [
    "from qref import SchemaV1\n",
    "my_algorithm_qref = SchemaV1(**my_algorithm_qref_dict)"
   ]
  },
  {
   "cell_type": "markdown",
   "id": "6ef92aec51534839",
   "metadata": {},
   "source": [
    "So, is there an intuitive way to understand what my algorithm looks like and how the resources are used in each routine? You can use the visualization tool from [`QREF`](https://github.com/PsiQ/qref) to plot the hierarchical Directed Acyclic Graph (DAG) of the algorithm you wrote."
   ]
  },
  {
   "cell_type": "markdown",
   "id": "c7d1b18a9c90420c",
   "metadata": {},
   "source": [
    "<div class=\"alert alert-block alert-info admonition note\">\n",
    "    <p class=\"admonition-title\"><b>NOTE:</b></p>\n",
    "    <p>\n",
    "        To use the <a href=\"https://github.com/PsiQ/qref\">qref</a> rendering tool in Jupyter Notebook, ensure the Graphviz software is installed on your OS and that its executables are included in your system variables. For installation instructions, please refer to the <a href=\"https://graphviz.org/download/\">Graphviz download page</a>.\n",
    "    </p>\n",
    "</div>"
   ]
  },
  {
   "cell_type": "markdown",
   "id": "a4f5318f14af6421",
   "metadata": {},
   "source": [
    "Then, run: <br>"
   ]
  },
  {
   "cell_type": "code",
   "execution_count": 8,
   "id": "3464d3b49599fe1d",
   "metadata": {
    "ExecuteTime": {
     "end_time": "2024-06-24T20:58:19.585394Z",
     "start_time": "2024-06-24T20:58:18.727647Z"
    }
   },
   "outputs": [
    {
     "data": {
      "image/svg+xml": [
       "<?xml version=\"1.0\" encoding=\"UTF-8\" standalone=\"no\"?>\n",
       "<!DOCTYPE svg PUBLIC \"-//W3C//DTD SVG 1.1//EN\"\n",
       " \"http://www.w3.org/Graphics/SVG/1.1/DTD/svg11.dtd\">\n",
       "<!-- Generated by graphviz version 10.0.1 (20240210.2158)\n",
       " -->\n",
       "<!-- Pages: 1 -->\n",
       "<svg width=\"381pt\" height=\"101pt\"\n",
       " viewBox=\"0.00 0.00 381.25 101.00\" xmlns=\"http://www.w3.org/2000/svg\" xmlns:xlink=\"http://www.w3.org/1999/xlink\">\n",
       "<g id=\"graph0\" class=\"graph\" transform=\"scale(1 1) rotate(0) translate(4 97)\">\n",
       "<polygon fill=\"white\" stroke=\"none\" points=\"-4,4 -4,-97 377.25,-97 377.25,4 -4,4\"/>\n",
       "<g id=\"clust1\" class=\"cluster\">\n",
       "<title>cluster_.my_algorithm</title>\n",
       "<path fill=\"none\" stroke=\"black\" d=\"M20,-8C20,-8 353.25,-8 353.25,-8 359.25,-8 365.25,-14 365.25,-20 365.25,-20 365.25,-73 365.25,-73 365.25,-79 359.25,-85 353.25,-85 353.25,-85 20,-85 20,-85 14,-85 8,-79 8,-73 8,-73 8,-20 8,-20 8,-14 14,-8 20,-8\"/>\n",
       "<text text-anchor=\"middle\" x=\"186.62\" y=\"-67.7\" font-family=\"Helvetica,sans-Serif\" font-size=\"14.00\">my_algorithm</text>\n",
       "</g>\n",
       "<!-- &quot;.my_algorithm.in&quot; -->\n",
       "<g id=\"node1\" class=\"node\">\n",
       "<title>&quot;.my_algorithm.in&quot;</title>\n",
       "<ellipse fill=\"none\" stroke=\"#ffa44a\" stroke-width=\"2\" cx=\"34\" cy=\"-35\" rx=\"18\" ry=\"18\"/>\n",
       "<text text-anchor=\"middle\" x=\"34\" y=\"-31.12\" font-family=\"Times,serif\" font-size=\"10.00\">in</text>\n",
       "</g>\n",
       "<!-- &quot;.my_algorithm.A&quot; -->\n",
       "<g id=\"node3\" class=\"node\">\n",
       "<title>&quot;.my_algorithm.A&quot;</title>\n",
       "<path fill=\"none\" stroke=\"#0288f5\" stroke-width=\"2\" d=\"M100,-17C100,-17 157,-17 157,-17 163,-17 169,-23 169,-29 169,-29 169,-41 169,-41 169,-47 163,-53 157,-53 157,-53 100,-53 100,-53 94,-53 88,-47 88,-41 88,-41 88,-29 88,-29 88,-23 94,-17 100,-17\"/>\n",
       "<text text-anchor=\"middle\" x=\"100.5\" y=\"-31.1\" font-family=\"Times,serif\" font-size=\"12.00\">in</text>\n",
       "<polyline fill=\"none\" stroke=\"#0288f5\" stroke-width=\"2\" points=\"113,-17.75 113,-53\"/>\n",
       "<text text-anchor=\"middle\" x=\"125.5\" y=\"-31.1\" font-family=\"Times,serif\" font-size=\"12.00\">A</text>\n",
       "<polyline fill=\"none\" stroke=\"#0288f5\" stroke-width=\"2\" points=\"138,-17.75 138,-53\"/>\n",
       "<text text-anchor=\"middle\" x=\"153.5\" y=\"-31.1\" font-family=\"Times,serif\" font-size=\"12.00\">out</text>\n",
       "</g>\n",
       "<!-- &quot;.my_algorithm.in&quot;&#45;&gt;&quot;.my_algorithm.A&quot; -->\n",
       "<g id=\"edge3\" class=\"edge\">\n",
       "<title>&quot;.my_algorithm.in&quot;&#45;&gt;&quot;.my_algorithm.A&quot;:in</title>\n",
       "<path fill=\"none\" stroke=\"black\" d=\"M52.19,-35C59.4,-35 68.11,-35 76.77,-35\"/>\n",
       "<polygon fill=\"black\" stroke=\"black\" points=\"76.49,-38.5 86.49,-35 76.49,-31.5 76.49,-38.5\"/>\n",
       "</g>\n",
       "<!-- &quot;.my_algorithm.out&quot; -->\n",
       "<g id=\"node2\" class=\"node\">\n",
       "<title>&quot;.my_algorithm.out&quot;</title>\n",
       "<ellipse fill=\"none\" stroke=\"#ffa44a\" stroke-width=\"2\" cx=\"339.25\" cy=\"-35\" rx=\"18\" ry=\"18\"/>\n",
       "<text text-anchor=\"middle\" x=\"339.25\" y=\"-31.12\" font-family=\"Times,serif\" font-size=\"10.00\">out</text>\n",
       "</g>\n",
       "<!-- &quot;.my_algorithm.B&quot; -->\n",
       "<g id=\"node4\" class=\"node\">\n",
       "<title>&quot;.my_algorithm.B&quot;</title>\n",
       "<path fill=\"none\" stroke=\"#0288f5\" stroke-width=\"2\" d=\"M217,-17C217,-17 273.25,-17 273.25,-17 279.25,-17 285.25,-23 285.25,-29 285.25,-29 285.25,-41 285.25,-41 285.25,-47 279.25,-53 273.25,-53 273.25,-53 217,-53 217,-53 211,-53 205,-47 205,-41 205,-41 205,-29 205,-29 205,-23 211,-17 217,-17\"/>\n",
       "<text text-anchor=\"middle\" x=\"217.5\" y=\"-31.1\" font-family=\"Times,serif\" font-size=\"12.00\">in</text>\n",
       "<polyline fill=\"none\" stroke=\"#0288f5\" stroke-width=\"2\" points=\"230,-17.75 230,-53\"/>\n",
       "<text text-anchor=\"middle\" x=\"242.12\" y=\"-31.1\" font-family=\"Times,serif\" font-size=\"12.00\">B</text>\n",
       "<polyline fill=\"none\" stroke=\"#0288f5\" stroke-width=\"2\" points=\"254.25,-17.75 254.25,-53\"/>\n",
       "<text text-anchor=\"middle\" x=\"269.75\" y=\"-31.1\" font-family=\"Times,serif\" font-size=\"12.00\">out</text>\n",
       "</g>\n",
       "<!-- &quot;.my_algorithm.A&quot;&#45;&gt;&quot;.my_algorithm.B&quot; -->\n",
       "<g id=\"edge1\" class=\"edge\">\n",
       "<title>&quot;.my_algorithm.A&quot;:out&#45;&gt;&quot;.my_algorithm.B&quot;:in</title>\n",
       "<path fill=\"none\" stroke=\"black\" d=\"M169,-35C180.38,-35 185.68,-35 193.55,-35\"/>\n",
       "<polygon fill=\"black\" stroke=\"black\" points=\"193.49,-38.5 203.49,-35 193.49,-31.5 193.49,-38.5\"/>\n",
       "</g>\n",
       "<!-- &quot;.my_algorithm.B&quot;&#45;&gt;&quot;.my_algorithm.out&quot; -->\n",
       "<g id=\"edge2\" class=\"edge\">\n",
       "<title>&quot;.my_algorithm.B&quot;:out&#45;&gt;&quot;.my_algorithm.out&quot;</title>\n",
       "<path fill=\"none\" stroke=\"black\" d=\"M285.25,-35C293.19,-35 301.81,-35 309.73,-35\"/>\n",
       "<polygon fill=\"black\" stroke=\"black\" points=\"309.55,-38.5 319.55,-35 309.55,-31.5 309.55,-38.5\"/>\n",
       "</g>\n",
       "</g>\n",
       "</svg>\n"
      ],
      "text/plain": [
       "<graphviz.graphs.Digraph at 0x107cbc9d0>"
      ]
     },
     "execution_count": 8,
     "metadata": {},
     "output_type": "execute_result"
    }
   ],
   "source": [
    "from qref.experimental.rendering import to_graphviz\n",
    "\n",
    "# Convert the qref format to Graphviz object\n",
    "gv_object = to_graphviz(my_algorithm_qref)\n",
    "\n",
    "# Render the Graphviz object to a PNG file\n",
    "gv_object.render(\"my_algorithm\", format=\"png\")\n",
    "\n",
    "# Render the Graphviz object in the notebook\n",
    "gv_object"
   ]
  },
  {
   "cell_type": "markdown",
   "id": "564ecc3e766e7453",
   "metadata": {},
   "source": [
    "In this graph, you can see both subroutines from the original algorithm, along with their `names` and`ports`. It provides a general idea of the connectivity between subroutines in the algorithm and shows how information is stored."
   ]
  },
  {
   "cell_type": "markdown",
   "id": "ea57757c-2757-4f81-93ec-b070a3b945fc",
   "metadata": {},
   "source": [
    "## Compilation"
   ]
  },
  {
   "cell_type": "markdown",
   "id": "5d4c9a76-ab98-4eac-9233-2c5ad62bb770",
   "metadata": {},
   "source": [
    " Below you can find depiction of the uncompiled version of `my_algorithm`.\n",
    "![title](../images/basic_uncompiled.png)"
   ]
  },
  {
   "cell_type": "markdown",
   "id": "7a7ebd79-b740-4ae4-89be-517dc9e2b836",
   "metadata": {},
   "source": [
    "What does \"uncompiled\" means here?\n",
    "\n",
    "It means that all the costs and register sizes are expressed using local variables (as in the picture above). What does it mean? Look at this:"
   ]
  },
  {
   "cell_type": "code",
   "execution_count": 9,
   "id": "ef6e5a99-9537-4a9a-aea2-ddf4ec28c5df",
   "metadata": {
    "ExecuteTime": {
     "end_time": "2024-06-24T20:58:19.615088Z",
     "start_time": "2024-06-24T20:58:19.601383Z"
    }
   },
   "outputs": [
    {
     "data": {
      "text/plain": [
       "[ResourceV1(name='T_gates', type='additive', value='2*n_a + x')]"
      ]
     },
     "execution_count": 9,
     "metadata": {},
     "output_type": "execute_result"
    }
   ],
   "source": [
    "uncompiled_routine = my_algorithm_qref.program\n",
    "uncompiled_routine.children.by_name[\"A\"].resources"
   ]
  },
  {
   "cell_type": "markdown",
   "id": "54ee53db-5c74-4b47-8a87-3d951f7c0f06",
   "metadata": {},
   "source": [
    "The cost of `A` is still expressed in terms of its own \"local\" variables, `n_a` and `x`. Information that we included in `linked_params` has not yet been propagated into `A`.\n",
    "\n",
    "We also don't know yet what's the size of the output port:"
   ]
  },
  {
   "cell_type": "code",
   "execution_count": 10,
   "id": "71860050-361e-478e-b6c8-495c9b0bb6fe",
   "metadata": {
    "ExecuteTime": {
     "end_time": "2024-06-24T20:58:19.641159Z",
     "start_time": "2024-06-24T20:58:19.625793Z"
    }
   },
   "outputs": [
    {
     "data": {
      "text/plain": [
       "PortV1(name='out', direction='output', size=None)"
      ]
     },
     "execution_count": 10,
     "metadata": {},
     "output_type": "execute_result"
    }
   ],
   "source": [
    "uncompiled_routine.ports.by_name[\"out\"]"
   ]
  },
  {
   "cell_type": "markdown",
   "id": "69adf44c-7902-4b97-9ccf-3fe9601b29fe",
   "metadata": {},
   "source": [
    "Most importantly, we don't know what is the total cost of the algorithm:"
   ]
  },
  {
   "cell_type": "code",
   "execution_count": 11,
   "id": "da6566d1-f14b-4531-8029-4134143f785f",
   "metadata": {
    "ExecuteTime": {
     "end_time": "2024-06-24T20:58:19.665379Z",
     "start_time": "2024-06-24T20:58:19.652567Z"
    }
   },
   "outputs": [
    {
     "data": {
      "text/plain": [
       "[]"
      ]
     },
     "execution_count": 11,
     "metadata": {},
     "output_type": "execute_result"
    }
   ],
   "source": [
    "uncompiled_routine.resources"
   ]
  },
  {
   "cell_type": "markdown",
   "id": "40815559-5fca-46f9-a96d-000985c593dd",
   "metadata": {},
   "source": [
    "So what we want to do, is to get to the following picture:\n",
    "![title](../images/basic_compiled.png)\n",
    "\n",
    "You can compare it with the previous picture and see how \"local\" variables have been replaced with \"global\" ones.\n",
    "\n",
    "We do this with the following command:"
   ]
  },
  {
   "cell_type": "code",
   "execution_count": 12,
   "id": "0163c4b5-16a6-4510-9210-dc84f6711c61",
   "metadata": {
    "ExecuteTime": {
     "end_time": "2024-06-24T20:58:19.716932Z",
     "start_time": "2024-06-24T20:58:19.667445Z"
    }
   },
   "outputs": [],
   "source": [
    "from bartiq import compile_routine\n",
    "compiled_routine = compile_routine(my_algorithm_qref).routine"
   ]
  },
  {
   "cell_type": "markdown",
   "id": "c83ba4e4-db74-4126-b697-f8baf71345d7",
   "metadata": {},
   "source": [
    "Now let's check the same fields of our `compiled_routine` object:"
   ]
  },
  {
   "cell_type": "code",
   "execution_count": 13,
   "id": "e017c894-5203-4958-9f0f-f85904a1ad0b",
   "metadata": {
    "ExecuteTime": {
     "end_time": "2024-06-24T20:58:19.733877Z",
     "start_time": "2024-06-24T20:58:19.720524Z"
    }
   },
   "outputs": [
    {
     "name": "stdout",
     "output_type": "stream",
     "text": [
      "T gates for A: 2*n + z\n",
      "Output size: 2*n + z\n",
      "Total T gates: 2*n*z*ceiling(log2(2*n)) + 2*n + z\n"
     ]
    }
   ],
   "source": [
    "print(\"T gates for A:\", compiled_routine.children[\"A\"].resources[\"T_gates\"].value)\n",
    "print(\"Output size:\", compiled_routine.ports[\"out\"].size)\n",
    "print(\"Total T gates:\", compiled_routine.resources[\"T_gates\"].value)"
   ]
  },
  {
   "cell_type": "markdown",
   "id": "b5ebbf43-ab27-47c7-ab8c-876c6e4cd390",
   "metadata": {},
   "source": [
    "Since the resources in the children have type `additive`, `bartiq` automatically added the `T_gates` resource to the parent as a sum of the resources of the children."
   ]
  },
  {
   "cell_type": "markdown",
   "id": "76d996a8-d8ee-465a-9afe-82e95b5e9969",
   "metadata": {},
   "source": [
    "## Evaluation"
   ]
  },
  {
   "cell_type": "markdown",
   "id": "916e166e-3e89-4201-b24e-7b3802a97dae",
   "metadata": {},
   "source": [
    "Now it would be good to know what is the cost when we subsitute some numbers. We can do this using `evaluate` method. As you can see in the example below, it can either substitute all the parameters or just some of them."
   ]
  },
  {
   "cell_type": "code",
   "execution_count": 14,
   "id": "4c232bc3-77bb-4bd8-a587-b6591d539c41",
   "metadata": {
    "ExecuteTime": {
     "end_time": "2024-06-24T20:58:19.846940Z",
     "start_time": "2024-06-24T20:58:19.739023Z"
    }
   },
   "outputs": [
    {
     "name": "stdout",
     "output_type": "stream",
     "text": [
      "Different values of n:\n",
      "n = 6, total T gates: 49*z + 12\n",
      "n = 8, total T gates: 65*z + 16\n",
      "n = 10, total T gates: 101*z + 20\n",
      "n = 12, total T gates: 121*z + 24\n",
      "n = 14, total T gates: 141*z + 28\n",
      "For n=14, z=5\n",
      "Total T gates: 733\n"
     ]
    }
   ],
   "source": [
    "from bartiq import evaluate\n",
    "\n",
    "print(\"Different values of n:\")\n",
    "for n in range(6, 16, 2):\n",
    "    assignments = {\"n\": n}\n",
    "    evaluated_routine = evaluate(compiled_routine, assignments).routine\n",
    "    print(f\"n = {n}, total T gates:\", evaluated_routine.resources[\"T_gates\"].value)\n",
    "\n",
    "z = 5\n",
    "assignments = {\"n\": n, \"z\": z}\n",
    "evaluated_routine = evaluate(compiled_routine, assignments).routine\n",
    "print(f\"For n={n}, z={z}\")\n",
    "\n",
    "print(\"Total T gates:\", evaluated_routine.resources[\"T_gates\"].value)"
   ]
  },
  {
   "cell_type": "markdown",
   "id": "c892d377-fc47-4796-bc0a-fcc28133b8c9",
   "metadata": {},
   "source": [
    "## Summary\n",
    "Let's sum up what we covered in this tutorial:\n",
    "\n",
    "- How to construct a simple algorithm to use with `bartiq`\n",
    "- How to compile an estimate\n",
    "- How to evaluate an estimate\n",
    "- How to use the `qref` visualization tool to visualize an algorithm\n",
    "\n",
    "In the next tutorial we'll cover how to implement a more complex algorithm from a paper."
   ]
  },
  {
   "cell_type": "code",
   "execution_count": null,
   "id": "39b79349-3354-4dc1-896f-d7ceb63e4bf0",
   "metadata": {},
   "outputs": [],
   "source": []
  }
 ],
 "metadata": {
  "kernelspec": {
   "display_name": "Python 3 (ipykernel)",
   "language": "python",
   "name": "python3"
  },
  "language_info": {
   "codemirror_mode": {
    "name": "ipython",
    "version": 3
   },
   "file_extension": ".py",
   "mimetype": "text/x-python",
   "name": "python",
   "nbconvert_exporter": "python",
   "pygments_lexer": "ipython3",
   "version": "3.10.14"
  }
 },
 "nbformat": 4,
 "nbformat_minor": 5
}
