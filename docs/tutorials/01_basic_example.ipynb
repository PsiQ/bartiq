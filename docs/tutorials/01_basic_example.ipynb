{
 "cells": [
  {
   "cell_type": "markdown",
   "id": "d14feddf-6803-4d60-83f0-06fb6373aa09",
   "metadata": {},
   "source": [
    "# Basic example"
   ]
  },
  {
   "cell_type": "markdown",
   "id": "ac58c4af-009c-4358-bec8-9cdee0c4dfd5",
   "metadata": {},
   "source": [
    "In this tutorial our goals are to learn:\n",
    "- How to use `bartiq` to implement a quantum algorithm from a paper\n",
    "- How to obtain resource estimates for that algorithm\n",
    "- What are the most important concepts used in `bartiq`"
   ]
  },
  {
   "cell_type": "markdown",
   "id": "591e1b92-a582-434c-a06f-eb166b704b73",
   "metadata": {},
   "source": [
    "<div class=\"alert alert-block alert-info admonition note\"> <p class=\"admonition-title\"><b>NOTE:</b></p>\n",
    "\n",
    "This tutorial, as well as all the other tutorials, has been written as a jupyter notebook.\n",
    "If you're reading it online, you can either keep reading, or go to `docs/tutorials` and play with it in a more interactive way!\n",
    "\n",
    "</div>"
   ]
  },
  {
   "cell_type": "markdown",
   "id": "f8e81562-2c26-413e-b3b8-c9e45ec47747",
   "metadata": {},
   "source": [
    "Before we start implementing some real algorithms, let's consider the following simple routine:"
   ]
  },
  {
   "cell_type": "markdown",
   "id": "7f36d3b3-e451-4c44-8a89-bb2250f54f51",
   "metadata": {},
   "source": [
    "![title](../images/basic_example.png)"
   ]
  },
  {
   "cell_type": "markdown",
   "id": "f3b04faf-4f6f-4c95-ab63-a151519eb591",
   "metadata": {},
   "source": [
    "In `bartiq` we call our main object `Routine` – both the whole algorithm here, as well as each operation will be a `Routine`. \n",
    "So what do we know about the routines from the picture above?\n",
    "\n",
    "- Our main routine is called \"My algorithm\"\n",
    "- It consists of two subroutines: \"a\" and \"b\".\n",
    "- It takes in a register of size \"N\".\n",
    "\n",
    "How to express it in `bartiq`? \n",
    "We do that using [`QREF` format](https://github.com/PsiQ/qref) – it's a format for expressing algorithms that we developed with running QREs in mind. So let's write our first routine:"
   ]
  },
  {
   "cell_type": "code",
   "execution_count": 1,
   "id": "6e2460c7-8ec3-4157-8b92-3d8ac5ff300f",
   "metadata": {},
   "outputs": [],
   "source": [
    "my_algorithm = {\n",
    "    \"name\": \"my_algorithm\",\n",
    "    \"type\": None,\n",
    "    \"ports\": [\n",
    "        {\"name\": \"in\", \"direction\": \"input\", \"size\": \"N\"},\n",
    "        {\"name\": \"out\", \"direction\": \"output\", \"size\": None},\n",
    "    ],\n",
    "}"
   ]
  },
  {
   "cell_type": "markdown",
   "id": "214e7daf-0b9a-48fb-b660-02c9dceae0aa",
   "metadata": {},
   "source": [
    "What do we have here?\n",
    "\n",
    "- `name`: name of the routine\n",
    "- `type`: in this case we don't define the type, but in more complex algorithms you might want to add types, such as \"basic_gate\" or \"comparator\".\n",
    "- `ports`: ports define the interface of the routine. The size of the input port is equal to `N` and in general, we won't know the size of the output port until we perform the compilation.\n",
    "\n",
    "What are we missing? Children.\n",
    "Before we add them, to the main routine, we need to define them."
   ]
  },
  {
   "cell_type": "code",
   "execution_count": 2,
   "id": "591b4a88-af8c-41ec-bc07-ca0bbe576c70",
   "metadata": {},
   "outputs": [],
   "source": [
    "routine_a = {\n",
    "    \"name\": \"a\",\n",
    "    \"type\": None,\n",
    "    \"ports\": [\n",
    "        {\"name\": \"in\", \"direction\": \"input\", \"size\": \"N_a\"},\n",
    "        {\"name\": \"out\", \"direction\": \"output\", \"size\": \"N_a\"},\n",
    "    ],\n",
    "}"
   ]
  },
  {
   "cell_type": "code",
   "execution_count": 3,
   "id": "76a0ed1a-0acb-489e-b2fc-40ce956b8f49",
   "metadata": {},
   "outputs": [],
   "source": [
    "routine_b = {\n",
    "    \"name\": \"b\",\n",
    "    \"type\": None,\n",
    "    \"ports\": [\n",
    "        {\"name\": \"in\", \"direction\": \"input\", \"size\": \"N_b\"},\n",
    "        {\"name\": \"out\", \"direction\": \"output\", \"size\": \"N_b\"},\n",
    "    ],\n",
    "}"
   ]
  },
  {
   "cell_type": "markdown",
   "id": "88e6f371-ae90-4750-81dd-f139e9eeb6da",
   "metadata": {},
   "source": [
    "This is nice, but if we actually want to run some resource estimation here, we will need to know how much each subroutine costs.\n",
    "In fault-tolerant algorithm the resource that people usually care about is how many T gates do you need to implement an algorithm. Therefore, let's say that `a` costs `2*N_a` T gates and `b` costs `N_b*ceil(log_2(N_b))` T gates. This will require adding two new fields to our dictionary:"
   ]
  },
  {
   "cell_type": "code",
   "execution_count": 4,
   "id": "697c5cdb-abb8-4437-97e8-d3a1e4de1ca2",
   "metadata": {},
   "outputs": [],
   "source": [
    "routine_a[\"resources\"] = [{\"name\": \"T_gates\", \"type\": \"additive\", \"value\": \"2*N_a\"}]\n",
    "\n",
    "routine_b[\"resources\"] = [{\"name\": \"T_gates\", \"type\": \"additive\", \"value\": \"N_b*ceil(log_2(N_b))\"}]\n",
    "\n",
    "routine_a[\"input_params\"] = [\"N_a\"]\n",
    "routine_b[\"input_params\"] = [\"N_b\"]\n"
   ]
  },
  {
   "cell_type": "markdown",
   "id": "03b37fb2-547d-4cbc-a445-c90e8b4277f2",
   "metadata": {},
   "source": [
    "As you can see we added two new fields to our dictionaries:\n",
    "\n",
    "- `input_params`: define what variables are used to define resources and register sizes.\n",
    "- `resources`: what resources are needed for a particular subroutine. As you can see resources have the following fields:\n",
    "    - `name`: name of the resource\n",
    "    - `type`: `bartiq` allows for the following types: `additive`, `multiplicative`, `qubits` and `other`.\n",
    "    - `value`: expression (or numeric value) defining the cost.\n",
    "\n",
    "\n",
    "Now that `routine_a` and `routine_b` are complete, we can add the missing components to `my_algorithm`:"
   ]
  },
  {
   "cell_type": "code",
   "execution_count": 5,
   "id": "3cc1dcef-a151-401b-a818-3be783aa68f9",
   "metadata": {},
   "outputs": [],
   "source": [
    "my_algorithm[\"children\"] = [routine_a, routine_b]\n",
    "my_algorithm[\"connections\"] = [\n",
    "    {\"source\": \"in\", \"target\": \"a.in\"},\n",
    "    {\"source\": \"a.out\", \"target\": \"b.in\"},\n",
    "    {\"source\": \"b.out\", \"target\": \"out\"},\n",
    "]\n",
    "my_algorithm[\"linked_params\"] = [{\"source\": \"N\", \"targets\": [\"a.N_a\", \"b.N_b\"]}]"
   ]
  },
  {
   "cell_type": "markdown",
   "id": "3647f490-88aa-4939-a662-ae099f6323b7",
   "metadata": {},
   "source": [
    "What new do we have here?\n",
    "We got:\n",
    "- `connections` – how ports are connected. Each connection has source and target.\n",
    "- `children`: specifies what subroutines does a particular routine consist of.\n",
    "- `linked_params`: tells us how the parameters of the parent are linked to the parameters of children. In this case, it tells us that parameter `N` from this routine translates to `N_a` in child `a` and `N_b` in child `b`."
   ]
  },
  {
   "cell_type": "markdown",
   "id": "cd07e6b5-3b66-400f-8388-649a3129588b",
   "metadata": {},
   "source": [
    "The last step is just a formality to indicate which version of QREF schema we use:"
   ]
  },
  {
   "cell_type": "code",
   "execution_count": 6,
   "id": "ac4be2b0-f1be-46db-a42d-9f204727db7b",
   "metadata": {},
   "outputs": [],
   "source": [
    "my_algorithm_qref = {'version': 'v1', 'program': my_algorithm}"
   ]
  },
  {
   "cell_type": "markdown",
   "id": "5fe2e5a6-0487-44d1-8071-3f692ee845ba",
   "metadata": {},
   "source": [
    "Now we can translate our algorithm into a proper `bartiq` routine and see what's the total cost of `my_algorithm`."
   ]
  },
  {
   "cell_type": "markdown",
   "id": "eb5fc3d1-0dd3-4ed9-a40f-24c185efd495",
   "metadata": {},
   "source": [
    "<div class=\"alert alert-block alert-info admonition note\"> <p class=\"admonition-title\"><b>NOTE:</b></p>\n",
    "\n",
    "- You might be wondering, why `my_algorithm` didn't need `input_params`? That's because it `N` does not show up in any expressions – we don't have resources defined here. It does show up in the ports though, so we still need to add it to `linked_params`.\n",
    "- Unfortunately at the moment register sizes need to be single variables – fortunately, as we'll see later, there's a way around it using `local_variables`.\n",
    "\n",
    "</div>"
   ]
  },
  {
   "cell_type": "markdown",
   "id": "ea57757c-2757-4f81-93ec-b070a3b945fc",
   "metadata": {},
   "source": [
    "## Compilation"
   ]
  },
  {
   "cell_type": "markdown",
   "id": "5d4c9a76-ab98-4eac-9233-2c5ad62bb770",
   "metadata": {},
   "source": [
    "Below you can find depiction of `my_algorithm`.\n",
    "![title](../images/basic_uncompiled.png)\n",
    "\n",
    "We can create `bartiq` `Routine` from `QREF` definition by simply running:"
   ]
  },
  {
   "cell_type": "code",
   "execution_count": 7,
   "id": "f3bfa36d-b208-4488-abd6-8b020ef6cffc",
   "metadata": {},
   "outputs": [],
   "source": [
    "from bartiq.integrations import qref_to_bartiq\n",
    "uncompiled_routine = qref_to_bartiq(my_algorithm_qref)"
   ]
  },
  {
   "cell_type": "markdown",
   "id": "7a7ebd79-b740-4ae4-89be-517dc9e2b836",
   "metadata": {},
   "source": [
    "What does \"uncompiled\" means here?\n",
    "\n",
    "It means that all the costs and register sizes are expressed using local variables (as in the picture above). What does it mean? Look at this:"
   ]
  },
  {
   "cell_type": "code",
   "execution_count": 8,
   "id": "ef6e5a99-9537-4a9a-aea2-ddf4ec28c5df",
   "metadata": {},
   "outputs": [
    {
     "data": {
      "text/plain": [
       "{'T_gates': <Resource name=\"T_gates\" value=\"2*N_a\">}"
      ]
     },
     "execution_count": 8,
     "metadata": {},
     "output_type": "execute_result"
    }
   ],
   "source": [
    "uncompiled_routine.children[\"a\"].resources"
   ]
  },
  {
   "cell_type": "markdown",
   "id": "54ee53db-5c74-4b47-8a87-3d951f7c0f06",
   "metadata": {},
   "source": [
    "The cost of \"a\" is still expressed in terms of its own \"local\" variable, `N_a`. Information that we included in `linked_params` has not yet been propagated into \"a\".\n",
    "\n",
    "We also don't know yet what's the size of the output port:"
   ]
  },
  {
   "cell_type": "code",
   "execution_count": 9,
   "id": "71860050-361e-478e-b6c8-495c9b0bb6fe",
   "metadata": {},
   "outputs": [
    {
     "data": {
      "text/plain": [
       "Port(name='out', parent=<Routine name=\"my_algorithm\">, direction='output', size=None, meta={})"
      ]
     },
     "execution_count": 9,
     "metadata": {},
     "output_type": "execute_result"
    }
   ],
   "source": [
    "uncompiled_routine.ports[\"out\"]"
   ]
  },
  {
   "cell_type": "markdown",
   "id": "69adf44c-7902-4b97-9ccf-3fe9601b29fe",
   "metadata": {},
   "source": [
    "Most importantly, we don't know what is the total cost of the algorithm:"
   ]
  },
  {
   "cell_type": "code",
   "execution_count": 10,
   "id": "da6566d1-f14b-4531-8029-4134143f785f",
   "metadata": {},
   "outputs": [
    {
     "data": {
      "text/plain": [
       "{}"
      ]
     },
     "execution_count": 10,
     "metadata": {},
     "output_type": "execute_result"
    }
   ],
   "source": [
    "uncompiled_routine.resources"
   ]
  },
  {
   "cell_type": "markdown",
   "id": "40815559-5fca-46f9-a96d-000985c593dd",
   "metadata": {},
   "source": [
    "So what we want to do, is to get to the following picture (we highlighted in green what changed from the previous one):\n",
    "![title](../images/basic_compiled.png)\n",
    "\n",
    "We do this with the following command:"
   ]
  },
  {
   "cell_type": "code",
   "execution_count": 11,
   "id": "0163c4b5-16a6-4510-9210-dc84f6711c61",
   "metadata": {},
   "outputs": [],
   "source": [
    "from bartiq import compile_routine\n",
    "compiled_routine = compile_routine(uncompiled_routine)"
   ]
  },
  {
   "cell_type": "markdown",
   "id": "c83ba4e4-db74-4126-b697-f8baf71345d7",
   "metadata": {},
   "source": [
    "Now if we check the same fields of our `compiled_routine` object, we'll see that everything is expressed in terms of the "
   ]
  },
  {
   "cell_type": "code",
   "execution_count": 12,
   "id": "e017c894-5203-4958-9f0f-f85904a1ad0b",
   "metadata": {},
   "outputs": [
    {
     "name": "stdout",
     "output_type": "stream",
     "text": [
      "T gates for A: 2*N\n",
      "Output size: N\n",
      "Total T gates: N*ceiling(log2(N)) + 2*N\n"
     ]
    }
   ],
   "source": [
    "print(\"T gates for A:\", compiled_routine.children[\"a\"].resources[\"T_gates\"].value)\n",
    "print(\"Output size:\", compiled_routine.ports[\"out\"].size)\n",
    "print(\"Total T gates:\", compiled_routine.resources[\"T_gates\"].value)"
   ]
  },
  {
   "cell_type": "markdown",
   "id": "76d996a8-d8ee-465a-9afe-82e95b5e9969",
   "metadata": {},
   "source": [
    "## Evaluation"
   ]
  },
  {
   "cell_type": "markdown",
   "id": "916e166e-3e89-4201-b24e-7b3802a97dae",
   "metadata": {},
   "source": [
    "Now it would be good to know what is the cost when we subsitute some numbers. We can do this using `evaluate` method:"
   ]
  },
  {
   "cell_type": "code",
   "execution_count": 13,
   "id": "4c232bc3-77bb-4bd8-a587-b6591d539c41",
   "metadata": {},
   "outputs": [
    {
     "name": "stdout",
     "output_type": "stream",
     "text": [
      "N = 6, total T gates: 30\n",
      "N = 8, total T gates: 40\n",
      "N = 10, total T gates: 60\n",
      "N = 12, total T gates: 72\n",
      "N = 14, total T gates: 84\n"
     ]
    }
   ],
   "source": [
    "from bartiq import evaluate\n",
    "\n",
    "for N in range(6, 16, 2):\n",
    "    assignments = [f\"N={N}\"]\n",
    "    evaluated_routine = evaluate(compiled_routine, assignments)\n",
    "    print(f\"N = {N}, total T gates:\", evaluated_routine.resources[\"T_gates\"].value)"
   ]
  },
  {
   "cell_type": "markdown",
   "id": "c892d377-fc47-4796-bc0a-fcc28133b8c9",
   "metadata": {},
   "source": [
    "## Summary\n",
    "Let's sum up what we covered in this tutorial:\n",
    "\n",
    "- How to construct a simple algorithm in `bartiq`\n",
    "- How to perform compile an estimate\n",
    "- How to evaluate an estimate\n",
    "\n",
    "In the next tutorial we'll cover how to implement a more complex algorithm from a paper – you can find the link [here](02_alias_sampling_basic.ipynb)."
   ]
  }
 ],
 "metadata": {
  "kernelspec": {
   "display_name": "Python 3 (ipykernel)",
   "language": "python",
   "name": "python3"
  },
  "language_info": {
   "codemirror_mode": {
    "name": "ipython",
    "version": 3
   },
   "file_extension": ".py",
   "mimetype": "text/x-python",
   "name": "python",
   "nbconvert_exporter": "python",
   "pygments_lexer": "ipython3",
   "version": "3.9.19"
  }
 },
 "nbformat": 4,
 "nbformat_minor": 5
}
