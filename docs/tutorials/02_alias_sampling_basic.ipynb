{
 "cells": [
  {
   "cell_type": "markdown",
   "id": "c7517267-d53f-46d8-9b64-0f518fbf1202",
   "metadata": {},
   "source": [
    "# Alias Sampling"
   ]
  },
  {
   "cell_type": "markdown",
   "id": "8d4d79ad-b0e7-4ae9-8b6c-706fa5760612",
   "metadata": {},
   "source": [
    "<div class=\"alert alert-block alert-info admonition note\"> <p class=\"admonition-title\"><b>NOTE:</b></p>\n",
    "\n",
    "This tutorial, as well as all the other tutorials, has been written as a jupyter notebook.\n",
    "If you're reading it online, you can either keep reading, or clone the repository and go to `docs/tutorials` to explore them in a more interactive way!\n",
    "\n",
    "</div>"
   ]
  },
  {
   "cell_type": "markdown",
   "id": "4200cc8f-ecea-42a1-8eab-556aa97cbe25",
   "metadata": {},
   "source": [
    "The example we used in previous tutorial was nice to establish some basic terminology. But let's be honest, it was contrived and not very practical. So now we'll take an existing example from a paper and try to get some resource estimations for it using `bartiq`!\n",
    "\n",
    "For that we'll use Alias Sampling—an algorithm proposed by Babbush et al. in [Encoding Electronic Spectra in Quantum Circuits with Linear T Complexity](https://journals.aps.org/prx/abstract/10.1103/PhysRevX.8.041015). This is what the circuit looks like:\n",
    "\n",
    "![Alias Sampling](../images/alias_sampling_paper.png)\n",
    "\n",
    "\n",
    "It comes from Fig. 11 from the original paper.\n",
    "\n",
    "This circuit is an important subroutine in the paper's larger algorithm because it is responsible for preparing arbitrary quantum states, which can be thought of as \"loading\" data into the quantum computer."
   ]
  },
  {
   "cell_type": "markdown",
   "id": "8ec5bd3c-d8ed-4261-8f22-d7db04d65fa8",
   "metadata": {},
   "source": [
    "In this tutorial we won't be explaining how the algorithm works in details—partly because this is not the place, and partly because [Craig Gidney already did it in his blogpost](https://algassert.com/post/1805)\n",
    "\n",
    "But briefly and at a high level, Alias Sampling contains the following subroutines:\n",
    "- $\\textrm{UNIFORM}_L$: prepares a state which is a uniform superposition over $L$ basis states\n",
    "- $H^{\\otimes\\mu}$: applies a set of Hadamard gates to create a uniform superposition over $2^{\\mu}$ basis states\n",
    "- QROM: loads data values into two \"data\" registers in superposition depending on the state input to $\\textrm{In}_{\\ell}$\n",
    "- Comparator: flips a target qubit if $\\textrm{keep}_l \\leq \\sigma_l$ based on the values of the two other input registers (to $\\textrm{In}_{\\sigma_l}$ and $\\textrm{In}_{\\textrm{keep}_l}$ respectively).\n",
    "- Controlled SWAP: swaps two target registers conditional on the value of a control qubit.\n",
    "\n",
    "Now, before we map all these subroutines to `bartiq`, it would be good to know what the costs of each of the subroutines are. After carefully reading the paper we can deduce what the costs are. But before we get there, let's define our symbols to have consistent naming.  The authors use same letters for different variables in different figures, so it can get confusing without reading the paper carefully—that's why we'll stick to the naming from the figure above to keep things simple.\n",
    "\n",
    "- $L$ – number of coefficients we want to load.\n",
    "- $\\mu$ – bits of precision for coefficients we load.\n",
    "- $k$ is the exponent of 2 in the prime factorization of $L$. In other words, it is the largest integer such that  $2^k$ divides $L$. This is not a widely-used mathematical operation, but fortunately in `bartiq` we have a shorthand for that, and we can say that `k = multiplicity(2, L)`. For more information, you can check how [it's defined in sympy](https://docs.sympy.org/latest/modules/ntheory.html#sympy.ntheory.factor_.multiplicity).\n",
    "\n",
    "Given all that—what are the costs of our routines? For the purpose of we shall focus on just calculating the T-gate and rotation costs: \n",
    "\n",
    "- Uniform: $8(\\lceil\\log_2(L/2^k)\\rceil-1)$ T-gates and 2 rotation gates. It comes Fig 12 and its caption. We omit the $O(\\log(1/\\epsilon)$ term, because it corresponds to those two rotations that we count separately.\n",
    "- Hadamards: No T-gates or rotations.\n",
    "- QROM: $4L-4$ – this comes from Fig. 10.\n",
    "- Comparator: $4\\mu-4$ – this is not stated explicitly in the text, but comes from a careful analysis of the caption of Fig. 11.\n",
    "- Swap: $O(\\log_2(L))$ – this is not stated explicitly in the text, but comes from a careful analysis of the caption of Fig. 11.\n",
    "\n",
    "These expressions don't take into account some nuances—for example the uniform state preparation (USP) can be implemented as a layer of Hadamard gates if $L$ is a power of two.\n",
    "\n",
    "Armed with this knowledge, we can now write each individual routine.\n",
    "However, since in this case all the routines have similar structure, we can use the following helper function:"
   ]
  },
  {
   "cell_type": "markdown",
   "id": "4ac9e0d8-8ebe-44e6-a1f2-0608502bf43f",
   "metadata": {},
   "source": [
    "<div class=\"alert alert-block alert-info admonition note\"> <p class=\"admonition-title\"><b>NOTE:</b></p>\n",
    "\n",
    "Unfortunately the costs presented in this example are quite complicated. It would be great to just point you to a single place in the paper, get an expression and type it into `bartiq`. That's not the case though and if there are any mistakes or oversimplifications—please let us know! However, the fact that even a relatively simple routine presents such challenges, shows that we need better tools for working with quantum algorithms.\n",
    "\n",
    "Also, as it turns out in the follow-up work not all the costs from this paper are correct, as some routines can be optimized. But explaining that is way beyond the scope of this tutorial.\n",
    "\n",
    "</div>"
   ]
  },
  {
   "cell_type": "code",
   "id": "fa6d5b43-0eac-4f6f-84de-1df68b8d0d8e",
   "metadata": {},
   "source": [
    "usp_dict = {\n",
    "    \"name\": \"usp\",\n",
    "    \"type\": None,\n",
    "    \"ports\": [\n",
    "        {\"name\": \"in\", \"direction\": \"input\", \"size\": \"R\"},\n",
    "        {\"name\": \"out\", \"direction\": \"output\", \"size\": \"R\"},\n",
    "    ],\n",
    "    \"resources\": [\n",
    "        {\n",
    "            \"name\": \"T_gates\",\n",
    "            \"type\": \"additive\",\n",
    "            \"value\": \"8*(ceil(log_2(L/(2 ** multiplicity(2,L))))-1)\",\n",
    "        },\n",
    "        {\"name\": \"rotations\", \"type\": \"additive\", \"value\": \"2\"},\n",
    "    ],\n",
    "    \"input_params\": [\"L\"],\n",
    "    \"local_variables\": {\"R\": \"ceiling(log_2(L))\"},\n",
    "}"
   ],
   "outputs": [],
   "execution_count": null
  },
  {
   "cell_type": "markdown",
   "id": "cd884e8c-eccd-426b-ba55-a5acc1de31f0",
   "metadata": {},
   "source": [
    "There are two things that we did here which might not be straight-forward.\n",
    "\n",
    "- We used `ceiling` function for the port size—that's because port sizes need to be integer.\n",
    "- We introduced new field: `local_variables`. This allows us to define some \"helper\" variables, which are only used in the scope of this routine and save us some typing"
   ]
  },
  {
   "cell_type": "code",
   "id": "9cbe85ec-c435-4e60-8561-9b151de06b41",
   "metadata": {},
   "source": [
    "had_dict = {\n",
    "    \"name\": \"had\",\n",
    "    \"type\": None,\n",
    "    \"ports\": [\n",
    "        {\"name\": \"in\", \"direction\": \"input\", \"size\": \"N\"},\n",
    "        {\"name\": \"out\", \"direction\": \"output\", \"size\": \"N\"},\n",
    "    ],\n",
    "}"
   ],
   "outputs": [],
   "execution_count": null
  },
  {
   "cell_type": "code",
   "id": "ef43c139-304f-473f-b718-16883760658e",
   "metadata": {},
   "source": [
    "qrom_dict = {\n",
    "    \"name\": \"qrom\",\n",
    "    \"type\": None,\n",
    "    \"ports\": [\n",
    "        {\"name\": \"In_l\", \"direction\": \"input\", \"size\": \"R\"},\n",
    "        {\"name\": \"In_alt\", \"direction\": \"input\", \"size\": \"R\"},\n",
    "        {\"name\": \"In_keep\", \"direction\": \"input\", \"size\": \"mu\"},\n",
    "        {\"name\": \"out_l\", \"direction\": \"output\", \"size\": \"R\"},\n",
    "        {\"name\": \"out_alt\", \"direction\": \"output\", \"size\": \"R\"},\n",
    "        {\"name\": \"out_keep\", \"direction\": \"output\", \"size\": \"mu\"},\n",
    "    ],\n",
    "    \"resources\": [{\"name\": \"T_gates\", \"type\": \"additive\", \"value\": \"4*L-4\"}],\n",
    "    \"input_params\": [\"L\", \"mu\"],\n",
    "    \"local_variables\": {\"R\": \"ceiling(log_2(L))\"},\n",
    "}"
   ],
   "outputs": [],
   "execution_count": null
  },
  {
   "cell_type": "code",
   "id": "698c0b16-2e5f-4c9f-bc81-89f0bbed9611",
   "metadata": {},
   "source": [
    "compare_dict = {\n",
    "    \"name\": \"compare\",\n",
    "    \"type\": None,\n",
    "    \"ports\": [\n",
    "        {\"name\": \"In_sigma\", \"direction\": \"input\", \"size\": \"mu\"},\n",
    "        {\"name\": \"In_keep\", \"direction\": \"input\", \"size\": \"mu\"},\n",
    "        {\"name\": \"In_flag\", \"direction\": \"input\", \"size\": \"1\"},\n",
    "        {\"name\": \"out_sigma\", \"direction\": \"output\", \"size\": \"mu\"},\n",
    "        {\"name\": \"out_keep\", \"direction\": \"output\", \"size\": \"mu\"},\n",
    "        {\"name\": \"out_flag\", \"direction\": \"output\", \"size\": \"1\"},\n",
    "    ],\n",
    "    \"resources\": [{\"name\": \"T_gates\", \"type\": \"additive\", \"value\": \"4*mu-4\"}],\n",
    "    \"input_params\": [\"mu\"],\n",
    "}"
   ],
   "outputs": [],
   "execution_count": null
  },
  {
   "cell_type": "code",
   "id": "da5c61bf-7fb2-47d1-a0f5-d15b32147673",
   "metadata": {},
   "source": [
    "swap_dict = {\n",
    "    \"name\": \"swap\",\n",
    "    \"type\": None,\n",
    "    \"ports\": [\n",
    "        {\"name\": \"In_control\", \"direction\": \"input\", \"size\": \"1\"},\n",
    "        {\"name\": \"In_target_0\", \"direction\": \"input\", \"size\": \"X\"},\n",
    "        {\"name\": \"In_target_1\", \"direction\": \"input\", \"size\": \"X\"},\n",
    "        {\"name\": \"out_control\", \"direction\": \"output\", \"size\": None},\n",
    "        {\"name\": \"out_target_0\", \"direction\": \"output\", \"size\": None},\n",
    "        {\"name\": \"out_target_1\", \"direction\": \"output\", \"size\": None},\n",
    "    ],\n",
    "    \"resources\": [{\"name\": \"T_gates\", \"type\": \"additive\", \"value\": \"O(log_2(X))\"}],\n",
    "    \"connections\": [\n",
    "        {\"source\": \"In_control\", \"target\": \"out_control\"},\n",
    "        {\"source\": \"In_target_0\", \"target\": \"out_target_0\"},\n",
    "        {\"source\": \"In_target_1\", \"target\": \"out_target_1\"},\n",
    "    ],\n",
    "    \"input_params\": [\"X\"],\n",
    "}"
   ],
   "outputs": [],
   "execution_count": null
  },
  {
   "cell_type": "markdown",
   "id": "3eb5233e-d6da-43dd-b716-4315fc1a7b79",
   "metadata": {},
   "source": [
    "We follow the same naming convention in all the subroutines to make things easier to follow. But in swap, we decided to use `X` instead of `R=ceil(log_2(L))`. Why? \n",
    "\n",
    "It shows, that we can use whatever naming we want for any particular subroutine – we don't need to stick to one convention in all the subroutines. This is what you would often want to do in practice. If you would like to reuse this controlled swap in some other algorithm, a generic `X` is a much better choice than a very specific `R`."
   ]
  },
  {
   "cell_type": "markdown",
   "id": "4b0e383c-0610-4e22-9773-27f34241c18b",
   "metadata": {},
   "source": [
    "Now that we have all these defined, let's construct the dictionary for the whole algorithm:"
   ]
  },
  {
   "cell_type": "code",
   "id": "b066f011-96e1-4544-81bf-cdc7083b3f73",
   "metadata": {},
   "source": [
    "alias_sampling_dict = {\n",
    "    \"name\": \"alias_sampling\",\n",
    "    \"children\": [usp_dict, had_dict, qrom_dict, compare_dict, swap_dict],\n",
    "    \"type\": None,\n",
    "    \"ports\": [\n",
    "        {\"name\": \"In_0\", \"direction\": \"input\", \"size\": \"R\"},\n",
    "        {\"name\": \"In_1\", \"direction\": \"input\", \"size\": \"mu\"},\n",
    "        {\"name\": \"In_2\", \"direction\": \"input\", \"size\": \"R\"},\n",
    "        {\"name\": \"In_3\", \"direction\": \"input\", \"size\": \"mu\"},\n",
    "        {\"name\": \"In_4\", \"direction\": \"input\", \"size\": \"1\"},\n",
    "        {\"name\": \"out_0\", \"direction\": \"output\", \"size\": None},\n",
    "        {\"name\": \"temp_0\", \"direction\": \"output\", \"size\": None},\n",
    "        {\"name\": \"temp_1\", \"direction\": \"output\", \"size\": None},\n",
    "        {\"name\": \"temp_2\", \"direction\": \"output\", \"size\": None},\n",
    "        {\"name\": \"temp_3\", \"direction\": \"output\", \"size\": None},\n",
    "    ],\n",
    "    \"connections\": [\n",
    "        {\"source\": \"In_0\", \"target\": \"usp.in\"},\n",
    "        {\"source\": \"In_1\", \"target\": \"had.in\"},\n",
    "        {\"source\": \"In_2\", \"target\": \"qrom.In_alt\"},\n",
    "        {\"source\": \"In_3\", \"target\": \"qrom.In_keep\"},\n",
    "        {\"source\": \"In_4\", \"target\": \"compare.In_flag\"},\n",
    "        {\"source\": \"usp.out\", \"target\": \"qrom.In_l\"},\n",
    "        {\"source\": \"had.out\", \"target\": \"compare.In_sigma\"},\n",
    "        {\"source\": \"qrom.out_l\", \"target\": \"swap.In_target_0\"},\n",
    "        {\"source\": \"qrom.out_alt\", \"target\": \"swap.In_target_1\"},\n",
    "        {\"source\": \"qrom.out_keep\", \"target\": \"compare.In_keep\"},\n",
    "        {\"source\": \"compare.out_flag\", \"target\": \"swap.In_control\"},\n",
    "        {\"source\": \"swap.out_target_0\", \"target\": \"out_0\"},\n",
    "        {\"source\": \"compare.out_sigma\", \"target\": \"temp_0\"},\n",
    "        {\"source\": \"swap.out_target_1\", \"target\": \"temp_1\"},\n",
    "        {\"source\": \"compare.out_keep\", \"target\": \"temp_2\"},\n",
    "        {\"source\": \"swap.out_control\", \"target\": \"temp_3\"},\n",
    "    ],\n",
    "    \"input_params\": [\"mu\", \"L\"],\n",
    "    \"local_variables\": {\"R\": \"ceiling(log_2(L))\"},\n",
    "    \"linked_params\": [\n",
    "        {\"source\": \"L\", \"targets\": [\"usp.L\", \"qrom.L\", \"swap.X\"]},\n",
    "        {\"source\": \"mu\", \"targets\": [\"qrom.mu\", \"compare.mu\"]},\n",
    "    ],\n",
    "}"
   ],
   "outputs": [],
   "execution_count": null
  },
  {
   "cell_type": "code",
   "id": "e3d17a61-4b9e-48e9-901a-231da501f41b",
   "metadata": {},
   "source": "alias_sampling_qref = {\"version\": \"v1\", \"program\": alias_sampling_dict}",
   "outputs": [],
   "execution_count": null
  },
  {
   "cell_type": "markdown",
   "id": "a97dfdd428b669cb",
   "metadata": {},
   "source": [
    "Additionally, you can examine how the circuit is represented in `qref` format by visualizing it. "
   ]
  },
  {
   "cell_type": "markdown",
   "id": "dfdf59f8a2ef16c5",
   "metadata": {},
   "source": [
    "<div class=\"alert alert-block alert-info admonition note\">\n",
    "    <p class=\"admonition-title\"><b>NOTE:</b></p>\n",
    "    <p>\n",
    "        To use the <a href=\"https://github.com/PsiQ/qref\">qref</a> rendering tool in Jupyter Notebook, ensure the Graphviz software is installed on your OS and that its executables are included in your system variables. For installation instructions, please refer to the <a href=\"https://graphviz.org/download/\">Graphviz download page</a>.\n",
    "    </p>\n",
    "</div>"
   ]
  },
  {
   "cell_type": "markdown",
   "id": "ff432b4dac9921c1",
   "metadata": {},
   "source": [
    "<p>Once installed, proceed to visualize the representation of the circuit.</p>"
   ]
  },
  {
   "cell_type": "code",
   "id": "492ad64333e398fa",
   "metadata": {},
   "source": [
    "from qref.experimental.rendering import to_graphviz\n",
    "\n",
    "# Convert the qref format to Graphviz object\n",
    "gv_object = to_graphviz(alias_sampling_qref)\n",
    "\n",
    "# Render the Graphviz object to a PNG file\n",
    "gv_object.render(\"alias_sampling\", format=\"png\")\n",
    "gv_object"
   ],
   "outputs": [],
   "execution_count": null
  },
  {
   "cell_type": "markdown",
   "id": "2ee860fa5c451aad",
   "metadata": {},
   "source": [
    "As we expected, the diagram displays five subroutines which are `usp`, `qrom`, `compare`, `had`, `swap`, and their hierarchical connections. Everything appears to be in order! Let's proceed with the compilation.\n"
   ]
  },
  {
   "cell_type": "code",
   "id": "5d0d2d69-4b77-4d62-9dd3-2405f4db21ed",
   "metadata": {},
   "source": [
    "from bartiq.integrations import qref_to_bartiq\n",
    "\n",
    "uncompiled_routine = qref_to_bartiq(alias_sampling_qref)"
   ],
   "outputs": [],
   "execution_count": null
  },
  {
   "cell_type": "code",
   "id": "d20ef4d2-9420-4090-a402-ee5f27034524",
   "metadata": {},
   "source": [
    "from bartiq import compile_routine\n",
    "\n",
    "compiled_routine = compile_routine(uncompiled_routine)"
   ],
   "outputs": [],
   "execution_count": null
  },
  {
   "cell_type": "markdown",
   "id": "83fa9feb-7ab4-4bd8-81eb-6fbc76aeea81",
   "metadata": {},
   "source": [
    "It went pretty well, let's see what's the we got:"
   ]
  },
  {
   "cell_type": "code",
   "id": "dad8df1e-9570-46c5-a422-4f29bba4d52c",
   "metadata": {},
   "source": [
    "for resource in compiled_routine.resources.values():\n",
    "    print(f\"{resource.name}: {resource.value}\")"
   ],
   "outputs": [],
   "execution_count": null
  },
  {
   "cell_type": "markdown",
   "id": "a9b6d152-8643-4d4b-a0b7-64d8a0d4e5aa",
   "metadata": {},
   "source": [
    "In the caption of Fig. 11 we had: $4(L + \\mu) + O(\\log_2(L))$, and these two expressions actually match pretty well.\n",
    "\n",
    "- We have the $4(L + \\mu)$ in both versions. \n",
    "- We have a `swap.O(log_2(L))` which corresponds to `O(log_2(L))`\n",
    "- The `8*ceiling(log2(L/2 ^ multiplicity(2, L)))` term is also `O(log_2(L))`\n",
    "- Constant factor of `-16` can also be incorporated in `O(log_2(L))`\n",
    "\n",
    "\n",
    "\n",
    "Let's see how it looks like for some concrete values:"
   ]
  },
  {
   "cell_type": "code",
   "id": "becb2091-9faf-4364-ac22-f10240072937",
   "metadata": {},
   "source": [
    "from bartiq import evaluate\n",
    "\n",
    "assignments = {\"L=120\", \"mu=8\"}\n",
    "evaluated_routine = evaluate(compiled_routine, assignments)\n",
    "for resource in evaluated_routine.resources.values():\n",
    "    print(f\"{resource.name}: {resource.value}\")"
   ],
   "outputs": [],
   "execution_count": null
  },
  {
   "cell_type": "markdown",
   "id": "fd2302a8-0981-4191-bdd2-b89457de23d1",
   "metadata": {},
   "source": [
    "# "
   ]
  },
  {
   "cell_type": "markdown",
   "id": "043ba013-d00e-40fa-9a75-617af933313f",
   "metadata": {},
   "source": [
    " Well, we're almost there...\n",
    "There's still `swap.O()` in our expression – what is it?\n",
    "\n",
    "This is good opportunity to talk about how to substitute arbitrary functions in `bartiq`!\n",
    "\n",
    "As you can see, the functions in `bartiq` are namespaced by default – that's why why we have `swap.O` rather than `O`. Alternatively, you can compile your routine with `global_functions` keyword. That will remove the `swap.` namespace."
   ]
  },
  {
   "cell_type": "code",
   "id": "dbf7d3a4-5a58-4dcb-990e-eccd0d7cda9a",
   "metadata": {},
   "source": [
    "compiled_routine = compile_routine(uncompiled_routine, global_functions=[\"O\"])\n",
    "for resource in compiled_routine.resources.values():\n",
    "    print(f\"{resource.name}: {resource.value}\")"
   ],
   "outputs": [],
   "execution_count": null
  },
  {
   "cell_type": "markdown",
   "id": "e090cce2-8b9f-449f-8c14-96212cbe7f85",
   "metadata": {},
   "source": [
    "We still have big O there, but at least now we got rid of the `swap`. So let's assume the simplest case, i.e.`O(x) = ceiling(x)` "
   ]
  },
  {
   "cell_type": "code",
   "id": "2909fb37-6a15-44fc-a80f-46e562220fcb",
   "metadata": {},
   "source": [
    "import math\n",
    "\n",
    "\n",
    "def big_O(x):\n",
    "    return math.ceil(x)\n",
    "\n",
    "\n",
    "functions_map = {\"O\": big_O}\n",
    "evaluated_routine = evaluate(compiled_routine, assignments, functions_map=functions_map)\n",
    "for resource in evaluated_routine.resources.values():\n",
    "    print(f\"{resource.name}: {resource.value}\")"
   ],
   "outputs": [],
   "execution_count": null
  },
  {
   "cell_type": "markdown",
   "id": "803928c9-5d0a-46b9-8d08-9a281a735520",
   "metadata": {},
   "source": [
    "And now we finally have some concrete numbers!"
   ]
  },
  {
   "cell_type": "markdown",
   "id": "33ef184a-f3a5-4c8f-8f9d-423b5d506556",
   "metadata": {},
   "source": [
    "## Exploring the estimates\n",
    "\n",
    "If we just interact with bare python objects, getting a quick idea of the values of various fields might be a bit cumbersome.\n",
    "That's where `explore_routine` functions might be helpful. Try it out using the snippet below.\n",
    "\n",
    "\n",
    "<div class=\"alert alert-block alert-info admonition note\"> <p class=\"admonition-title\"><b>NOTE:</b></p>\n",
    "This is an interactive feature and will not render in the static version of the docs. To use it you need to run this tutorial as a jupyter notebook. <br>\n",
    "Remember to install bartiq with <code>pip install bartiq[jupyter]</code> to make sure you have all the dependencies needed for these widgets to work (for more details visit <a href=\"https://psiq.github.io/bartiq/latest/installation/\">installation docs</a>).\n",
    "</div>\n"
   ]
  },
  {
   "cell_type": "code",
   "id": "1a346534-4f97-4855-8262-2c5df824eb27",
   "metadata": {},
   "source": [
    "from bartiq.integrations import explore_routine\n",
    "\n",
    "explore_routine(evaluated_routine)"
   ],
   "outputs": [],
   "execution_count": null
  },
  {
   "cell_type": "markdown",
   "id": "c35b2019-aa78-478b-b320-f6515b9b6276",
   "metadata": {},
   "source": [
    "If you'd prefer a static representation, you can also simply export routine to latex:"
   ]
  },
  {
   "cell_type": "code",
   "id": "a925abe0-9026-4079-9c5a-8ef5e087a551",
   "metadata": {},
   "source": [
    "from bartiq.integrations import routine_to_latex\n",
    "from IPython.display import Math\n",
    "\n",
    "Math(routine_to_latex(evaluated_routine))"
   ],
   "outputs": [],
   "execution_count": null
  },
  {
   "cell_type": "markdown",
   "id": "3756e437-22fe-47b4-8fc3-009785d2ea8d",
   "metadata": {},
   "source": [
    "## Summary\n",
    "Let's sum up what we covered in this tutorial:\n",
    "\n",
    "- How to take an algorithm from a paper and compile it into `bartiq`\n",
    "- How to create a routine with multiple resources, `local_variables` and custom functions\n",
    "- How to use `explore_routine` and latex integration to get most out of `bartiq`"
   ]
  }
 ],
 "metadata": {
  "kernelspec": {
   "display_name": "debugging",
   "language": "python",
   "name": "debugging"
  },
  "language_info": {
   "codemirror_mode": {
    "name": "ipython",
    "version": 3
   },
   "file_extension": ".py",
   "mimetype": "text/x-python",
   "name": "python",
   "nbconvert_exporter": "python",
   "pygments_lexer": "ipython3",
   "version": "3.12.3"
  }
 },
 "nbformat": 4,
 "nbformat_minor": 5
}
