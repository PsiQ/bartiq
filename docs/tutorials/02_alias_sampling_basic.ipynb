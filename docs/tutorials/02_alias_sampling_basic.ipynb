{
 "cells": [
  {
   "cell_type": "markdown",
   "id": "c7517267-d53f-46d8-9b64-0f518fbf1202",
   "metadata": {},
   "source": [
    "# Alias Sampling"
   ]
  },
  {
   "cell_type": "markdown",
   "id": "8d4d79ad-b0e7-4ae9-8b6c-706fa5760612",
   "metadata": {},
   "source": [
    "<div class=\"alert alert-block alert-info admonition note\"> <p class=\"admonition-title\"><b>NOTE:</b></p>\n",
    "\n",
    "This tutorial, as well as all the other tutorials, has been written as a jupyter notebook.\n",
    "If you're reading it online, you can either keep reading, or clone the repository and go to `docs/tutorials` to explore them in a more interactive way!\n",
    "\n",
    "</div>"
   ]
  },
  {
   "cell_type": "markdown",
   "id": "4200cc8f-ecea-42a1-8eab-556aa97cbe25",
   "metadata": {},
   "source": [
    "The example we used in previous tutorial was nice to establish some basic terminology. But let's be honest, it was contrived and not very practical. So now we'll take an existing example from a paper and try to get some resource estimations for it using `bartiq`!\n",
    "\n",
    "For that we'll use Alias Sampling—an algorithm proposed by Babbush et al. in [Encoding Electronic Spectra in Quantum Circuits with Linear T Complexity](https://journals.aps.org/prx/abstract/10.1103/PhysRevX.8.041015). This is what the circuit looks like:\n",
    "\n",
    "![Alias Sampling](../images/alias_sampling_paper.png)\n",
    "\n",
    "\n",
    "It comes from Fig. 11 from the original paper.\n",
    "\n",
    "This circuit is an important subroutine in the paper's larger algorithm because it is responsible for preparing arbitrary quantum states, which can be thought of as \"loading\" data into the quantum computer."
   ]
  },
  {
   "cell_type": "markdown",
   "id": "8ec5bd3c-d8ed-4261-8f22-d7db04d65fa8",
   "metadata": {},
   "source": [
    "In this tutorial we won't be explaining how the algorithm works in details—partly because this is not the place, and partly because [Craig Gidney already did it in his blogpost](https://algassert.com/post/1805)\n",
    "\n",
    "But briefly and at a high level, Alias Sampling contains the following subroutines:\n",
    "- $\\textrm{UNIFORM}_L$: prepares a state which is a uniform superposition over $L$ basis states\n",
    "- $H^{\\otimes\\mu}$: applies a set of Hadamard gates to create a uniform superposition over $2^{\\mu}$ basis states\n",
    "- QROM: loads data values into two \"data\" registers in superposition depending on the state input to $\\textrm{In}_{\\ell}$\n",
    "- Comparator: flips a target qubit if $\\textrm{keep}_l \\leq \\sigma_l$ based on the values of the two other input registers (to $\\textrm{In}_{\\sigma_l}$ and $\\textrm{In}_{\\textrm{keep}_l}$ respectively).\n",
    "- Controlled SWAP: swaps two target registers conditional on the value of a control qubit.\n",
    "\n",
    "Now, before we map all these subroutines to `qref`, it would be good to know what the costs of each of the subroutines are. After carefully reading the paper we can deduce what the costs are. But before we get there, let's define our symbols to have consistent naming.  The authors use same letters for different variables in different figures, so it can get confusing without reading the paper carefully—that's why we'll stick to the naming from the figure above to keep things simple.\n",
    "\n",
    "- $L$ – number of coefficients we want to load.\n",
    "- $\\mu$ – bits of precision for coefficients we load.\n",
    "- $k$ is the exponent of 2 in the prime factorization of $L$. In other words, it is the largest integer such that  $2^k$ divides $L$. This is not a widely-used mathematical operation, but fortunately in `bartiq` we can use a shorthand for that, and we say that `k = multiplicity(2, L)`. For more information, you can check how [it's defined in sympy](https://docs.sympy.org/latest/modules/ntheory.html#sympy.ntheory.factor_.multiplicity).\n",
    "\n",
    "Given all that—what are the costs of our routines? For the purpose of we shall focus on just calculating the T-gate and rotation costs: \n",
    "\n",
    "- Uniform: $8(\\lceil\\log_2(L/2^k)\\rceil-1)$ T-gates and 2 rotation gates. It comes Fig 12 and its caption. We omit the $O(\\log(1/\\epsilon)$ term, because it corresponds to those two rotations that we count separately.\n",
    "- Hadamards: No T-gates or rotations.\n",
    "- QROM: $4L-4$ – this comes from Fig. 10.\n",
    "- Comparator: $4\\mu-4$ – this is not stated explicitly in the text, but comes from a careful analysis of the caption of Fig. 11.\n",
    "- Swap: $O(\\log_2(L))$ – this is not stated explicitly in the text, but comes from a careful analysis of the caption of Fig. 11.\n",
    "\n",
    "These expressions don't take into account some nuances—for example the uniform state preparation (USP) can be implemented as a layer of Hadamard gates if $L$ is a power of two.\n",
    "\n",
    "Armed with this knowledge, we can now write each individual routine.\n",
    "However, since in this case all the routines have similar structure, we can use the following helper function:"
   ]
  },
  {
   "cell_type": "markdown",
   "id": "4ac9e0d8-8ebe-44e6-a1f2-0608502bf43f",
   "metadata": {},
   "source": [
    "<div class=\"alert alert-block alert-info admonition note\"> <p class=\"admonition-title\"><b>NOTE:</b></p>\n",
    "\n",
    "Unfortunately the costs presented in this example are quite complicated. It would be great to just point you to a single place in the paper, get an expression and type it into `bartiq`. That's not the case though and if there are any mistakes or oversimplifications—please let us know! However, the fact that even a relatively simple routine presents such challenges, shows that we need better tools for working with quantum algorithms.\n",
    "\n",
    "Also, as it turns out in the follow-up work not all the costs from this paper are correct, as some routines can be optimized. But explaining that is way beyond the scope of this tutorial.\n",
    "\n",
    "</div>"
   ]
  },
  {
   "cell_type": "code",
   "execution_count": 1,
   "id": "fa6d5b43-0eac-4f6f-84de-1df68b8d0d8e",
   "metadata": {
    "ExecuteTime": {
     "end_time": "2024-07-26T15:27:18.908342Z",
     "start_time": "2024-07-26T15:27:18.891752Z"
    }
   },
   "outputs": [],
   "source": [
    "usp_dict = {\n",
    "    \"name\": \"usp\",\n",
    "    \"type\": None,\n",
    "    \"ports\": [\n",
    "        {\"name\": \"in\", \"direction\": \"input\", \"size\": \"R\"},\n",
    "        {\"name\": \"out\", \"direction\": \"output\", \"size\": \"R\"},\n",
    "    ],\n",
    "    \"resources\": [\n",
    "        {\n",
    "            \"name\": \"T_gates\",\n",
    "            \"type\": \"additive\",\n",
    "            \"value\": \"8*(ceiling(log_2(L/(2 ** multiplicity(2,L))))-1)\",\n",
    "        },\n",
    "        {\"name\": \"rotations\", \"type\": \"additive\", \"value\": \"2\"},\n",
    "    ],\n",
    "    \"input_params\": [\"L\"],\n",
    "    \"local_variables\": {\"R\": \"ceiling(log_2(L))\"},\n",
    "}"
   ]
  },
  {
   "cell_type": "markdown",
   "id": "cd884e8c-eccd-426b-ba55-a5acc1de31f0",
   "metadata": {},
   "source": [
    "There are two things that we did here which might not be straight-forward.\n",
    "\n",
    "- We used `ceiling` function for the port size—that's because port sizes need to be integer.\n",
    "- We introduced new field: `local_variables`. This allows us to define some \"helper\" variables, which are only used in the scope of this routine and save us some typing"
   ]
  },
  {
   "cell_type": "code",
   "execution_count": 2,
   "id": "9cbe85ec-c435-4e60-8561-9b151de06b41",
   "metadata": {
    "ExecuteTime": {
     "end_time": "2024-07-26T15:27:18.916887Z",
     "start_time": "2024-07-26T15:27:18.911716Z"
    }
   },
   "outputs": [],
   "source": [
    "had_dict = {\n",
    "    \"name\": \"had\",\n",
    "    \"type\": None,\n",
    "    \"ports\": [\n",
    "        {\"name\": \"in\", \"direction\": \"input\", \"size\": \"N\"},\n",
    "        {\"name\": \"out\", \"direction\": \"output\", \"size\": \"N\"},\n",
    "    ],\n",
    "}"
   ]
  },
  {
   "cell_type": "code",
   "execution_count": 3,
   "id": "ef43c139-304f-473f-b718-16883760658e",
   "metadata": {
    "ExecuteTime": {
     "end_time": "2024-07-26T15:27:18.931289Z",
     "start_time": "2024-07-26T15:27:18.921378Z"
    }
   },
   "outputs": [],
   "source": [
    "qrom_dict = {\n",
    "    \"name\": \"qrom\",\n",
    "    \"type\": None,\n",
    "    \"ports\": [\n",
    "        {\"name\": \"In_l\", \"direction\": \"input\", \"size\": \"R\"},\n",
    "        {\"name\": \"In_alt\", \"direction\": \"input\", \"size\": \"R\"},\n",
    "        {\"name\": \"In_keep\", \"direction\": \"input\", \"size\": \"mu\"},\n",
    "        {\"name\": \"out_l\", \"direction\": \"output\", \"size\": \"R\"},\n",
    "        {\"name\": \"out_alt\", \"direction\": \"output\", \"size\": \"R\"},\n",
    "        {\"name\": \"out_keep\", \"direction\": \"output\", \"size\": \"mu\"},\n",
    "    ],\n",
    "    \"resources\": [{\"name\": \"T_gates\", \"type\": \"additive\", \"value\": \"4*L-4\"}],\n",
    "    \"input_params\": [\"L\", \"mu\"],\n",
    "    \"local_variables\": {\"R\": \"ceiling(log_2(L))\"},\n",
    "}"
   ]
  },
  {
   "cell_type": "code",
   "execution_count": 4,
   "id": "698c0b16-2e5f-4c9f-bc81-89f0bbed9611",
   "metadata": {
    "ExecuteTime": {
     "end_time": "2024-07-26T15:27:18.944126Z",
     "start_time": "2024-07-26T15:27:18.937743Z"
    }
   },
   "outputs": [],
   "source": [
    "compare_dict = {\n",
    "    \"name\": \"compare\",\n",
    "    \"type\": None,\n",
    "    \"ports\": [\n",
    "        {\"name\": \"In_sigma\", \"direction\": \"input\", \"size\": \"mu\"},\n",
    "        {\"name\": \"In_keep\", \"direction\": \"input\", \"size\": \"mu\"},\n",
    "        {\"name\": \"In_flag\", \"direction\": \"input\", \"size\": \"1\"},\n",
    "        {\"name\": \"out_sigma\", \"direction\": \"output\", \"size\": \"mu\"},\n",
    "        {\"name\": \"out_keep\", \"direction\": \"output\", \"size\": \"mu\"},\n",
    "        {\"name\": \"out_flag\", \"direction\": \"output\", \"size\": \"1\"},\n",
    "    ],\n",
    "    \"resources\": [{\"name\": \"T_gates\", \"type\": \"additive\", \"value\": \"4*mu-4\"}],\n",
    "    \"input_params\": [\"mu\"],\n",
    "}"
   ]
  },
  {
   "cell_type": "code",
   "execution_count": 5,
   "id": "da5c61bf-7fb2-47d1-a0f5-d15b32147673",
   "metadata": {
    "ExecuteTime": {
     "end_time": "2024-07-26T15:27:18.959661Z",
     "start_time": "2024-07-26T15:27:18.949467Z"
    }
   },
   "outputs": [],
   "source": [
    "swap_dict = {\n",
    "    \"name\": \"swap\",\n",
    "    \"type\": None,\n",
    "    \"ports\": [\n",
    "        {\"name\": \"In_control\", \"direction\": \"input\", \"size\": \"1\"},\n",
    "        {\"name\": \"In_target_0\", \"direction\": \"input\", \"size\": \"X\"},\n",
    "        {\"name\": \"In_target_1\", \"direction\": \"input\", \"size\": \"X\"},\n",
    "        {\"name\": \"out_control\", \"direction\": \"output\", \"size\": None},\n",
    "        {\"name\": \"out_target_0\", \"direction\": \"output\", \"size\": None},\n",
    "        {\"name\": \"out_target_1\", \"direction\": \"output\", \"size\": None},\n",
    "    ],\n",
    "    \"resources\": [{\"name\": \"T_gates\", \"type\": \"additive\", \"value\": \"O(log_2(X))\"}],\n",
    "    \"connections\": [\n",
    "        {\"source\": \"In_control\", \"target\": \"out_control\"},\n",
    "        {\"source\": \"In_target_0\", \"target\": \"out_target_0\"},\n",
    "        {\"source\": \"In_target_1\", \"target\": \"out_target_1\"},\n",
    "    ],\n",
    "    \"input_params\": [\"X\"],\n",
    "}"
   ]
  },
  {
   "cell_type": "markdown",
   "id": "3eb5233e-d6da-43dd-b716-4315fc1a7b79",
   "metadata": {},
   "source": [
    "We follow the same naming convention in all the subroutines to make things easier to follow. But in swap, we decided to use `X` instead of `R=ceiling(log_2(L))`. Why? \n",
    "\n",
    "It shows, that we can use whatever naming we want for any particular subroutine – we don't need to stick to one convention in all the subroutines. This is what you would often want to do in practice. If you would like to reuse this controlled swap in some other algorithm, a generic `X` is a much better choice than a very specific `R`."
   ]
  },
  {
   "cell_type": "markdown",
   "id": "4b0e383c-0610-4e22-9773-27f34241c18b",
   "metadata": {},
   "source": [
    "Now that we have all these defined, let's construct the dictionary for the whole algorithm:"
   ]
  },
  {
   "cell_type": "code",
   "execution_count": 6,
   "id": "b066f011-96e1-4544-81bf-cdc7083b3f73",
   "metadata": {
    "ExecuteTime": {
     "end_time": "2024-07-26T15:27:18.975965Z",
     "start_time": "2024-07-26T15:27:18.965030Z"
    }
   },
   "outputs": [],
   "source": [
    "alias_sampling_dict = {\n",
    "    \"name\": \"alias_sampling\",\n",
    "    \"children\": [usp_dict, had_dict, qrom_dict, compare_dict, swap_dict],\n",
    "    \"type\": None,\n",
    "    \"ports\": [\n",
    "        {\"name\": \"In_0\", \"direction\": \"input\", \"size\": \"R\"},\n",
    "        {\"name\": \"In_1\", \"direction\": \"input\", \"size\": \"mu\"},\n",
    "        {\"name\": \"In_2\", \"direction\": \"input\", \"size\": \"R\"},\n",
    "        {\"name\": \"In_3\", \"direction\": \"input\", \"size\": \"mu\"},\n",
    "        {\"name\": \"In_4\", \"direction\": \"input\", \"size\": \"1\"},\n",
    "        {\"name\": \"out_0\", \"direction\": \"output\", \"size\": None},\n",
    "        {\"name\": \"temp_0\", \"direction\": \"output\", \"size\": None},\n",
    "        {\"name\": \"temp_1\", \"direction\": \"output\", \"size\": None},\n",
    "        {\"name\": \"temp_2\", \"direction\": \"output\", \"size\": None},\n",
    "        {\"name\": \"temp_3\", \"direction\": \"output\", \"size\": None},\n",
    "    ],\n",
    "    \"connections\": [\n",
    "        {\"source\": \"In_0\", \"target\": \"usp.in\"},\n",
    "        {\"source\": \"In_1\", \"target\": \"had.in\"},\n",
    "        {\"source\": \"In_2\", \"target\": \"qrom.In_alt\"},\n",
    "        {\"source\": \"In_3\", \"target\": \"qrom.In_keep\"},\n",
    "        {\"source\": \"In_4\", \"target\": \"compare.In_flag\"},\n",
    "        {\"source\": \"usp.out\", \"target\": \"qrom.In_l\"},\n",
    "        {\"source\": \"had.out\", \"target\": \"compare.In_sigma\"},\n",
    "        {\"source\": \"qrom.out_l\", \"target\": \"swap.In_target_0\"},\n",
    "        {\"source\": \"qrom.out_alt\", \"target\": \"swap.In_target_1\"},\n",
    "        {\"source\": \"qrom.out_keep\", \"target\": \"compare.In_keep\"},\n",
    "        {\"source\": \"compare.out_flag\", \"target\": \"swap.In_control\"},\n",
    "        {\"source\": \"swap.out_target_0\", \"target\": \"out_0\"},\n",
    "        {\"source\": \"compare.out_sigma\", \"target\": \"temp_0\"},\n",
    "        {\"source\": \"swap.out_target_1\", \"target\": \"temp_1\"},\n",
    "        {\"source\": \"compare.out_keep\", \"target\": \"temp_2\"},\n",
    "        {\"source\": \"swap.out_control\", \"target\": \"temp_3\"},\n",
    "    ],\n",
    "    \"input_params\": [\"mu\", \"L\"],\n",
    "    \"local_variables\": {\"R\": \"ceiling(log_2(L))\"},\n",
    "    \"linked_params\": [\n",
    "        {\"source\": \"L\", \"targets\": [\"usp.L\", \"qrom.L\", \"swap.X\"]},\n",
    "        {\"source\": \"mu\", \"targets\": [\"qrom.mu\", \"compare.mu\"]},\n",
    "    ],\n",
    "}"
   ]
  },
  {
   "cell_type": "code",
   "execution_count": 7,
   "id": "e3d17a61-4b9e-48e9-901a-231da501f41b",
   "metadata": {
    "ExecuteTime": {
     "end_time": "2024-07-26T15:27:18.996586Z",
     "start_time": "2024-07-26T15:27:18.987667Z"
    }
   },
   "outputs": [],
   "source": [
    "from qref import SchemaV1\n",
    "alias_sampling_qref = {\"version\": \"v1\", \"program\": alias_sampling_dict}\n",
    "uncompiled_routine = SchemaV1(**alias_sampling_qref)"
   ]
  },
  {
   "cell_type": "markdown",
   "id": "a97dfdd428b669cb",
   "metadata": {},
   "source": [
    "Additionally, you can examine how the circuit is represented in `qref` format by visualizing it. "
   ]
  },
  {
   "cell_type": "markdown",
   "id": "dfdf59f8a2ef16c5",
   "metadata": {},
   "source": [
    "<div class=\"alert alert-block alert-info admonition note\">\n",
    "    <p class=\"admonition-title\"><b>NOTE:</b></p>\n",
    "    <p>\n",
    "        To use the <a href=\"https://github.com/PsiQ/qref\">qref</a> rendering tool in Jupyter Notebook, ensure the Graphviz software is installed on your OS and that its executables are included in your system variables. For installation instructions, please refer to the <a href=\"https://graphviz.org/download/\">Graphviz download page</a>.\n",
    "    </p>\n",
    "</div>"
   ]
  },
  {
   "cell_type": "markdown",
   "id": "ff432b4dac9921c1",
   "metadata": {},
   "source": [
    "<p>Once installed, proceed to visualize the representation of the circuit.</p>"
   ]
  },
  {
   "cell_type": "code",
   "execution_count": 8,
   "id": "492ad64333e398fa",
   "metadata": {
    "ExecuteTime": {
     "end_time": "2024-07-26T15:27:20.204295Z",
     "start_time": "2024-07-26T15:27:19.056789Z"
    }
   },
   "outputs": [
    {
     "data": {
      "image/svg+xml": [
       "<?xml version=\"1.0\" encoding=\"UTF-8\" standalone=\"no\"?>\n",
       "<!DOCTYPE svg PUBLIC \"-//W3C//DTD SVG 1.1//EN\"\n",
       " \"http://www.w3.org/Graphics/SVG/1.1/DTD/svg11.dtd\">\n",
       "<!-- Generated by graphviz version 10.0.1 (20240210.2158)\n",
       " -->\n",
       "<!-- Pages: 1 -->\n",
       "<svg width=\"926pt\" height=\"403pt\"\n",
       " viewBox=\"0.00 0.00 926.20 403.00\" xmlns=\"http://www.w3.org/2000/svg\" xmlns:xlink=\"http://www.w3.org/1999/xlink\">\n",
       "<g id=\"graph0\" class=\"graph\" transform=\"scale(1 1) rotate(0) translate(4 399)\">\n",
       "<polygon fill=\"white\" stroke=\"none\" points=\"-4,4 -4,-399 922.2,-399 922.2,4 -4,4\"/>\n",
       "<g id=\"clust1\" class=\"cluster\">\n",
       "<title>cluster_.alias_sampling</title>\n",
       "<path fill=\"none\" stroke=\"black\" d=\"M20,-8C20,-8 898.2,-8 898.2,-8 904.2,-8 910.2,-14 910.2,-20 910.2,-20 910.2,-375 910.2,-375 910.2,-381 904.2,-387 898.2,-387 898.2,-387 20,-387 20,-387 14,-387 8,-381 8,-375 8,-375 8,-20 8,-20 8,-14 14,-8 20,-8\"/>\n",
       "<text text-anchor=\"middle\" x=\"459.1\" y=\"-369.7\" font-family=\"Helvetica,sans-Serif\" font-size=\"14.00\">alias_sampling</text>\n",
       "</g>\n",
       "<!-- &quot;.alias_sampling.In_0&quot; -->\n",
       "<g id=\"node1\" class=\"node\">\n",
       "<title>&quot;.alias_sampling.In_0&quot;</title>\n",
       "<ellipse fill=\"none\" stroke=\"#ffa44a\" stroke-width=\"2\" cx=\"36.56\" cy=\"-198\" rx=\"20.56\" ry=\"20.56\"/>\n",
       "<text text-anchor=\"middle\" x=\"36.56\" y=\"-194.12\" font-family=\"Times,serif\" font-size=\"10.00\">In_0</text>\n",
       "</g>\n",
       "<!-- &quot;.alias_sampling.usp&quot; -->\n",
       "<g id=\"node15\" class=\"node\">\n",
       "<title>&quot;.alias_sampling.usp&quot;</title>\n",
       "<path fill=\"none\" stroke=\"#0288f5\" stroke-width=\"2\" d=\"M105.12,-190C105.12,-190 169.62,-190 169.62,-190 175.62,-190 181.62,-196 181.62,-202 181.62,-202 181.62,-214 181.62,-214 181.62,-220 175.62,-226 169.62,-226 169.62,-226 105.12,-226 105.12,-226 99.12,-226 93.12,-220 93.12,-214 93.12,-214 93.12,-202 93.12,-202 93.12,-196 99.12,-190 105.12,-190\"/>\n",
       "<text text-anchor=\"middle\" x=\"105.62\" y=\"-204.1\" font-family=\"Times,serif\" font-size=\"12.00\">in</text>\n",
       "<polyline fill=\"none\" stroke=\"#0288f5\" stroke-width=\"2\" points=\"118.12,-190.75 118.12,-226\"/>\n",
       "<text text-anchor=\"middle\" x=\"134.37\" y=\"-204.1\" font-family=\"Times,serif\" font-size=\"12.00\">usp</text>\n",
       "<polyline fill=\"none\" stroke=\"#0288f5\" stroke-width=\"2\" points=\"150.62,-190.75 150.62,-226\"/>\n",
       "<text text-anchor=\"middle\" x=\"166.12\" y=\"-204.1\" font-family=\"Times,serif\" font-size=\"12.00\">out</text>\n",
       "</g>\n",
       "<!-- &quot;.alias_sampling.In_0&quot;&#45;&gt;&quot;.alias_sampling.usp&quot; -->\n",
       "<g id=\"edge1\" class=\"edge\">\n",
       "<title>&quot;.alias_sampling.In_0&quot;&#45;&gt;&quot;.alias_sampling.usp&quot;:in</title>\n",
       "<path fill=\"none\" stroke=\"black\" d=\"M56.95,-203.23C64.32,-204.92 73.06,-206.56 81.78,-207.41\"/>\n",
       "<polygon fill=\"black\" stroke=\"black\" points=\"81.44,-210.9 91.61,-207.92 81.81,-203.91 81.44,-210.9\"/>\n",
       "</g>\n",
       "<!-- &quot;.alias_sampling.In_1&quot; -->\n",
       "<g id=\"node2\" class=\"node\">\n",
       "<title>&quot;.alias_sampling.In_1&quot;</title>\n",
       "<ellipse fill=\"none\" stroke=\"#ffa44a\" stroke-width=\"2\" cx=\"36.56\" cy=\"-80\" rx=\"20.56\" ry=\"20.56\"/>\n",
       "<text text-anchor=\"middle\" x=\"36.56\" y=\"-76.12\" font-family=\"Times,serif\" font-size=\"10.00\">In_1</text>\n",
       "</g>\n",
       "<!-- &quot;.alias_sampling.had&quot; -->\n",
       "<g id=\"node12\" class=\"node\">\n",
       "<title>&quot;.alias_sampling.had&quot;</title>\n",
       "<path fill=\"none\" stroke=\"#0288f5\" stroke-width=\"2\" d=\"M262.25,-73C262.25,-73 327.5,-73 327.5,-73 333.5,-73 339.5,-79 339.5,-85 339.5,-85 339.5,-97 339.5,-97 339.5,-103 333.5,-109 327.5,-109 327.5,-109 262.25,-109 262.25,-109 256.25,-109 250.25,-103 250.25,-97 250.25,-97 250.25,-85 250.25,-85 250.25,-79 256.25,-73 262.25,-73\"/>\n",
       "<text text-anchor=\"middle\" x=\"262.75\" y=\"-87.1\" font-family=\"Times,serif\" font-size=\"12.00\">in</text>\n",
       "<polyline fill=\"none\" stroke=\"#0288f5\" stroke-width=\"2\" points=\"275.25,-73.75 275.25,-109\"/>\n",
       "<text text-anchor=\"middle\" x=\"291.87\" y=\"-87.1\" font-family=\"Times,serif\" font-size=\"12.00\">had</text>\n",
       "<polyline fill=\"none\" stroke=\"#0288f5\" stroke-width=\"2\" points=\"308.5,-73.75 308.5,-109\"/>\n",
       "<text text-anchor=\"middle\" x=\"324\" y=\"-87.1\" font-family=\"Times,serif\" font-size=\"12.00\">out</text>\n",
       "</g>\n",
       "<!-- &quot;.alias_sampling.In_1&quot;&#45;&gt;&quot;.alias_sampling.had&quot; -->\n",
       "<g id=\"edge2\" class=\"edge\">\n",
       "<title>&quot;.alias_sampling.In_1&quot;&#45;&gt;&quot;.alias_sampling.had&quot;:in</title>\n",
       "<path fill=\"none\" stroke=\"black\" d=\"M57.35,-81.72C92.77,-84.65 169.65,-90.36 237.61,-90.95\"/>\n",
       "<polygon fill=\"black\" stroke=\"black\" points=\"237.34,-94.45 247.36,-90.99 237.38,-87.45 237.34,-94.45\"/>\n",
       "</g>\n",
       "<!-- &quot;.alias_sampling.In_2&quot; -->\n",
       "<g id=\"node3\" class=\"node\">\n",
       "<title>&quot;.alias_sampling.In_2&quot;</title>\n",
       "<ellipse fill=\"none\" stroke=\"#ffa44a\" stroke-width=\"2\" cx=\"36.56\" cy=\"-316\" rx=\"20.56\" ry=\"20.56\"/>\n",
       "<text text-anchor=\"middle\" x=\"36.56\" y=\"-312.12\" font-family=\"Times,serif\" font-size=\"10.00\">In_2</text>\n",
       "</g>\n",
       "<!-- &quot;.alias_sampling.qrom&quot; -->\n",
       "<g id=\"node13\" class=\"node\">\n",
       "<title>&quot;.alias_sampling.qrom&quot;</title>\n",
       "<path fill=\"none\" stroke=\"#0288f5\" stroke-width=\"2\" d=\"M229.62,-203.62C229.62,-203.62 360.12,-203.62 360.12,-203.62 366.12,-203.62 372.12,-209.62 372.12,-215.62 372.12,-215.62 372.12,-258.38 372.12,-258.38 372.12,-264.38 366.12,-270.38 360.12,-270.38 360.12,-270.38 229.62,-270.38 229.62,-270.38 223.62,-270.38 217.62,-264.38 217.62,-258.38 217.62,-258.38 217.62,-215.62 217.62,-215.62 217.62,-209.62 223.62,-203.62 229.62,-203.62\"/>\n",
       "<text text-anchor=\"middle\" x=\"244.75\" y=\"-254.97\" font-family=\"Times,serif\" font-size=\"12.00\">In_alt</text>\n",
       "<polyline fill=\"none\" stroke=\"#0288f5\" stroke-width=\"2\" points=\"217.62,-248.12 271.87,-248.12\"/>\n",
       "<text text-anchor=\"middle\" x=\"244.75\" y=\"-232.72\" font-family=\"Times,serif\" font-size=\"12.00\">In_keep</text>\n",
       "<polyline fill=\"none\" stroke=\"#0288f5\" stroke-width=\"2\" points=\"217.62,-225.88 271.87,-225.88\"/>\n",
       "<text text-anchor=\"middle\" x=\"244.75\" y=\"-210.47\" font-family=\"Times,serif\" font-size=\"12.00\">In_l</text>\n",
       "<polyline fill=\"none\" stroke=\"#0288f5\" stroke-width=\"2\" points=\"271.87,-203.62 271.87,-270.38\"/>\n",
       "<text text-anchor=\"middle\" x=\"292.25\" y=\"-232.72\" font-family=\"Times,serif\" font-size=\"12.00\">qrom</text>\n",
       "<polyline fill=\"none\" stroke=\"#0288f5\" stroke-width=\"2\" points=\"312.62,-203.62 312.62,-270.38\"/>\n",
       "<text text-anchor=\"middle\" x=\"342.37\" y=\"-254.97\" font-family=\"Times,serif\" font-size=\"12.00\">out_alt</text>\n",
       "<polyline fill=\"none\" stroke=\"#0288f5\" stroke-width=\"2\" points=\"312.62,-248.12 372.12,-248.12\"/>\n",
       "<text text-anchor=\"middle\" x=\"342.37\" y=\"-232.72\" font-family=\"Times,serif\" font-size=\"12.00\">out_keep</text>\n",
       "<polyline fill=\"none\" stroke=\"#0288f5\" stroke-width=\"2\" points=\"312.62,-225.88 372.12,-225.88\"/>\n",
       "<text text-anchor=\"middle\" x=\"342.37\" y=\"-210.47\" font-family=\"Times,serif\" font-size=\"12.00\">out_l</text>\n",
       "</g>\n",
       "<!-- &quot;.alias_sampling.In_2&quot;&#45;&gt;&quot;.alias_sampling.qrom&quot; -->\n",
       "<g id=\"edge3\" class=\"edge\">\n",
       "<title>&quot;.alias_sampling.In_2&quot;&#45;&gt;&quot;.alias_sampling.qrom&quot;:In_alt</title>\n",
       "<path fill=\"none\" stroke=\"black\" d=\"M54.87,-306.59C84.41,-291.38 147.1,-262.75 206.24,-259.33\"/>\n",
       "<polygon fill=\"black\" stroke=\"black\" points=\"206.22,-262.84 216.11,-259.04 206.01,-255.84 206.22,-262.84\"/>\n",
       "</g>\n",
       "<!-- &quot;.alias_sampling.In_3&quot; -->\n",
       "<g id=\"node4\" class=\"node\">\n",
       "<title>&quot;.alias_sampling.In_3&quot;</title>\n",
       "<ellipse fill=\"none\" stroke=\"#ffa44a\" stroke-width=\"2\" cx=\"36.56\" cy=\"-257\" rx=\"20.56\" ry=\"20.56\"/>\n",
       "<text text-anchor=\"middle\" x=\"36.56\" y=\"-253.12\" font-family=\"Times,serif\" font-size=\"10.00\">In_3</text>\n",
       "</g>\n",
       "<!-- &quot;.alias_sampling.In_3&quot;&#45;&gt;&quot;.alias_sampling.qrom&quot; -->\n",
       "<g id=\"edge4\" class=\"edge\">\n",
       "<title>&quot;.alias_sampling.In_3&quot;&#45;&gt;&quot;.alias_sampling.qrom&quot;:In_keep</title>\n",
       "<path fill=\"none\" stroke=\"black\" d=\"M57.2,-253.38C88.08,-247.99 150.25,-238.35 206.17,-237.13\"/>\n",
       "<polygon fill=\"black\" stroke=\"black\" points=\"206.15,-240.63 216.11,-237.02 206.07,-233.63 206.15,-240.63\"/>\n",
       "</g>\n",
       "<!-- &quot;.alias_sampling.In_4&quot; -->\n",
       "<g id=\"node5\" class=\"node\">\n",
       "<title>&quot;.alias_sampling.In_4&quot;</title>\n",
       "<ellipse fill=\"none\" stroke=\"#ffa44a\" stroke-width=\"2\" cx=\"36.56\" cy=\"-139\" rx=\"20.56\" ry=\"20.56\"/>\n",
       "<text text-anchor=\"middle\" x=\"36.56\" y=\"-135.12\" font-family=\"Times,serif\" font-size=\"10.00\">In_4</text>\n",
       "</g>\n",
       "<!-- &quot;.alias_sampling.compare&quot; -->\n",
       "<g id=\"node11\" class=\"node\">\n",
       "<title>&quot;.alias_sampling.compare&quot;</title>\n",
       "<path fill=\"none\" stroke=\"#0288f5\" stroke-width=\"2\" d=\"M420.12,-83.62C420.12,-83.62 576.87,-83.62 576.87,-83.62 582.87,-83.62 588.87,-89.62 588.87,-95.62 588.87,-95.62 588.87,-138.38 588.87,-138.38 588.87,-144.38 582.87,-150.38 576.87,-150.38 576.87,-150.38 420.12,-150.38 420.12,-150.38 414.12,-150.38 408.12,-144.38 408.12,-138.38 408.12,-138.38 408.12,-95.62 408.12,-95.62 408.12,-89.62 414.12,-83.62 420.12,-83.62\"/>\n",
       "<text text-anchor=\"middle\" x=\"437.87\" y=\"-134.97\" font-family=\"Times,serif\" font-size=\"12.00\">In_flag</text>\n",
       "<polyline fill=\"none\" stroke=\"#0288f5\" stroke-width=\"2\" points=\"408.12,-128.12 467.62,-128.12\"/>\n",
       "<text text-anchor=\"middle\" x=\"437.87\" y=\"-112.72\" font-family=\"Times,serif\" font-size=\"12.00\">In_keep</text>\n",
       "<polyline fill=\"none\" stroke=\"#0288f5\" stroke-width=\"2\" points=\"408.12,-105.88 467.62,-105.88\"/>\n",
       "<text text-anchor=\"middle\" x=\"437.87\" y=\"-90.47\" font-family=\"Times,serif\" font-size=\"12.00\">In_sigma</text>\n",
       "<polyline fill=\"none\" stroke=\"#0288f5\" stroke-width=\"2\" points=\"467.62,-83.62 467.62,-150.38\"/>\n",
       "<text text-anchor=\"middle\" x=\"495.87\" y=\"-112.72\" font-family=\"Times,serif\" font-size=\"12.00\">compare</text>\n",
       "<polyline fill=\"none\" stroke=\"#0288f5\" stroke-width=\"2\" points=\"524.12,-83.62 524.12,-150.38\"/>\n",
       "<text text-anchor=\"middle\" x=\"556.5\" y=\"-134.97\" font-family=\"Times,serif\" font-size=\"12.00\">out_flag</text>\n",
       "<polyline fill=\"none\" stroke=\"#0288f5\" stroke-width=\"2\" points=\"524.12,-128.12 588.87,-128.12\"/>\n",
       "<text text-anchor=\"middle\" x=\"556.5\" y=\"-112.72\" font-family=\"Times,serif\" font-size=\"12.00\">out_keep</text>\n",
       "<polyline fill=\"none\" stroke=\"#0288f5\" stroke-width=\"2\" points=\"524.12,-105.88 588.87,-105.88\"/>\n",
       "<text text-anchor=\"middle\" x=\"556.5\" y=\"-90.47\" font-family=\"Times,serif\" font-size=\"12.00\">out_sigma</text>\n",
       "</g>\n",
       "<!-- &quot;.alias_sampling.In_4&quot;&#45;&gt;&quot;.alias_sampling.compare&quot; -->\n",
       "<g id=\"edge5\" class=\"edge\">\n",
       "<title>&quot;.alias_sampling.In_4&quot;&#45;&gt;&quot;.alias_sampling.compare&quot;:In_flag</title>\n",
       "<path fill=\"none\" stroke=\"black\" d=\"M57.25,-139C110.97,-139 264.93,-139 396.66,-139\"/>\n",
       "<polygon fill=\"black\" stroke=\"black\" points=\"396.61,-142.5 406.61,-139 396.61,-135.5 396.61,-142.5\"/>\n",
       "</g>\n",
       "<!-- &quot;.alias_sampling.out_0&quot; -->\n",
       "<g id=\"node6\" class=\"node\">\n",
       "<title>&quot;.alias_sampling.out_0&quot;</title>\n",
       "<ellipse fill=\"none\" stroke=\"#ffa44a\" stroke-width=\"2\" cx=\"874.53\" cy=\"-259\" rx=\"23.67\" ry=\"23.67\"/>\n",
       "<text text-anchor=\"middle\" x=\"874.53\" y=\"-255.12\" font-family=\"Times,serif\" font-size=\"10.00\">out_0</text>\n",
       "</g>\n",
       "<!-- &quot;.alias_sampling.temp_0&quot; -->\n",
       "<g id=\"node7\" class=\"node\">\n",
       "<title>&quot;.alias_sampling.temp_0&quot;</title>\n",
       "<ellipse fill=\"none\" stroke=\"#ffa44a\" stroke-width=\"2\" cx=\"874.53\" cy=\"-44\" rx=\"27.66\" ry=\"27.66\"/>\n",
       "<text text-anchor=\"middle\" x=\"874.53\" y=\"-40.12\" font-family=\"Times,serif\" font-size=\"10.00\">temp_0</text>\n",
       "</g>\n",
       "<!-- &quot;.alias_sampling.temp_1&quot; -->\n",
       "<g id=\"node8\" class=\"node\">\n",
       "<title>&quot;.alias_sampling.temp_1&quot;</title>\n",
       "<ellipse fill=\"none\" stroke=\"#ffa44a\" stroke-width=\"2\" cx=\"874.53\" cy=\"-190\" rx=\"27.66\" ry=\"27.66\"/>\n",
       "<text text-anchor=\"middle\" x=\"874.53\" y=\"-186.12\" font-family=\"Times,serif\" font-size=\"10.00\">temp_1</text>\n",
       "</g>\n",
       "<!-- &quot;.alias_sampling.temp_2&quot; -->\n",
       "<g id=\"node9\" class=\"node\">\n",
       "<title>&quot;.alias_sampling.temp_2&quot;</title>\n",
       "<ellipse fill=\"none\" stroke=\"#ffa44a\" stroke-width=\"2\" cx=\"874.53\" cy=\"-117\" rx=\"27.66\" ry=\"27.66\"/>\n",
       "<text text-anchor=\"middle\" x=\"874.53\" y=\"-113.12\" font-family=\"Times,serif\" font-size=\"10.00\">temp_2</text>\n",
       "</g>\n",
       "<!-- &quot;.alias_sampling.temp_3&quot; -->\n",
       "<g id=\"node10\" class=\"node\">\n",
       "<title>&quot;.alias_sampling.temp_3&quot;</title>\n",
       "<ellipse fill=\"none\" stroke=\"#ffa44a\" stroke-width=\"2\" cx=\"874.53\" cy=\"-328\" rx=\"27.66\" ry=\"27.66\"/>\n",
       "<text text-anchor=\"middle\" x=\"874.53\" y=\"-324.12\" font-family=\"Times,serif\" font-size=\"10.00\">temp_3</text>\n",
       "</g>\n",
       "<!-- &quot;.alias_sampling.compare&quot;&#45;&gt;&quot;.alias_sampling.temp_0&quot; -->\n",
       "<g id=\"edge8\" class=\"edge\">\n",
       "<title>&quot;.alias_sampling.compare&quot;:out_sigma&#45;&gt;&quot;.alias_sampling.temp_0&quot;</title>\n",
       "<path fill=\"none\" stroke=\"black\" d=\"M588.87,-95C678.92,-95 782.5,-69.97 836.47,-54.98\"/>\n",
       "<polygon fill=\"black\" stroke=\"black\" points=\"837.39,-58.36 846.06,-52.27 835.49,-51.62 837.39,-58.36\"/>\n",
       "</g>\n",
       "<!-- &quot;.alias_sampling.compare&quot;&#45;&gt;&quot;.alias_sampling.temp_2&quot; -->\n",
       "<g id=\"edge7\" class=\"edge\">\n",
       "<title>&quot;.alias_sampling.compare&quot;:out_keep&#45;&gt;&quot;.alias_sampling.temp_2&quot;</title>\n",
       "<path fill=\"none\" stroke=\"black\" d=\"M588.87,-117C677.04,-117 780.58,-117 835.24,-117\"/>\n",
       "<polygon fill=\"black\" stroke=\"black\" points=\"834.94,-120.5 844.94,-117 834.94,-113.5 834.94,-120.5\"/>\n",
       "</g>\n",
       "<!-- &quot;.alias_sampling.swap&quot; -->\n",
       "<g id=\"node14\" class=\"node\">\n",
       "<title>&quot;.alias_sampling.swap&quot;</title>\n",
       "<path fill=\"none\" stroke=\"#0288f5\" stroke-width=\"2\" d=\"M636.87,-201.62C636.87,-201.62 798.87,-201.62 798.87,-201.62 804.87,-201.62 810.87,-207.62 810.87,-213.62 810.87,-213.62 810.87,-256.38 810.87,-256.38 810.87,-262.38 804.87,-268.38 798.87,-268.38 798.87,-268.38 636.87,-268.38 636.87,-268.38 630.87,-268.38 624.87,-262.38 624.87,-256.38 624.87,-256.38 624.87,-213.62 624.87,-213.62 624.87,-207.62 630.87,-201.62 636.87,-201.62\"/>\n",
       "<text text-anchor=\"middle\" x=\"659.87\" y=\"-252.97\" font-family=\"Times,serif\" font-size=\"12.00\">In_control</text>\n",
       "<polyline fill=\"none\" stroke=\"#0288f5\" stroke-width=\"2\" points=\"624.87,-246.12 694.87,-246.12\"/>\n",
       "<text text-anchor=\"middle\" x=\"659.87\" y=\"-230.72\" font-family=\"Times,serif\" font-size=\"12.00\">In_target_0</text>\n",
       "<polyline fill=\"none\" stroke=\"#0288f5\" stroke-width=\"2\" points=\"624.87,-223.88 694.87,-223.88\"/>\n",
       "<text text-anchor=\"middle\" x=\"659.87\" y=\"-208.47\" font-family=\"Times,serif\" font-size=\"12.00\">In_target_1</text>\n",
       "<polyline fill=\"none\" stroke=\"#0288f5\" stroke-width=\"2\" points=\"694.87,-201.62 694.87,-268.38\"/>\n",
       "<text text-anchor=\"middle\" x=\"715.25\" y=\"-230.72\" font-family=\"Times,serif\" font-size=\"12.00\">swap</text>\n",
       "<polyline fill=\"none\" stroke=\"#0288f5\" stroke-width=\"2\" points=\"735.62,-201.62 735.62,-268.38\"/>\n",
       "<text text-anchor=\"middle\" x=\"773.25\" y=\"-252.97\" font-family=\"Times,serif\" font-size=\"12.00\">out_control</text>\n",
       "<polyline fill=\"none\" stroke=\"#0288f5\" stroke-width=\"2\" points=\"735.62,-246.12 810.87,-246.12\"/>\n",
       "<text text-anchor=\"middle\" x=\"773.25\" y=\"-230.72\" font-family=\"Times,serif\" font-size=\"12.00\">out_target_0</text>\n",
       "<polyline fill=\"none\" stroke=\"#0288f5\" stroke-width=\"2\" points=\"735.62,-223.88 810.87,-223.88\"/>\n",
       "<text text-anchor=\"middle\" x=\"773.25\" y=\"-208.47\" font-family=\"Times,serif\" font-size=\"12.00\">out_target_1</text>\n",
       "</g>\n",
       "<!-- &quot;.alias_sampling.compare&quot;&#45;&gt;&quot;.alias_sampling.swap&quot; -->\n",
       "<g id=\"edge6\" class=\"edge\">\n",
       "<title>&quot;.alias_sampling.compare&quot;:out_flag&#45;&gt;&quot;.alias_sampling.swap&quot;:In_control</title>\n",
       "<path fill=\"none\" stroke=\"black\" d=\"M588.87,-139C639.21,-139 581.26,-238.43 613.83,-254.75\"/>\n",
       "<polygon fill=\"black\" stroke=\"black\" points=\"612.89,-258.13 623.39,-256.7 614.29,-251.27 612.89,-258.13\"/>\n",
       "</g>\n",
       "<!-- &quot;.alias_sampling.had&quot;&#45;&gt;&quot;.alias_sampling.compare&quot; -->\n",
       "<g id=\"edge9\" class=\"edge\">\n",
       "<title>&quot;.alias_sampling.had&quot;:out&#45;&gt;&quot;.alias_sampling.compare&quot;:In_sigma</title>\n",
       "<path fill=\"none\" stroke=\"black\" d=\"M340.87,-91C366.6,-91 375.66,-93.95 396.7,-94.78\"/>\n",
       "<polygon fill=\"black\" stroke=\"black\" points=\"396.55,-98.28 406.61,-94.97 396.68,-91.28 396.55,-98.28\"/>\n",
       "</g>\n",
       "<!-- &quot;.alias_sampling.qrom&quot;&#45;&gt;&quot;.alias_sampling.compare&quot; -->\n",
       "<g id=\"edge11\" class=\"edge\">\n",
       "<title>&quot;.alias_sampling.qrom&quot;:out_keep&#45;&gt;&quot;.alias_sampling.compare&quot;:In_keep</title>\n",
       "<path fill=\"none\" stroke=\"black\" d=\"M372.12,-237C423.24,-237 363.92,-135.88 396.92,-119.29\"/>\n",
       "<polygon fill=\"black\" stroke=\"black\" points=\"397.54,-122.74 406.64,-117.3 396.14,-115.88 397.54,-122.74\"/>\n",
       "</g>\n",
       "<!-- &quot;.alias_sampling.qrom&quot;&#45;&gt;&quot;.alias_sampling.swap&quot; -->\n",
       "<g id=\"edge10\" class=\"edge\">\n",
       "<title>&quot;.alias_sampling.qrom&quot;:out_alt&#45;&gt;&quot;.alias_sampling.swap&quot;:In_target_1</title>\n",
       "<path fill=\"none\" stroke=\"black\" d=\"M372.12,-259C392.67,-259 389.03,-237.59 408.12,-230 494.33,-195.75 525.72,-211.59 613.58,-212.91\"/>\n",
       "<polygon fill=\"black\" stroke=\"black\" points=\"613.33,-216.41 623.36,-212.99 613.39,-209.41 613.33,-216.41\"/>\n",
       "</g>\n",
       "<!-- &quot;.alias_sampling.qrom&quot;&#45;&gt;&quot;.alias_sampling.swap&quot; -->\n",
       "<g id=\"edge12\" class=\"edge\">\n",
       "<title>&quot;.alias_sampling.qrom&quot;:out_l&#45;&gt;&quot;.alias_sampling.swap&quot;:In_target_0</title>\n",
       "<path fill=\"none\" stroke=\"black\" d=\"M372.12,-215C388.62,-215 391.81,-221.57 408.12,-224 499.71,-237.64 526.31,-235.23 613.62,-235.01\"/>\n",
       "<polygon fill=\"black\" stroke=\"black\" points=\"613.36,-238.51 623.36,-235 613.35,-231.51 613.36,-238.51\"/>\n",
       "</g>\n",
       "<!-- &quot;.alias_sampling.swap&quot;&#45;&gt;&quot;.alias_sampling.out_0&quot; -->\n",
       "<g id=\"edge14\" class=\"edge\">\n",
       "<title>&quot;.alias_sampling.swap&quot;:out_target_0&#45;&gt;&quot;.alias_sampling.out_0&quot;</title>\n",
       "<path fill=\"none\" stroke=\"black\" d=\"M810.87,-235C821.91,-235 833.36,-238.29 843.4,-242.43\"/>\n",
       "<polygon fill=\"black\" stroke=\"black\" points=\"841.74,-245.52 852.29,-246.51 844.66,-239.15 841.74,-245.52\"/>\n",
       "</g>\n",
       "<!-- &quot;.alias_sampling.swap&quot;&#45;&gt;&quot;.alias_sampling.temp_1&quot; -->\n",
       "<g id=\"edge15\" class=\"edge\">\n",
       "<title>&quot;.alias_sampling.swap&quot;:out_target_1&#45;&gt;&quot;.alias_sampling.temp_1&quot;</title>\n",
       "<path fill=\"none\" stroke=\"black\" d=\"M810.87,-213C820.43,-213 830.33,-210.61 839.37,-207.38\"/>\n",
       "<polygon fill=\"black\" stroke=\"black\" points=\"840.52,-210.69 848.47,-203.68 837.89,-204.2 840.52,-210.69\"/>\n",
       "</g>\n",
       "<!-- &quot;.alias_sampling.swap&quot;&#45;&gt;&quot;.alias_sampling.temp_3&quot; -->\n",
       "<g id=\"edge13\" class=\"edge\">\n",
       "<title>&quot;.alias_sampling.swap&quot;:out_control&#45;&gt;&quot;.alias_sampling.temp_3&quot;</title>\n",
       "<path fill=\"none\" stroke=\"black\" d=\"M810.87,-257C816.62,-257 834.79,-278.19 850.09,-297.42\"/>\n",
       "<polygon fill=\"black\" stroke=\"black\" points=\"847.22,-299.42 856.15,-305.12 852.72,-295.1 847.22,-299.42\"/>\n",
       "</g>\n",
       "<!-- &quot;.alias_sampling.usp&quot;&#45;&gt;&quot;.alias_sampling.qrom&quot; -->\n",
       "<g id=\"edge16\" class=\"edge\">\n",
       "<title>&quot;.alias_sampling.usp&quot;:out&#45;&gt;&quot;.alias_sampling.qrom&quot;:In_l</title>\n",
       "<path fill=\"none\" stroke=\"black\" d=\"M181.62,-208C193.34,-208 198.39,-211.62 206.36,-213.65\"/>\n",
       "<polygon fill=\"black\" stroke=\"black\" points=\"205.77,-217.11 216.12,-214.82 206.61,-210.16 205.77,-217.11\"/>\n",
       "</g>\n",
       "</g>\n",
       "</svg>\n"
      ],
      "text/plain": [
       "<graphviz.graphs.Digraph at 0x1042a8a90>"
      ]
     },
     "execution_count": 8,
     "metadata": {},
     "output_type": "execute_result"
    }
   ],
   "source": [
    "from qref.experimental.rendering import to_graphviz\n",
    "\n",
    "# Convert the qref format to Graphviz object\n",
    "gv_object = to_graphviz(uncompiled_routine)\n",
    "\n",
    "# Render the Graphviz object to a PNG file\n",
    "gv_object.render(\"alias_sampling\", format=\"png\")\n",
    "gv_object"
   ]
  },
  {
   "cell_type": "markdown",
   "id": "2ee860fa5c451aad",
   "metadata": {},
   "source": [
    "As we expected, the diagram displays five subroutines which are `usp`, `qrom`, `compare`, `had`, `swap`, and their hierarchical connections. Everything appears to be in order! Let's proceed with the compilation.\n"
   ]
  },
  {
   "cell_type": "code",
   "execution_count": 9,
   "id": "d20ef4d2-9420-4090-a402-ee5f27034524",
   "metadata": {
    "ExecuteTime": {
     "end_time": "2024-07-26T15:27:21.484510Z",
     "start_time": "2024-07-26T15:27:21.317674Z"
    }
   },
   "outputs": [],
   "source": [
    "from bartiq import compile_routine\n",
    "\n",
    "compiled_routine = compile_routine(uncompiled_routine).routine"
   ]
  },
  {
   "cell_type": "markdown",
   "id": "83fa9feb-7ab4-4bd8-81eb-6fbc76aeea81",
   "metadata": {},
   "source": [
    "It went pretty well, let's see what's the we got:"
   ]
  },
  {
   "cell_type": "code",
   "execution_count": 10,
   "id": "dad8df1e-9570-46c5-a422-4f29bba4d52c",
   "metadata": {
    "ExecuteTime": {
     "end_time": "2024-07-26T15:27:21.503039Z",
     "start_time": "2024-07-26T15:27:21.494436Z"
    }
   },
   "outputs": [
    {
     "name": "stdout",
     "output_type": "stream",
     "text": [
      "T_gates: 4*L + 4*mu + O(log2(L)) + 8*ceiling(log2(L/2**multiplicity(2, L))) - 16\n",
      "rotations: 2\n"
     ]
    }
   ],
   "source": [
    "for resource in compiled_routine.resources.values():\n",
    "    print(f\"{resource.name}: {resource.value}\")"
   ]
  },
  {
   "cell_type": "markdown",
   "id": "a9b6d152-8643-4d4b-a0b7-64d8a0d4e5aa",
   "metadata": {},
   "source": [
    "In the caption of Fig. 11 we had: $4(L + \\mu) + O(\\log_2(L))$, and these two expressions actually match pretty well.\n",
    "\n",
    "- We have the $4(L + \\mu)$ as well as $O(log_2(L))$ in both versions. \n",
    "- The `8*ceiling(log2(L/2 ^ multiplicity(2, L)))` term is also $O(log_2(L))$ in disguise.\n",
    "- Constant factor of `-16` can also be incorporated in `O(log_2(L))`\n",
    "\n",
    "\n",
    "\n",
    "Let's see how it looks like for some concrete values:"
   ]
  },
  {
   "cell_type": "code",
   "execution_count": 11,
   "id": "becb2091-9faf-4364-ac22-f10240072937",
   "metadata": {
    "ExecuteTime": {
     "end_time": "2024-07-26T15:27:21.649428Z",
     "start_time": "2024-07-26T15:27:21.510294Z"
    }
   },
   "outputs": [
    {
     "name": "stdout",
     "output_type": "stream",
     "text": [
      "T_gates: O(log2(120)) + 528\n",
      "rotations: 2\n"
     ]
    }
   ],
   "source": [
    "from bartiq import evaluate\n",
    "\n",
    "assignments = {\"L\":120, \"mu\":8}\n",
    "evaluated_routine = evaluate(compiled_routine, assignments).routine\n",
    "for resource in evaluated_routine.resources.values():\n",
    "    print(f\"{resource.name}: {resource.value}\")"
   ]
  },
  {
   "cell_type": "markdown",
   "id": "e090cce2-8b9f-449f-8c14-96212cbe7f85",
   "metadata": {},
   "source": [
    "We still have big O there, so we can't get a concrete number. So let's assume a simple case, i.e. `O(x) = ceiling(x)`.\n",
    "We'll provide information how to evaluate it in `bartiq` using `functions_map` argument."
   ]
  },
  {
   "cell_type": "code",
   "execution_count": 12,
   "id": "2909fb37-6a15-44fc-a80f-46e562220fcb",
   "metadata": {
    "ExecuteTime": {
     "end_time": "2024-07-26T15:27:22.140188Z",
     "start_time": "2024-07-26T15:27:21.752893Z"
    }
   },
   "outputs": [
    {
     "name": "stdout",
     "output_type": "stream",
     "text": [
      "T_gates: 535\n",
      "rotations: 2\n"
     ]
    }
   ],
   "source": [
    "import math\n",
    "\n",
    "def big_O(x):\n",
    "    return math.ceil(x)\n",
    "\n",
    "functions_map = {\"O\": big_O}\n",
    "evaluation_result = evaluate(compiled_routine, assignments, functions_map=functions_map)\n",
    "qref_routine = evaluation_result.to_qref()\n",
    "for resource in evaluation_result.routine.resources.values():\n",
    "    print(f\"{resource.name}: {resource.value}\")"
   ]
  },
  {
   "cell_type": "markdown",
   "id": "803928c9-5d0a-46b9-8d08-9a281a735520",
   "metadata": {},
   "source": [
    "And now we finally have some concrete numbers!"
   ]
  },
  {
   "cell_type": "markdown",
   "id": "33ef184a-f3a5-4c8f-8f9d-423b5d506556",
   "metadata": {},
   "source": [
    "## Exploring the estimates\n",
    "\n",
    "If we just interact with bare python objects, getting a quick idea of the values of various fields might be a bit cumbersome.\n",
    "That's where `explore_routine` functions might be helpful. Try it out using the snippet below.\n",
    "\n",
    "\n",
    "<div class=\"alert alert-block alert-info admonition note\"> <p class=\"admonition-title\"><b>NOTE:</b></p>\n",
    "This is an interactive feature and will not render in the static version of the docs. To use it you need to run this tutorial as a jupyter notebook. <br>\n",
    "Remember to install bartiq with <code>pip install bartiq[jupyter]</code> to make sure you have all the dependencies needed for these widgets to work (for more details visit <a href=\"https://psiq.github.io/bartiq/latest/installation/\">installation docs</a>).\n",
    "</div>\n"
   ]
  },
  {
   "cell_type": "code",
   "execution_count": 13,
   "id": "1a346534-4f97-4855-8262-2c5df824eb27",
   "metadata": {
    "ExecuteTime": {
     "end_time": "2024-07-26T15:27:22.391842Z",
     "start_time": "2024-07-26T15:27:22.147853Z"
    }
   },
   "outputs": [
    {
     "data": {
      "application/vnd.jupyter.widget-view+json": {
       "model_id": "c948e5235cbc4d7795c080fde50b15ad",
       "version_major": 2,
       "version_minor": 0
      },
      "text/plain": [
       "HBox(children=(_RoutineTree(multiple_selection=False, nodes=(Node(name='alias_sampling', nodes=(Node(name='com…"
      ]
     },
     "execution_count": 13,
     "metadata": {},
     "output_type": "execute_result"
    }
   ],
   "source": [
    "from bartiq.integrations import explore_routine\n",
    "\n",
    "explore_routine(qref_routine)"
   ]
  },
  {
   "cell_type": "markdown",
   "id": "c35b2019-aa78-478b-b320-f6515b9b6276",
   "metadata": {},
   "source": [
    "If you'd prefer a static representation, you can also simply export routine to latex, though it only shows information about the top-level routine:"
   ]
  },
  {
   "cell_type": "code",
   "execution_count": 14,
   "id": "a925abe0-9026-4079-9c5a-8ef5e087a551",
   "metadata": {
    "ExecuteTime": {
     "end_time": "2024-07-26T15:27:22.511250Z",
     "start_time": "2024-07-26T15:27:22.410021Z"
    }
   },
   "outputs": [
    {
     "data": {
      "text/latex": [
       "$\\displaystyle \\begin{align}\n",
       "&\\text{RoutineV1 \\textrm{(alias\\_sampling)}}\\newline\n",
       "&\\underline{\\text{Input ports:}}\\\\\n",
       "&\\text{In\\_0} = 7\\\\\n",
       "&\\text{In\\_1} = 8\\\\\n",
       "&\\text{In\\_2} = 7\\\\\n",
       "&\\text{In\\_3} = 8\\\\\n",
       "&\\text{In\\_4} = 1\\newline\n",
       "&\\underline{\\text{Output ports:}}\\\\\n",
       "&\\text{out\\_0} = 7\\\\\n",
       "&\\text{temp\\_0} = 8\\\\\n",
       "&\\text{temp\\_1} = 7\\\\\n",
       "&\\text{temp\\_2} = 8\\\\\n",
       "&\\text{temp\\_3} = 1\\newline\n",
       "&\\underline{\\text{Resources:}}\\\\\n",
       "&T_{\\text{gates}} = 535\\\\\n",
       "&rotations = 2\\\\\n",
       "&\\text{compare}.\\!T_{\\text{gates}} = 28\\\\\n",
       "&\\text{qrom}.\\!T_{\\text{gates}} = 476\\\\\n",
       "&\\text{swap}.\\!T_{\\text{gates}} = 7\\\\\n",
       "&\\text{usp}.\\!T_{\\text{gates}} = 24\\\\\n",
       "&\\text{usp}.\\!rotations = 2\n",
       "\\end{align}$"
      ],
      "text/plain": [
       "<IPython.core.display.Math object>"
      ]
     },
     "execution_count": 14,
     "metadata": {},
     "output_type": "execute_result"
    }
   ],
   "source": [
    "from bartiq.integrations import routine_to_latex\n",
    "from IPython.display import Math\n",
    "\n",
    "Math(routine_to_latex(qref_routine))"
   ]
  },
  {
   "cell_type": "markdown",
   "id": "3756e437-22fe-47b4-8fc3-009785d2ea8d",
   "metadata": {},
   "source": [
    "## Summary\n",
    "Let's sum up what we covered in this tutorial:\n",
    "\n",
    "- How to take an algorithm from a paper and compile it into `bartiq`\n",
    "- How to create a routine with multiple resources, `local_variables` and custom functions\n",
    "- How to use `explore_routine` and latex integration to get most out of `bartiq`"
   ]
  },
  {
   "cell_type": "code",
   "execution_count": null,
   "id": "87ebbfa3-4698-4b8f-a9e7-304a2087594f",
   "metadata": {},
   "outputs": [],
   "source": []
  }
 ],
 "metadata": {
  "kernelspec": {
   "display_name": "Python 3 (ipykernel)",
   "language": "python",
   "name": "python3"
  },
  "language_info": {
   "codemirror_mode": {
    "name": "ipython",
    "version": 3
   },
   "file_extension": ".py",
   "mimetype": "text/x-python",
   "name": "python",
   "nbconvert_exporter": "python",
   "pygments_lexer": "ipython3",
   "version": "3.10.14"
  }
 },
 "nbformat": 4,
 "nbformat_minor": 5
}
