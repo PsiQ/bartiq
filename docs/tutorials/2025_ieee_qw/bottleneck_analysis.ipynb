{
 "cells": [
  {
   "cell_type": "markdown",
   "id": "fd935148",
   "metadata": {},
   "source": [
    "# Bottleneck analysis\n",
    "\n",
    "When analyzing the resource estimates of a given quantum program, `bartiq` allows us to identify how these values are being constructed. The recursive, tree-like structure of `bartiq` `Routines` means that finding _algorithmic bottlenecks_ is straightforward. An algorithmic bottleneck refers to a particular subroutine that, perhaps unexpectedly, demands a significant portion of our total resource budget. \n",
    "\n",
    "This type of anaylsis allows us to target scientific research onto particularly costly subroutines. By highlighting where our logical resource budget is being spent, we may be able to improve our algorithms further.\n",
    "\n",
    "Bottleneck analysis is easiest with numeric routines, as comparing symbolic expressions can be tricky. Here, we load in the Double Factorization routine and evaluate it for a given physical system.\n"
   ]
  },
  {
   "cell_type": "code",
   "execution_count": 1,
   "id": "a3500975",
   "metadata": {},
   "outputs": [],
   "source": [
    "from bartiq import CompiledRoutine, sympy_backend, evaluate\n",
    "import yaml\n",
    "\n",
    "with open(\"./double_factorization_compiled.yaml\", \"r\") as f:\n",
    "    compiled_routine = CompiledRoutine.from_qref(yaml.safe_load(f), sympy_backend)\n",
    "\n",
    "assignments = {\n",
    "    \"N_spatial\": 35,\n",
    "    \"M_r\": 7590 // 298,\n",
    "    \"R\": 298,\n",
    "    \"b_as\": 10,\n",
    "    \"b_mas\": 10,\n",
    "    \"b_givens\": 20,\n",
    "    \"lambda\": 4,\n",
    "}\n",
    "df = evaluate(compiled_routine, assignments=assignments).routine"
   ]
  },
  {
   "cell_type": "markdown",
   "id": "87fc57e7",
   "metadata": {},
   "source": [
    "We can see the exact resource estimates when we call `.resource_values`:"
   ]
  },
  {
   "cell_type": "code",
   "execution_count": 2,
   "id": "f258a6e7",
   "metadata": {},
   "outputs": [
    {
     "data": {
      "text/plain": [
       "{'active_volume': 9216517.5,\n",
       " 'gidney_lelbows': 18320,\n",
       " 'gidney_relbows': 18320,\n",
       " 'measurements': 5788,\n",
       " 'ppms': 0,\n",
       " 'pprs': 272,\n",
       " 'qubit_highwater': 2937,\n",
       " 'rotations': 21,\n",
       " 't_gates': 217,\n",
       " 'toffs': 7263}"
      ]
     },
     "execution_count": 2,
     "metadata": {},
     "output_type": "execute_result"
    }
   ],
   "source": [
    "df.resource_values"
   ]
  },
  {
   "cell_type": "markdown",
   "id": "8d238957",
   "metadata": {},
   "source": [
    "For this exercise we'll look at the **active volume** resource --- [PsiQuantum's metric](https://arxiv.org/abs/2211.15465) for quantifying the logical cost of a quantum program. Which subroutine(s) are contributing the  most active volume?\n",
    "\n",
    "The following snippet traverses the `.children` property of `df`, our `CompiledRoutine`, and returns a list of tuples: the name of the subroutine (or `child`) and its individual active volume contribution."
   ]
  },
  {
   "cell_type": "code",
   "execution_count": 3,
   "id": "3f6de8f2",
   "metadata": {},
   "outputs": [
    {
     "data": {
      "text/plain": [
       "{'RotationCatalystStatePrep_compute_0': 23842.5,\n",
       " 'LCU_compute_0': 9191893,\n",
       " 'z_0': 782}"
      ]
     },
     "execution_count": 3,
     "metadata": {},
     "output_type": "execute_result"
    }
   ],
   "source": [
    "{\n",
    "    child_name: av\n",
    "    for child_name, child_routine in df.children.items()\n",
    "    if (av := child_routine.resource_values.get(\"active_volume\", None))\n",
    "}"
   ]
  },
  {
   "cell_type": "markdown",
   "id": "e2b2a80e",
   "metadata": {},
   "source": [
    "`LCU_compute_0` ('LCU' referring to the process of [linear combination of unitaries](https://pennylane.ai/qml/demos/tutorial_lcu_blockencoding)) is far and away the dominant contribution of active volume _at this level_. Because quantum algorithms are defined recursively (i.e. nested circuit operations), by running the same snippet on the `LCU_compute_0` `CompiledRoutine` object, we would get a more fine-grained view of the resource contributions.\n",
    "\n",
    "Below is a helper function that accepts in a compiled routine object, and an optional resource name, and returns the contributions of the child routines."
   ]
  },
  {
   "cell_type": "code",
   "execution_count": 4,
   "id": "a072cd23",
   "metadata": {},
   "outputs": [],
   "source": [
    "def child_contributions_to_parent_resource(\n",
    "    routine: CompiledRoutine, resource: str = \"active_volume\"\n",
    ") -> dict[str, int | float]:\n",
    "    \"\"\"For a given routine and resource, return the resource cost of its children.\n",
    "\n",
    "    Parameters\n",
    "    ----------\n",
    "    routine: CompiledRoutine\n",
    "        A bartiq CompiledRoutine object.\n",
    "    resource: str\n",
    "        Which resource to investigate, by default 'active_volume'. Any children that do not have this resource\n",
    "        are not included in the output.\n",
    "\n",
    "    Returns\n",
    "    -------\n",
    "    dict[str, int | float]\n",
    "        A dictionary of children names and their individual resource costs.\n",
    "    \"\"\"\n",
    "    return {\n",
    "        child_name: resource_value\n",
    "        for child_name, child_routine in routine.children.items()\n",
    "        if (resource_value := child_routine.resource_values.get(resource, None))\n",
    "    }"
   ]
  },
  {
   "cell_type": "markdown",
   "id": "3c6a010b",
   "metadata": {},
   "source": [
    "## Exercise"
   ]
  },
  {
   "cell_type": "markdown",
   "id": "a37e326d",
   "metadata": {},
   "source": [
    "Write a script that recursively finds the most expensive subroutine, and the pathway there. \n",
    "\n",
    "Find the pathway to the _second_ absolute most expensive subroutine (this is deceptively tricky)."
   ]
  }
 ],
 "metadata": {
  "kernelspec": {
   "display_name": "Python 3 (ipykernel)",
   "language": "python",
   "name": "python3"
  },
  "language_info": {
   "codemirror_mode": {
    "name": "ipython",
    "version": 3
   },
   "file_extension": ".py",
   "mimetype": "text/x-python",
   "name": "python",
   "nbconvert_exporter": "python",
   "pygments_lexer": "ipython3",
   "version": "3.10.13"
  }
 },
 "nbformat": 4,
 "nbformat_minor": 5
}
