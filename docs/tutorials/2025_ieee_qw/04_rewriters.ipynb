{
 "cells": [
  {
   "cell_type": "markdown",
   "id": "5064d703",
   "metadata": {},
   "source": [
    "# Rewriting Symbolic Expressions in Bartiq\n",
    "\n",
    "As quantum algorithms increase in complexity their symbolic resource expressions similarly become more complex. For a state of the art algorithm like double factorization the resource expressions can be almost impossible to parse, due to the sheer number of terms and symbols.\n",
    "\n",
    "`bartiq` includes a set of utilities for manipulating symbolic expressions – rewriting them to make them simpler and easier to analyze. They're known as **rewriters**. This functionality is contained in the analysis submodule, and backend-specific rewriters can be imported directly."
   ]
  },
  {
   "cell_type": "code",
   "execution_count": null,
   "id": "f97c79f2",
   "metadata": {},
   "outputs": [],
   "source": [
    "from bartiq.analysis import sympy_rewriter"
   ]
  },
  {
   "cell_type": "markdown",
   "id": "72d7fd3e",
   "metadata": {},
   "source": [
    "Below, we load up our double factorization compiled routine. Note we aren't assigning any values to our variables, so this will have **symbolic resource expressions**."
   ]
  },
  {
   "cell_type": "code",
   "execution_count": null,
   "id": "6eef2961",
   "metadata": {},
   "outputs": [],
   "source": [
    "from bartiq import CompiledRoutine, sympy_backend\n",
    "import yaml\n",
    "\n",
    "with open(\"./double_factorization_compiled.yaml\") as f:\n",
    "    df_symbolic = CompiledRoutine.from_qref(yaml.safe_load(f), sympy_backend)"
   ]
  },
  {
   "cell_type": "markdown",
   "id": "d931b7d3",
   "metadata": {},
   "source": [
    "To see all the resource costs for double factorization we can call the `resource_values` property, but since these expressions are particularly nasty we won't for now. \n",
    "\n",
    "As an example, consider arbitrary angle rotations on logical qubits. To implement these fault tolerantly they must be decomposed into a sequence of fixed-angle gates, and often these decompositions contain many $T$-gates. As such the number of rotations in an algorithm may be a value we seek to minimize, or optimize.\n",
    "\n",
    "To see how many arbitrary angle rotations we need to synthesize for double factorization, we can easily get the expression:"
   ]
  },
  {
   "cell_type": "code",
   "execution_count": null,
   "id": "e8ef9084",
   "metadata": {},
   "outputs": [],
   "source": [
    "df_symbolic.resource_values[\"rotations\"]"
   ]
  },
  {
   "cell_type": "markdown",
   "id": "7b6f4d29",
   "metadata": {},
   "source": [
    "But, it is not easily understood! For a summary of the symbols in this expression, check out the `02_algorithmic_intro` notebook! \n",
    "\n",
    "With rewriters we can apply assumptions and make substitutions, hopefully tidying up this expression in the process.\n",
    "\n",
    "To get started, we load the expression into the rewriter object:"
   ]
  },
  {
   "cell_type": "code",
   "execution_count": null,
   "id": "a5ec4dad",
   "metadata": {},
   "outputs": [],
   "source": [
    "rotations = sympy_rewriter(df_symbolic.resource_values[\"rotations\"])\n",
    "rotations"
   ]
  },
  {
   "cell_type": "markdown",
   "id": "6c48966e",
   "metadata": {},
   "source": [
    "The `rewriter` variable here is actually a `dataclass`, and in an interactive environment it displays a `KaTeX`-friendly expression so we can see the effect of method calls immediately."
   ]
  },
  {
   "cell_type": "markdown",
   "id": "faf57c4b",
   "metadata": {},
   "source": [
    "## Substitutions"
   ]
  },
  {
   "cell_type": "markdown",
   "id": "dda1e137",
   "metadata": {},
   "source": [
    "Rewriters support arbitrary substitutions of symbols or expressions, for example:"
   ]
  },
  {
   "cell_type": "code",
   "execution_count": null,
   "id": "bb5f758d",
   "metadata": {},
   "outputs": [],
   "source": [
    "# Here is an example of how to use the `substitute` method.\n",
    "rotations.substitute(\"N_spatial - 1\", \"X\")"
   ]
  },
  {
   "cell_type": "markdown",
   "id": "358d4e95",
   "metadata": {},
   "source": [
    "All occurrences of $N_{spatial} - 1$ have been replaced with a new variable, $X$! Note that this change is **not permanent** as we didn't override the `rotations` variable.\n",
    "\n",
    "Notice that the term $\\max(b_{as}, b_{givens}, b_{mas})$ occurs a number of times in the `rotations` expression. \n",
    "\n",
    "One simplification we can make is to define a new variable: $$B:=\\max(b_{as}, b_{givens}, b_{mas}).$$ \n",
    "\n",
    "In the next cell, use the `.substitute` method to update the `rotations` variable with this change."
   ]
  },
  {
   "cell_type": "code",
   "execution_count": null,
   "id": "635caa1d",
   "metadata": {},
   "outputs": [],
   "source": [
    "# Edit the line below to make the substitution!\n",
    "rotations = rotations.substitute(\"max(b_as, b_givens, b_mas)\", \"B\")\n",
    "rotations"
   ]
  },
  {
   "cell_type": "markdown",
   "id": "70f8053e",
   "metadata": {},
   "source": [
    "## Assumptions"
   ]
  },
  {
   "cell_type": "markdown",
   "id": "6c8bc467",
   "metadata": {},
   "source": [
    "We know that each of the $b_{x}$ variables are non-zero and positive, and as these are _bits of precision_ they typically take values between 7 and 15. For simplicity we will say each of these is simply greater than 5, and straightaway we can apply that information with the `assume` method:"
   ]
  },
  {
   "cell_type": "code",
   "execution_count": null,
   "id": "ba0a6cf5",
   "metadata": {},
   "outputs": [],
   "source": [
    "rotations = rotations.assume(\"b_as > 5\").assume(\"b_mas > 5\").assume(\"b_givens > 5\")\n",
    "rotations"
   ]
  },
  {
   "cell_type": "markdown",
   "id": "a38cffe0",
   "metadata": {},
   "source": [
    "We also have to provide an assumption on our `B` symbol - assumptions are not inherited across linked symbols!\n",
    "\n",
    "In the cell below, add a new assumption: $B>5$."
   ]
  },
  {
   "cell_type": "code",
   "execution_count": null,
   "id": "628d6d09",
   "metadata": {},
   "outputs": [],
   "source": [
    "# Edit the line below to add your assumption!\n",
    "rotations = rotations.assume(\"B>5\")\n",
    "rotations"
   ]
  },
  {
   "cell_type": "markdown",
   "id": "d3ea7c89",
   "metadata": {},
   "source": [
    "Since $B$ is the maximum of $b_{as}$, $b_{mas}$ and $b_{givens}$, we can get rid of the `max(0, -B + b_mas)`  and `max(0, -B + b_givens)` terms with more assumptions.\n",
    "\n",
    "Note that the assumptions are **not** `b_mas <= B` or `b_givens <= B` - defining a relationship between two symbols is not possible in SymPy! For a more complete explanation as to _why_ this is not possible, please see the Rewriter [summary page](../../concepts/rewriters.md#assumptions) in Concepts."
   ]
  },
  {
   "cell_type": "code",
   "execution_count": null,
   "id": "ad051e37",
   "metadata": {},
   "outputs": [],
   "source": [
    "rotations = rotations.assume(\"b_mas - B <= 0\").assume(\"b_givens - B <= 0\")\n",
    "rotations"
   ]
  },
  {
   "cell_type": "markdown",
   "id": "f80a441d",
   "metadata": {},
   "source": [
    "Amazing! By only adding some assumptions, and a single substitution to make the expression easier to read, we were able to rewrite the expression into a **much** more palatable form. The number of rotations we need to synthesize is simply related to which of the bits of precision is biggest, plus one!\n",
    "\n",
    "There is also no need to constantly redefine the `rewriter` variable either, since the rewriter functionality permits method chaining we could do the whole thing in one cell:"
   ]
  },
  {
   "cell_type": "code",
   "execution_count": null,
   "id": "6839e7d9",
   "metadata": {},
   "outputs": [],
   "source": [
    "rotations = sympy_rewriter(df_symbolic.resource_values[\"rotations\"])\n",
    "rotations = (\n",
    "    rotations.substitute(\"max(b_as, b_givens, b_mas)\", \"B\")\n",
    "    .assume(\"b_as > 5\")\n",
    "    .assume(\"b_mas > 5\")\n",
    "    .assume(\"b_givens > 5\")\n",
    "    .assume(\"B > 5\")\n",
    "    .assume(\"b_mas - B <= 0\")\n",
    "    .assume(\"b_givens - B <= 0\")\n",
    ")\n",
    "rotations"
   ]
  },
  {
   "cell_type": "code",
   "execution_count": null,
   "id": "19b07934",
   "metadata": {},
   "outputs": [],
   "source": [
    "## Printing the original expression for comparison!\n",
    "rotations.original"
   ]
  },
  {
   "cell_type": "markdown",
   "id": "998b553c",
   "metadata": {},
   "source": [
    "# Challenges"
   ]
  },
  {
   "cell_type": "markdown",
   "id": "94e74862",
   "metadata": {},
   "source": [
    "Here's all the steps we did above to the `rotations` expression:\n",
    "\n",
    "- **Substitute** $\\max\\left(b_{as}, b_{givens}, b_{mas}\\right)\\rightarrow B$\n",
    "- **Assume** $b_{as}>5$, $b_{givens}>5$, $b_{mas}>5$ and $B>5$\n",
    "- **Assume** $b_{as} - B \\leq 0$ and $b_{givens} - B \\leq 0$\n",
    "\n",
    "### Challenge 1\n",
    "\n",
    "Given the following descendant routine, apply the following steps to simplify the $T$-gates resource expression:\n",
    "\n",
    "- **Substitute** $\\max\\left(b_{as}, b_{givens}, b_{mas}\\right)\\rightarrow B$\n",
    "- **Assume** $B>5$\n"
   ]
  },
  {
   "cell_type": "code",
   "execution_count": null,
   "id": "43c95701",
   "metadata": {},
   "outputs": [],
   "source": [
    "one_electron_term_select: CompiledRoutine = (\n",
    "    df_symbolic.children[\"LCU_compute_0\"]\n",
    "    .children[\"DoubleFactorizationSelect_compute_0\"]\n",
    "    .children[\"OneElectronTermBlockEncoding_compute_0\"]\n",
    "    .children[\"OneElectronTermSelect_compute_0\"]\n",
    ")"
   ]
  },
  {
   "cell_type": "markdown",
   "id": "f1a30c14",
   "metadata": {},
   "source": [
    "It's worthwhile pausing to look at the expression _after_ the substitution but _before_ the assumption, to see why the simplification happens."
   ]
  },
  {
   "cell_type": "code",
   "execution_count": null,
   "id": "1daa2f1e",
   "metadata": {},
   "outputs": [],
   "source": [
    "one_electron_tgates = sympy_rewriter(one_electron_term_select.resource_values[\"t_gates\"])\n",
    "one_electron_tgates"
   ]
  },
  {
   "cell_type": "markdown",
   "id": "1a35466c",
   "metadata": {},
   "source": [
    "The substitute is not necessary, but it does make things easier! A minimal set of steps would be \n",
    "- **Assume** $\\max\\left(b_{as}, b_{givens}, b_{mas}\\right)>5$\n"
   ]
  },
  {
   "cell_type": "markdown",
   "id": "15196217",
   "metadata": {},
   "source": [
    "### Challenge 2\n",
    "\n",
    "Show that the overall number of $T$-gates (i.e. the top-level cost) is exactly:\n",
    "\n",
    "$$T\\mathrm{-gates} = 24\\min\\left(M_r, \\lceil \\log_2(R)\\rceil\\right) + 1$$"
   ]
  },
  {
   "cell_type": "markdown",
   "id": "c81c843e",
   "metadata": {},
   "source": [
    "<div class=\"alert alert-block alert-info\"> \n",
    "<b>HINT</b> \n",
    "\n",
    "After applying the assumptions and substitution from Challenge 1, you'll be left with an expression that involves a $1\\!\\mod\\left(\\cdot\\right)$ term, where the $\\cdot$ is a complex expression in-and-of-itself! There are two things to know:\n",
    "\n",
    "1) There is a difference between how SymPy _displays_ a function, and how it stores that function internally. As such, calling \n",
    "```python\n",
    "    tgates.substitute(\"1*mod(xxx)\", \"yyy\")\n",
    "``` \n",
    "will raise an error. In the SymPy library, `Mod` takes two arguments, so any substitution must be written like: \n",
    "```python\n",
    "    tgates.substitute(\"mod(1, xxx)\", \"yyy\")\n",
    "```\n",
    "\n",
    "2) To avoid writing out extremely long arguments for substitution, it's possible to use **wildcards** to substitute patterns. Prefacing a symbol with `$` will mark it as 'wild' in the `.substitute` method. For example:\n",
    "```python\n",
    "    sympy_rewriter(\"max(0, a) + max(0, b)\").substitute(\"max(0, $x)\", \"x\")  ## <--- Match all `max(0, ...)` expressions!\n",
    "    >>> a + b\n",
    "```\n",
    "Wildcard substitutions allow us to search for patterns in expressions (in this case, `max(0, ...)`). Use this fact to replace the $1\\!\\mod\\left(\\cdot\\right)$ expression!\n",
    "</div>"
   ]
  },
  {
   "cell_type": "code",
   "execution_count": null,
   "id": "3ad1dde4",
   "metadata": {},
   "outputs": [],
   "source": [
    "t_gates = sympy_rewriter(df_symbolic.resource_values[\"t_gates\"])\n",
    "t_gates"
   ]
  },
  {
   "cell_type": "markdown",
   "id": "222330e6",
   "metadata": {},
   "source": [
    "### Challenge 3"
   ]
  },
  {
   "cell_type": "markdown",
   "id": "d45caa06",
   "metadata": {},
   "source": [
    "As a bonus challenge, and assuming that the variable $\\lambda = 1$ everywhere, show that the number of Toffoli gates is\n",
    " $$ \\mathrm{Toffs} \\approx 4\\max(b_{as}, b_{mas}, b_{givens})\\left(N_{spatial} - 1\\right) + 4N_{spatial} + 4\\lceil \\log_2(R)\\rceil + 2\\lceil(\\log_2(R + 1))\\rceil + 8$$\n",
    "\n",
    "Assuming the function $\\lambda = 1$ everywhere is an aggressive assumption - making this expression only valid for a restricted set of parameters."
   ]
  },
  {
   "cell_type": "code",
   "execution_count": null,
   "id": "788a8a37",
   "metadata": {},
   "outputs": [],
   "source": [
    "toffs = sympy_rewriter(df_symbolic.resource_values[\"toffs\"])\n",
    "toffs"
   ]
  },
  {
   "cell_type": "markdown",
   "id": "8d47c000",
   "metadata": {},
   "source": [
    "<div class=\"alert alert-block alert-info\"> \n",
    "<b>INFO</b> \n",
    "\n",
    "The function `ntz` in the above expression stands for 'number of trailing zeroes', and is defined as number of zeroes before the decimal point in _binary representation_ of the number.\n",
    "\n",
    "For example: `ntz(2)=ntz(0b10) = 1`, `ntz(5)=ntz(0b101)=0`, `ntz(256)=ntz(0b100000000)=8`. \n",
    "\n",
    "In physical systems none of our symbols will be larger than ~1000, and so the lowest value this function can take is `0` and the largest value it can take is `9`. "
   ]
  },
  {
   "cell_type": "markdown",
   "id": "e4b89179",
   "metadata": {},
   "source": [
    "# Rewriter Cheat Sheet\n",
    "\n",
    "We've already seen how to substitute symbols or expressions for another with `substitute`, and to apply assumptions onto symbols and expressions with `assume`. Here we will provide a quick rundown of the most important and most powerful functions of rewriters. \n",
    "\n",
    "- `expand()`: Expand all the brackets in the expression.\n",
    "- `simplify()`: Call the built-in SymPy `simplify` functionality. Use with care!\n",
    "\n",
    "These two methods, along with `substitute` and `assume`, are the only ones that rewrite an expression. They return a new instance of the rewriter dataclass, and thus allow for method chaining. \n",
    "\n",
    "The remaining methods are useful for gathering information about the expression.\n",
    "\n",
    "- `focus(symbols: str | Iterable[str])`: Return only those terms in the expression that contain certain `symbols`. This only hides the remaining terms, it does not delete them.\n",
    "- `all_functions_and_arguments()`: Return all functions and their arguments in the expression, including nested functions.\n",
    "- `list_arguments_of_function(function_name: str)`: Return all the arguments of a given function. If the function takes multiple arguments, they are returned as a tuple in the order they appear.\n",
    "- `history()`: View a time-ordered list of all instructions applied to this instance of the rewriter.\n",
    "- `evaluate_expression(assignments: dict[str, int | float], functions_map: dict[str, callable])`: Evaluate the expression for a specific data point.\n",
    "\n",
    "The full documentation can be seen [here](https://psiq.github.io/bartiq/latest/concepts/rewriters/)."
   ]
  }
 ],
 "metadata": {
  "kernelspec": {
   "display_name": "bartiq-py3.12",
   "language": "python",
   "name": "python3"
  },
  "language_info": {
   "codemirror_mode": {
    "name": "ipython",
    "version": 3
   },
   "file_extension": ".py",
   "mimetype": "text/x-python",
   "name": "python",
   "nbconvert_exporter": "python",
   "pygments_lexer": "ipython3",
   "version": "3.12.9"
  }
 },
 "nbformat": 4,
 "nbformat_minor": 5
}
