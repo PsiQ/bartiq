{
 "cells": [
  {
   "cell_type": "markdown",
   "id": "bed865ac-7b5a-4358-bf5b-97cc7396ed65",
   "metadata": {},
   "source": [
    "# Optimizing Hyperparameters\n",
    "\n",
    "Some input parameters of Bartiq routines are directly connected to the problem being solved by the corresponding quantum program. For instance, there might be a paramter `N` representing size of the input data, or some parameters corresponding to physical properties of some molecules being simulated. On the other hand, some other parameters can be tweaked without affecting the input problem. For instance in typical QROM implementation, parameter $\\lambda$ describes a tradeoff between circuit depth and qubit highwater. Such paramters might be subject to optimization, which we will demonstrate in this part of the tutorial.\n",
    "\n",
    "We will start by loading a QREF file with an already compiled double factorization routine, and examine its input parameters."
   ]
  },
  {
   "cell_type": "code",
   "execution_count": 1,
   "id": "1a7455d8-eb9c-4cd6-8810-61d96ad2ad18",
   "metadata": {},
   "outputs": [
    {
     "data": {
      "text/plain": [
       "['M_r', 'N_spatial', 'R', 'b_as', 'b_givens', 'b_mas', 'lambda']"
      ]
     },
     "execution_count": 1,
     "metadata": {},
     "output_type": "execute_result"
    }
   ],
   "source": [
    "from bartiq import CompiledRoutine, sympy_backend, evaluate\n",
    "import yaml\n",
    "\n",
    "with open(\"./double_factorization_compiled.yaml\", \"r\") as f:\n",
    "    compiled_routine = CompiledRoutine.from_qref(yaml.safe_load(f), sympy_backend)\n",
    "\n",
    "compiled_routine.input_params"
   ]
  },
  {
   "cell_type": "markdown",
   "id": "90a04494-726a-4d41-b892-7f666218cc01",
   "metadata": {},
   "source": [
    "We will now fix all the routine input parameters related to the input problem, which essentially leaves only parameter $\\lambda$ free."
   ]
  },
  {
   "cell_type": "code",
   "execution_count": 2,
   "id": "ab1ef201-8570-4d1f-9cb7-cb36c64d6fce",
   "metadata": {},
   "outputs": [
    {
     "data": {
      "text/plain": [
       "['lambda']"
      ]
     },
     "execution_count": 2,
     "metadata": {},
     "output_type": "execute_result"
    }
   ],
   "source": [
    "assignments = {\n",
    "    \"N_spatial\": 35,\n",
    "    \"M_r\": 25,\n",
    "    \"R\": 298,\n",
    "    \"b_as\": 10,\n",
    "    \"b_mas\": 10,\n",
    "    \"b_givens\": 20\n",
    "}\n",
    "df = evaluate(compiled_routine, assignments=assignments).routine\n",
    "df.input_params # Confirm only lambda is free"
   ]
  },
  {
   "cell_type": "markdown",
   "id": "8d2861f0-f675-4ded-893e-717d1a01aa15",
   "metadata": {},
   "source": [
    "For our example, we will find the value of $\\lambda$ that minimizes the active volume of our routine. Let's first take a look at the expression that we want to minimize!"
   ]
  },
  {
   "cell_type": "code",
   "execution_count": 3,
   "id": "a900c6c3-ae1d-468a-8faa-5aba0eb17c3c",
   "metadata": {},
   "outputs": [
    {
     "data": {
      "text/latex": [
       "$\\displaystyle 84070 \\lambda + \\left(\\left\\lceil{0.75 \\lambda}\\right\\rceil + 49\\right) \\max\\left(0, \\left\\lceil{\\frac{298}{\\lambda}}\\right\\rceil - 1\\right) + \\left(\\left\\lceil{0.75 \\lambda}\\right\\rceil + 49\\right) \\max\\left(0, \\left\\lceil{\\frac{299}{\\lambda}}\\right\\rceil - 1\\right) + \\left(4 \\left\\lceil{0.75 \\lambda}\\right\\rceil + 196\\right) \\max\\left(0, \\left\\lceil{\\frac{7450}{\\lambda}}\\right\\rceil - 1\\right) + \\left(\\left\\lceil{14.25 \\lambda}\\right\\rceil + 49\\right) \\max\\left(0, \\left\\lceil{\\frac{299}{\\lambda}}\\right\\rceil - 1\\right) + \\left(2 \\left\\lceil{14.25 \\lambda}\\right\\rceil + 98\\right) \\max\\left(0, \\left\\lceil{\\frac{7450}{\\lambda}}\\right\\rceil - 1\\right) + \\left(\\left\\lceil{22.5 \\lambda}\\right\\rceil + 49\\right) \\max\\left(0, \\left\\lceil{\\frac{298}{\\lambda}}\\right\\rceil - 1\\right) + \\left(2 \\left\\lceil{510.0 \\lambda}\\right\\rceil + 98\\right) \\max\\left(0, \\left\\lceil{\\frac{7450}{\\lambda}}\\right\\rceil - 1\\right) + 292935.5$"
      ],
      "text/plain": [
       "84070*lambda + (ceiling(0.75*lambda) + 49)*Max(0, ceiling(298/lambda) - 1) + (ceiling(0.75*lambda) + 49)*Max(0, ceiling(299/lambda) - 1) + (4*ceiling(0.75*lambda) + 196)*Max(0, ceiling(7450/lambda) - 1) + (ceiling(14.25*lambda) + 49)*Max(0, ceiling(299/lambda) - 1) + (2*ceiling(14.25*lambda) + 98)*Max(0, ceiling(7450/lambda) - 1) + (ceiling(22.5*lambda) + 49)*Max(0, ceiling(298/lambda) - 1) + (2*ceiling(510.0*lambda) + 98)*Max(0, ceiling(7450/lambda) - 1) + 292935.5"
      ]
     },
     "execution_count": 3,
     "metadata": {},
     "output_type": "execute_result"
    }
   ],
   "source": [
    "active_volume = df.resource_values[\"active_volume\"]\n",
    "active_volume"
   ]
  },
  {
   "cell_type": "markdown",
   "id": "d8eee4ac-139b-4b91-8c7e-3fe1a1f6aef4",
   "metadata": {},
   "source": [
    "Nice! Indeed, our active_volume now depends only on $\\lambda$. Before we optmize it, let's note that lambda is typically restricted to be an integral power of two. Therefore, the smallest $\\lambda$ we can have is 1.\n",
    "\n",
    "How do we minimize `active_volume`? Bartiq contains a built-in optimization module. It currently only supports continuous variables, so we'll temporarily forget the assumption about `lambda` being a power of two (or even an integer). Here's how to use Bartiq's `minimize` function:"
   ]
  },
  {
   "cell_type": "code",
   "execution_count": 4,
   "id": "d9e67f4a-38c9-47d2-8c88-60b73f5fc87a",
   "metadata": {},
   "outputs": [
    {
     "name": "stdout",
     "output_type": "stream",
     "text": [
      "Optimization terminated successfully.\n",
      "         Current function value: 9137409.474244\n",
      "         Iterations: 43\n",
      "         Function evaluations: 92\n"
     ]
    },
    {
     "data": {
      "text/plain": [
       "'opt. lambda = 6.0177705988288, opt. active_volume = 9137409.47424354'"
      ]
     },
     "execution_count": 4,
     "metadata": {},
     "output_type": "execute_result"
    }
   ],
   "source": [
    "from bartiq.analysis.optimization import minimize\n",
    "\n",
    "result = minimize(\n",
    "    df.resource_values[\"active_volume\"],  # An expression to be optimized\n",
    "    param=\"lambda\",                        # Name of the free variable in the expression\n",
    "    optimizer=\"scipy\",                    # Can either use scipy or \"gradient-descent\"\n",
    "    optimizer_kwargs={                    # Params passed to the optimizer, common to all optimizers\n",
    "        \"x0\": 4,                         # x0: start optimization from lamda=4\n",
    "        \"bounds\": (1, None),              # Search in the interval [1, +infty)\n",
    "        \"max_iter\": 1000                  # Perform maximum of 1000 iterations\n",
    "    },\n",
    "    scipy_kwargs={\n",
    "        \"method\": \"Nelder-mead\"           # Scipy specific param - use \"Nelder-mead\" as optimization method\n",
    "    }\n",
    ")\n",
    "\n",
    "f\"opt. lambda = {result['optimal_value']}, opt. active_volume = {result['minimum_cost']}\""
   ]
  },
  {
   "cell_type": "markdown",
   "id": "fbdd73d5-4712-4bfb-9c08-7c314b7c7a34",
   "metadata": {},
   "source": [
    "The optimization was technically successful, but the optimal value of $\\lambda$ is not a power of two. While we may check nearby powers of 2 and choose the one minimizing active volume, there is no guarantee that this is indeed a global optimum.\n",
    "\n",
    "However, in our example, taking closer look at the expression allows us to actually find the global minimum by the means of exhaustive search. To do this, we'll instantiate an *expression rewriter* and add an assumption that `lamda >= 1` to get rid of all those pesky maximums"
   ]
  },
  {
   "cell_type": "code",
   "execution_count": 5,
   "id": "3a1b1301-9621-4149-ac59-aa5895f023a9",
   "metadata": {},
   "outputs": [
    {
     "data": {
      "text/latex": [
       "$\\displaystyle 84070 \\lambda + \\left(\\left\\lceil{0.75 \\lambda}\\right\\rceil + 49\\right) \\max\\left(0, \\left\\lceil{\\frac{298}{\\lambda}}\\right\\rceil - 1\\right) + \\left(\\left\\lceil{0.75 \\lambda}\\right\\rceil + 49\\right) \\max\\left(0, \\left\\lceil{\\frac{299}{\\lambda}}\\right\\rceil - 1\\right) + \\left(4 \\left\\lceil{0.75 \\lambda}\\right\\rceil + 196\\right) \\max\\left(0, \\left\\lceil{\\frac{7450}{\\lambda}}\\right\\rceil - 1\\right) + \\left(\\left\\lceil{14.25 \\lambda}\\right\\rceil + 49\\right) \\max\\left(0, \\left\\lceil{\\frac{299}{\\lambda}}\\right\\rceil - 1\\right) + \\left(2 \\left\\lceil{14.25 \\lambda}\\right\\rceil + 98\\right) \\max\\left(0, \\left\\lceil{\\frac{7450}{\\lambda}}\\right\\rceil - 1\\right) + \\left(\\left\\lceil{22.5 \\lambda}\\right\\rceil + 49\\right) \\max\\left(0, \\left\\lceil{\\frac{298}{\\lambda}}\\right\\rceil - 1\\right) + \\left(2 \\left\\lceil{510.0 \\lambda}\\right\\rceil + 98\\right) \\max\\left(0, \\left\\lceil{\\frac{7450}{\\lambda}}\\right\\rceil - 1\\right) + 292935.5$"
      ],
      "text/plain": [
       "SympyExpressionRewriter(expression=84070*lambda + (ceiling(0.75*lambda) + 49)*Max(0, ceiling(298/lambda) - 1) + (ceiling(0.75*lambda) + 49)*Max(0, ceiling(299/lambda) - 1) + (4*ceiling(0.75*lambda) + 196)*Max(0, ceiling(7450/lambda) - 1) + (ceiling(14.25*lambda) + 49)*Max(0, ceiling(299/lambda) - 1) + (2*ceiling(14.25*lambda) + 98)*Max(0, ceiling(7450/lambda) - 1) + (ceiling(22.5*lambda) + 49)*Max(0, ceiling(298/lambda) - 1) + (2*ceiling(510.0*lambda) + 98)*Max(0, ceiling(7450/lambda) - 1) + 292935.5, _original_expression=84070*lambda + (ceiling(0.75*lambda) + 49)*Max(0, ceiling(298/lambda) - 1) + (ceiling(0.75*lambda) + 49)*Max(0, ceiling(299/lambda) - 1) + (4*ceiling(0.75*lambda) + 196)*Max(0, ceiling(7450/lambda) - 1) + (ceiling(14.25*lambda) + 49)*Max(0, ceiling(299/lambda) - 1) + (2*ceiling(14.25*lambda) + 98)*Max(0, ceiling(7450/lambda) - 1) + (ceiling(22.5*lambda) + 49)*Max(0, ceiling(298/lambda) - 1) + (2*ceiling(510.0*lambda) + 98)*Max(0, ceiling(7450/lambda) - 1) + 292935.5, backend=<bartiq.symbolics.sympy_backend.SympyBackend object at 0x110bb28c0>, linked_symbols={}, _previous=(Assumption(symbol_name='lamda', comparator='>=', value=1), SympyExpressionRewriter(expression=84070*lambda + (ceiling(0.75*lambda) + 49)*Max(0, ceiling(298/lambda) - 1) + (ceiling(0.75*lambda) + 49)*Max(0, ceiling(299/lambda) - 1) + (4*ceiling(0.75*lambda) + 196)*Max(0, ceiling(7450/lambda) - 1) + (ceiling(14.25*lambda) + 49)*Max(0, ceiling(299/lambda) - 1) + (2*ceiling(14.25*lambda) + 98)*Max(0, ceiling(7450/lambda) - 1) + (ceiling(22.5*lambda) + 49)*Max(0, ceiling(298/lambda) - 1) + (2*ceiling(510.0*lambda) + 98)*Max(0, ceiling(7450/lambda) - 1) + 292935.5, _original_expression=84070*lambda + (ceiling(0.75*lambda) + 49)*Max(0, ceiling(298/lambda) - 1) + (ceiling(0.75*lambda) + 49)*Max(0, ceiling(299/lambda) - 1) + (4*ceiling(0.75*lambda) + 196)*Max(0, ceiling(7450/lambda) - 1) + (ceiling(14.25*lambda) + 49)*Max(0, ceiling(299/lambda) - 1) + (2*ceiling(14.25*lambda) + 98)*Max(0, ceiling(7450/lambda) - 1) + (ceiling(22.5*lambda) + 49)*Max(0, ceiling(298/lambda) - 1) + (2*ceiling(510.0*lambda) + 98)*Max(0, ceiling(7450/lambda) - 1) + 292935.5, backend=<bartiq.symbolics.sympy_backend.SympyBackend object at 0x110bb28c0>, linked_symbols={}, _previous=(Initial(), None))))"
      ]
     },
     "execution_count": 5,
     "metadata": {},
     "output_type": "execute_result"
    }
   ],
   "source": [
    "from bartiq.analysis import sympy_rewriter\n",
    "\n",
    "rewriter = sympy_rewriter(active_volume).assume(\"lamda >= 1\")\n",
    "rewriter"
   ]
  },
  {
   "cell_type": "markdown",
   "id": "4a640a08-3f16-4596-8a63-fb37f8b0b1ce",
   "metadata": {},
   "source": [
    "Now let's examine all the individual terms."
   ]
  },
  {
   "cell_type": "code",
   "execution_count": 6,
   "id": "76103333-a2c5-4fa5-9af2-21cc736f0052",
   "metadata": {},
   "outputs": [
    {
     "data": {
      "text/plain": [
       "(292935.500000000,\n",
       " 84070*lambda,\n",
       " (ceiling(0.75*lambda) + 49)*Max(0, ceiling(298/lambda) - 1),\n",
       " (ceiling(0.75*lambda) + 49)*Max(0, ceiling(299/lambda) - 1),\n",
       " (ceiling(22.5*lambda) + 49)*Max(0, ceiling(298/lambda) - 1),\n",
       " (ceiling(14.25*lambda) + 49)*Max(0, ceiling(299/lambda) - 1),\n",
       " (2*ceiling(14.25*lambda) + 98)*Max(0, ceiling(7450/lambda) - 1),\n",
       " (2*ceiling(510.0*lambda) + 98)*Max(0, ceiling(7450/lambda) - 1),\n",
       " (4*ceiling(0.75*lambda) + 196)*Max(0, ceiling(7450/lambda) - 1))"
      ]
     },
     "execution_count": 6,
     "metadata": {},
     "output_type": "execute_result"
    }
   ],
   "source": [
    "rewriter.individual_terms"
   ]
  },
  {
   "cell_type": "markdown",
   "id": "f3f8b221-2494-4010-b689-28acb22140a4",
   "metadata": {},
   "source": [
    "Remarkably, aside from two first terms, all other terms are of the form:\n",
    "$$\n",
    "term = \\left(\\left\\lceil\\frac{const}{\\lambda}\\right\\rceil-1\\right) \\cdot f(\\lambda)\n",
    "$$\n",
    "with different constants in the ceiling function and dfifferent factor $f$. All those vanish for $\\lambda > 7450$, which we can once again verify using the rewriter. "
   ]
  },
  {
   "cell_type": "code",
   "execution_count": 7,
   "id": "7486da94-35fa-4834-8093-2396820e5525",
   "metadata": {},
   "outputs": [
    {
     "data": {
      "text/latex": [
       "$\\displaystyle 84070 \\lambda + 292935.5$"
      ],
      "text/plain": [
       "SympyExpressionRewriter(expression=84070*lambda + 292935.5, _original_expression=84070*lambda + (ceiling(0.75*lambda) + 49)*Max(0, ceiling(298/lambda) - 1) + (ceiling(0.75*lambda) + 49)*Max(0, ceiling(299/lambda) - 1) + (4*ceiling(0.75*lambda) + 196)*Max(0, ceiling(7450/lambda) - 1) + (ceiling(14.25*lambda) + 49)*Max(0, ceiling(299/lambda) - 1) + (2*ceiling(14.25*lambda) + 98)*Max(0, ceiling(7450/lambda) - 1) + (ceiling(22.5*lambda) + 49)*Max(0, ceiling(298/lambda) - 1) + (2*ceiling(510.0*lambda) + 98)*Max(0, ceiling(7450/lambda) - 1) + 292935.5, backend=<bartiq.symbolics.sympy_backend.SympyBackend object at 0x110bb28c0>, linked_symbols={}, _previous=(Assumption(symbol_name='lambda', comparator='>', value=7450), SympyExpressionRewriter(expression=84070*lambda + (ceiling(0.75*lambda) + 49)*Max(0, ceiling(298/lambda) - 1) + (ceiling(0.75*lambda) + 49)*Max(0, ceiling(299/lambda) - 1) + (4*ceiling(0.75*lambda) + 196)*Max(0, ceiling(7450/lambda) - 1) + (ceiling(14.25*lambda) + 49)*Max(0, ceiling(299/lambda) - 1) + (2*ceiling(14.25*lambda) + 98)*Max(0, ceiling(7450/lambda) - 1) + (ceiling(22.5*lambda) + 49)*Max(0, ceiling(298/lambda) - 1) + (2*ceiling(510.0*lambda) + 98)*Max(0, ceiling(7450/lambda) - 1) + 292935.5, _original_expression=84070*lambda + (ceiling(0.75*lambda) + 49)*Max(0, ceiling(298/lambda) - 1) + (ceiling(0.75*lambda) + 49)*Max(0, ceiling(299/lambda) - 1) + (4*ceiling(0.75*lambda) + 196)*Max(0, ceiling(7450/lambda) - 1) + (ceiling(14.25*lambda) + 49)*Max(0, ceiling(299/lambda) - 1) + (2*ceiling(14.25*lambda) + 98)*Max(0, ceiling(7450/lambda) - 1) + (ceiling(22.5*lambda) + 49)*Max(0, ceiling(298/lambda) - 1) + (2*ceiling(510.0*lambda) + 98)*Max(0, ceiling(7450/lambda) - 1) + 292935.5, backend=<bartiq.symbolics.sympy_backend.SympyBackend object at 0x110bb28c0>, linked_symbols={}, _previous=(Assumption(symbol_name='lamda', comparator='>=', value=1), SympyExpressionRewriter(expression=84070*lambda + (ceiling(0.75*lambda) + 49)*Max(0, ceiling(298/lambda) - 1) + (ceiling(0.75*lambda) + 49)*Max(0, ceiling(299/lambda) - 1) + (4*ceiling(0.75*lambda) + 196)*Max(0, ceiling(7450/lambda) - 1) + (ceiling(14.25*lambda) + 49)*Max(0, ceiling(299/lambda) - 1) + (2*ceiling(14.25*lambda) + 98)*Max(0, ceiling(7450/lambda) - 1) + (ceiling(22.5*lambda) + 49)*Max(0, ceiling(298/lambda) - 1) + (2*ceiling(510.0*lambda) + 98)*Max(0, ceiling(7450/lambda) - 1) + 292935.5, _original_expression=84070*lambda + (ceiling(0.75*lambda) + 49)*Max(0, ceiling(298/lambda) - 1) + (ceiling(0.75*lambda) + 49)*Max(0, ceiling(299/lambda) - 1) + (4*ceiling(0.75*lambda) + 196)*Max(0, ceiling(7450/lambda) - 1) + (ceiling(14.25*lambda) + 49)*Max(0, ceiling(299/lambda) - 1) + (2*ceiling(14.25*lambda) + 98)*Max(0, ceiling(7450/lambda) - 1) + (ceiling(22.5*lambda) + 49)*Max(0, ceiling(298/lambda) - 1) + (2*ceiling(510.0*lambda) + 98)*Max(0, ceiling(7450/lambda) - 1) + 292935.5, backend=<bartiq.symbolics.sympy_backend.SympyBackend object at 0x110bb28c0>, linked_symbols={}, _previous=(Initial(), None))))))"
      ]
     },
     "execution_count": 7,
     "metadata": {},
     "output_type": "execute_result"
    }
   ],
   "source": [
    "rewriter.assume(\"lambda > 7450\")"
   ]
  },
  {
   "cell_type": "markdown",
   "id": "b4429169-1a53-4689-a838-4e387b2a6bbc",
   "metadata": {},
   "source": [
    "Fantastic! For $\\lambda > 7450$ our function is strictly increasing. Therefore, we need to consider only the values of $\\lambda$ smaller or equal to the first power of two above 7450, i.e. no larger than $2^{14} = 8192$. There's only 15 values, and we can brute-force them!"
   ]
  },
  {
   "cell_type": "code",
   "execution_count": 8,
   "id": "4137e63b-e8ca-4846-8e5e-46e1e03cea6e",
   "metadata": {},
   "outputs": [
    {
     "data": {
      "text/plain": [
       "(9180593.5, 8)"
      ]
     },
     "execution_count": 8,
     "metadata": {},
     "output_type": "execute_result"
    }
   ],
   "source": [
    "def av_func(val):\n",
    "    return sympy_backend.substitute(active_volume, {\"lambda\": val})\n",
    "\n",
    "possible_values = [(av_func(2 ** exp), 2 ** exp) for exp in range(0, 15)]\n",
    "possible_values\n",
    "\n",
    "opt_av, opt_lamda = min(possible_values)\n",
    "opt_av, opt_lamda"
   ]
  },
  {
   "cell_type": "markdown",
   "id": "11e920e4-59b3-414c-acd4-17b09015f7ba",
   "metadata": {},
   "source": [
    "So finally, we arrive at the optimal value of $\\lambda=8$."
   ]
  },
  {
   "cell_type": "markdown",
   "id": "4b22776e-de16-42a1-a255-5ea40fb0137f",
   "metadata": {},
   "source": [
    "For completeness, we can also plot the value of active volume for different exponents."
   ]
  },
  {
   "cell_type": "code",
   "execution_count": 9,
   "id": "b304410d-6200-489b-a85a-48c48a2bb678",
   "metadata": {},
   "outputs": [
    {
     "data": {
      "image/png": "[encoded data removed]",
      "text/plain": [
       "<Figure size 640x480 with 1 Axes>"
      ]
     },
     "metadata": {},
     "output_type": "display_data"
    }
   ],
   "source": [
    "from matplotlib import pyplot as plt\n",
    "exps = list(range(0, 20))  # We'll plot some more than we have to\n",
    "values = [av_func(2 ** exp) for exp in exps]\n",
    "\n",
    "fig, ax = plt.subplots()\n",
    "ax.scatter(exps, values)\n",
    "ax.set_xlabel(\"n\")\n",
    "ax.set_ylabel(\"active_volume($\\\\lambda=2^n$)\")\n",
    "ax.set_yscale(\"log\")\n",
    "ax.set_xticks(exps);"
   ]
  },
  {
   "cell_type": "markdown",
   "id": "87f4b9d3-6234-4b88-857e-2180a7b3ea8a",
   "metadata": {},
   "source": [
    "## Key takeways:\n",
    "- Some parameters in quantum programs are hyperparameters - knobs that can be tuned to optimize some target metrics.\n",
    "- Bartiq contains a built-in optimization module. However, it only works for continuous variables. If you use it for discrete variables, you can treat it only as some approximation of the optimal solution.\n",
    "- Bartiq's rewriters can help you gain insight into the expressions being optimized, which may lead to finding a global optimum even if the variable intolved in the optimization is discreete."
   ]
  },
  {
   "cell_type": "markdown",
   "id": "345b8b3f-ca83-40af-8b46-878a9f9bdb1d",
   "metadata": {},
   "source": [
    "## Exercises\n",
    "\n",
    "- Write a function `minimize_brute_force(expression, free_symbol, value_set)` that minimizes given `expression` with a single free symbol `free_symbol` by evaluating it on all arguments in the `value_set`. For example, you should be able to call it like this to minimize the active volume:\n",
    "```python\n",
    "minimize_brute_force(df.resource_values[\"active_volume\"], \"lambda\", [2 ** i for i in range(20)])\n",
    "```\n",
    "\n",
    "- Use this function combined with the reasoning we used for active volume to find a value of $\\lambda$ minimizing `gidney_lelbows` resource in the `df` routine we used in this notebook. is this the same $\\lambda$ that minimized active volume?"
   ]
  }
 ],
 "metadata": {
  "kernelspec": {
   "display_name": "Python 3 (ipykernel)",
   "language": "python",
   "name": "python3"
  },
  "language_info": {
   "codemirror_mode": {
    "name": "ipython",
    "version": 3
   },
   "file_extension": ".py",
   "mimetype": "text/x-python",
   "name": "python",
   "nbconvert_exporter": "python",
   "pygments_lexer": "ipython3",
   "version": "3.10.13"
  }
 },
 "nbformat": 4,
 "nbformat_minor": 5
}
