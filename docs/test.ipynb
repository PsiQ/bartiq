{
 "cells": [
  {
   "cell_type": "code",
   "execution_count": 2,
   "metadata": {},
   "outputs": [],
   "source": [
    "import json\n",
    "from bartiq import compile_routine, evaluate\n",
    "from qref import SchemaV1\n",
    "\n",
    "with open(\"data/alias_sampling_basic.json\", \"r\") as f:\n",
    "    routine_dict = json.load(f)\n",
    "\n",
    "uncompiled_routine = SchemaV1(**routine_dict)\n",
    "compiled_routine = compile_routine(uncompiled_routine).routine\n",
    "\n",
    "assignments = {\"L\": 100, \"mu\": 10}\n",
    "\n",
    "evaluated_routine = evaluate(compiled_routine, assignments).routine"
   ]
  },
  {
   "cell_type": "code",
   "execution_count": 5,
   "metadata": {},
   "outputs": [
    {
     "data": {
      "text/plain": [
       "Resource(name='T_gates', type=<ResourceType.additive: 'additive'>, value=O(log2(100)) + 832)"
      ]
     },
     "execution_count": 5,
     "metadata": {},
     "output_type": "execute_result"
    }
   ],
   "source": [
    "evaluated_routine.resources[\"T_gates\"]"
   ]
  },
  {
   "cell_type": "code",
   "execution_count": null,
   "metadata": {},
   "outputs": [],
   "source": []
  }
 ],
 "metadata": {
  "kernelspec": {
   "display_name": "bartiq-YEkRYBru-py3.12",
   "language": "python",
   "name": "python3"
  },
  "language_info": {
   "codemirror_mode": {
    "name": "ipython",
    "version": 3
   },
   "file_extension": ".py",
   "mimetype": "text/x-python",
   "name": "python",
   "nbconvert_exporter": "python",
   "pygments_lexer": "ipython3",
   "version": "3.12.9"
  }
 },
 "nbformat": 4,
 "nbformat_minor": 2
}
